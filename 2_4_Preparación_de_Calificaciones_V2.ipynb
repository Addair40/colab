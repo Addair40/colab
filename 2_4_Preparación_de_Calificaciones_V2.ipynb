{
  "nbformat": 4,
  "nbformat_minor": 0,
  "metadata": {
    "colab": {
      "provenance": [],
      "include_colab_link": true
    },
    "kernelspec": {
      "name": "python3",
      "display_name": "Python 3"
    },
    "language_info": {
      "name": "python"
    }
  },
  "cells": [
    {
      "cell_type": "markdown",
      "metadata": {
        "id": "view-in-github",
        "colab_type": "text"
      },
      "source": [
        "<a href=\"https://colab.research.google.com/github/Addair40/colab/blob/main/2_4_Preparaci%C3%B3n_de_Calificaciones_V2.ipynb\" target=\"_parent\"><img src=\"https://colab.research.google.com/assets/colab-badge.svg\" alt=\"Open In Colab\"/></a>"
      ]
    },
    {
      "cell_type": "markdown",
      "source": [
        "- ALUMNO: JONATHAN ADAIR RUIZ HERNANDEZ\n",
        "---\n",
        "- MATRICULA: 1719110378\n",
        "---\n",
        "- MATERIA: EXTRACION DE CONOCIMIENTO EN BASE DE DATOS\n",
        "---\n",
        "- GRUPO: IDGS 91\n",
        "---\n",
        "- FECHA: 28 DE OCTUBRE DEL 2022\n",
        "---\n",
        "DESCRIPCIÓN\n",
        "En la universidad \"ACME\" se desea calcular el promedio de cada\n",
        "uno de los alumnos, y el área de control escolar genero el archivo calificaciones_v2.csv para calcular el promedio por alumno, y tener un archivo con formato similar al archivo calificaciones_promedio_v2.csv.\n",
        "\n",
        "Su trabajo consiste en formatear el archivo calificaciones_v2.csv, calcular el promedio y generar un archivo similar como calificaciones_promedio_v2.csv\n",
        "\n",
        "Actividades:\n",
        "1.   Descargar los archivos anexos\n",
        "2.   Utlizar Colab o Jupyter Notebook para analizar los datos\n",
        "3.   Documentar el proceso de transformación de los datos\n",
        "4.   Generar el archivo calificaciones_promedio_v2.csv\n",
        "\n",
        "Resultado:\n",
        "1.   Agregar una cabecera a la Notebook de Jupyter con su     Nombre, grupo, fecha, descripción del problema\n",
        "2.   Convertir el Notebook a PDF y enviarlo para su revisión\n",
        "3.   Anexar el archivo calificaciones_promedio_v2.csv generado.\n",
        "\n",
        "\n",
        "\n",
        "\n",
        "\n"
      ],
      "metadata": {
        "id": "1nZmDECBnozr"
      }
    },
    {
      "cell_type": "markdown",
      "source": [
        "SE EXPORTA CSV PARA LEER Y ABRIR DATOS .CSV Y SE EXPORTA NUMPY PARA GENERAR, MANIPULA Y REALIZA DIFERENTES ACCIONES Y PANDAS PARA LA MANIPULACION Y MANEJO DE DATOS"
      ],
      "metadata": {
        "id": "1MzWlwCwqXLE"
      }
    },
    {
      "cell_type": "code",
      "source": [
        "#Importar librerias\n",
        "\n",
        "import csv           #leer de forma facil el archivo csv\n",
        "import numpy as np\n",
        "import pandas as pd"
      ],
      "metadata": {
        "id": "zzTd-vHzc0R2"
      },
      "execution_count": 106,
      "outputs": []
    },
    {
      "cell_type": "code",
      "source": [
        "np.__version__   #Debemos de verificar la version de trabajo de numpy"
      ],
      "metadata": {
        "colab": {
          "base_uri": "https://localhost:8080/",
          "height": 35
        },
        "id": "lWhwX22SIwUt",
        "outputId": "d27a6e7e-a66c-4084-e55b-518d99744f1b"
      },
      "execution_count": 107,
      "outputs": [
        {
          "output_type": "execute_result",
          "data": {
            "text/plain": [
              "'1.21.6'"
            ],
            "application/vnd.google.colaboratory.intrinsic+json": {
              "type": "string"
            }
          },
          "metadata": {},
          "execution_count": 107
        }
      ]
    },
    {
      "cell_type": "code",
      "source": [
        "pd.__version__   #Debemos de verificar la version de trabajo de pandas"
      ],
      "metadata": {
        "colab": {
          "base_uri": "https://localhost:8080/",
          "height": 35
        },
        "id": "ziB46iJZI0P3",
        "outputId": "1b9c34b5-474e-42f4-defa-24158188538e"
      },
      "execution_count": 108,
      "outputs": [
        {
          "output_type": "execute_result",
          "data": {
            "text/plain": [
              "'1.3.5'"
            ],
            "application/vnd.google.colaboratory.intrinsic+json": {
              "type": "string"
            }
          },
          "metadata": {},
          "execution_count": 108
        }
      ]
    },
    {
      "cell_type": "code",
      "source": [
        "csv.__version__   #Debemos de verificar la version de trabajo de csv"
      ],
      "metadata": {
        "colab": {
          "base_uri": "https://localhost:8080/",
          "height": 35
        },
        "id": "HheAHan_I0WJ",
        "outputId": "21f7c494-6935-4562-8c56-7a56e431f01e"
      },
      "execution_count": 109,
      "outputs": [
        {
          "output_type": "execute_result",
          "data": {
            "text/plain": [
              "'1.0'"
            ],
            "application/vnd.google.colaboratory.intrinsic+json": {
              "type": "string"
            }
          },
          "metadata": {},
          "execution_count": 109
        }
      ]
    },
    {
      "cell_type": "markdown",
      "source": [
        "COMENZAMOS PRINCIPALMENTE ABRIENDO EL DOCUMENTO PREVIAMENTE IMPORTADO Y DE ESTA MANERA ASI MISMO VISUALIZAR LOS DATOS QUE ESTAN DENTRO DE \"calificaciones_v2.csv\""
      ],
      "metadata": {
        "id": "BaxO2kA4qbhD"
      }
    },
    {
      "cell_type": "code",
      "execution_count": 117,
      "metadata": {
        "id": "mw5aPr76cGJC"
      },
      "outputs": [],
      "source": [
        "archivo = pd.read_csv('calificaciones_v2.csv', header=None)"
      ]
    },
    {
      "cell_type": "code",
      "source": [
        "archivo"
      ],
      "metadata": {
        "colab": {
          "base_uri": "https://localhost:8080/",
          "height": 0
        },
        "id": "abukGdFfJ26F",
        "outputId": "9408383e-d2ef-4754-aea5-e2789a559de7"
      },
      "execution_count": 175,
      "outputs": [
        {
          "output_type": "execute_result",
          "data": {
            "text/plain": [
              "array([['11111111', 'Alumno 1', 'TI11', '1', '8', '1', '7', '2',\n",
              "        'regular'],\n",
              "       ['11111112', 'Alumno 2', 'TI11', '10', '7', '1', '8', '5',\n",
              "        'regular'],\n",
              "       ['11111113', 'Alumno 3', 'TI11', nan, '1', '1', '3', '0',\n",
              "        'regular'],\n",
              "       ['11111114', 'Alumno 4', 'TI11', nan, '4', '3', '2', '7',\n",
              "        'regular'],\n",
              "       ['11111115', 'Alumno 5', 'TI11', '9', '10', '3', '9', '2',\n",
              "        'regular'],\n",
              "       ['11111116', 'Alumno 6', 'TI11', '1', '3', '8', '1', '7',\n",
              "        'regular'],\n",
              "       ['11111117', 'Alumno 7', 'TI11', '4', '7', '1', '6', '5',\n",
              "        'regular'],\n",
              "       ['11111118', 'Alumno 8', 'TI11', '10', '1', '7', '10', '0',\n",
              "        'regular'],\n",
              "       ['11111119', 'Alumno 9', 'TI11', '5', '5', '4', '0', '3',\n",
              "        'regular'],\n",
              "       ['11111120', 'Alumno 10', 'TI11', '5', '7', '3', '3', '4',\n",
              "        'regular'],\n",
              "       ['11111121', 'Alumno 11', 'TI11', '6', '1', '3', '7', '0',\n",
              "        'regular'],\n",
              "       ['11111122', 'Alumno 12', 'TI11', '7', '2', '5', '4', '5',\n",
              "        'regular'],\n",
              "       ['11111123', 'Alumno 13', 'TI12', '5', '2', '3', '0', '1',\n",
              "        'regular'],\n",
              "       ['11111124', 'Alumno 14', 'TI12', '5', '2', '10', '0', '6',\n",
              "        'regular'],\n",
              "       ['11111125', 'Alumno 15', 'TI12', '9', '9', '1', '3', '1',\n",
              "        'regular'],\n",
              "       ['11111126', 'Alumno 16', 'TI12', '1', '2', '1', '7', '7',\n",
              "        'regular'],\n",
              "       ['11111127', 'Alumno 17', 'TI12', '0', '2', '1', '0', '2',\n",
              "        'regular'],\n",
              "       ['11111128', 'Alumno 18', 'TI12', '0', '1', '4', '7', '6',\n",
              "        'regular'],\n",
              "       ['11111129', 'Alumno 19', 'TI12', '0', '8', '7', '8', '2',\n",
              "        'regular'],\n",
              "       ['11111130', 'Alumno 20', 'TI12', '4', '0', '5', '0', '4',\n",
              "        'regular'],\n",
              "       ['11111131', 'Alumno 21', 'TI12', '6', '4', '2', '10', '10',\n",
              "        'regular'],\n",
              "       ['11111132', 'Alumno 22', 'TI12', '5', '6', '9', '0', '3',\n",
              "        'regular'],\n",
              "       ['11111133', 'Alumno 23', 'TI12', '1', '9', '7', '7', '6',\n",
              "        'regular'],\n",
              "       ['11111134', 'Alumno 24', 'TI41', '4', '0', '10', '7', '0',\n",
              "        'regular'],\n",
              "       ['11111135', 'Alumno 25', 'TI41', '3', '3', '0', '8', '5',\n",
              "        'regular'],\n",
              "       ['11111136', 'Alumno 26', 'TI41', '0', '5', '7', '2', '5',\n",
              "        'regular'],\n",
              "       ['11111137', 'Alumno 27', 'TI41', '0', '0', '6', '0', '5',\n",
              "        'regular'],\n",
              "       ['11111138', 'Alumno 28', 'TI41', '9', '3', '10', '9', '6',\n",
              "        'regular'],\n",
              "       ['11111139', 'Alumno 29', 'TI41', '0', '5', '1', '10', '1',\n",
              "        'regular'],\n",
              "       ['11111140', 'Alumno 30', 'TI41', '3', '3', '5', '9', '9',\n",
              "        'regular'],\n",
              "       ['11111141', 'Alumno 31', 'TI41', '10', '10', '4', '1', '4',\n",
              "        'regular'],\n",
              "       ['11111142', 'Alumno 32', 'TI41', '6', '0', '5', '3', '2',\n",
              "        'regular'],\n",
              "       ['11111143', 'Alumno 33', 'IDGS91', '0', '4', '1', '7', '9',\n",
              "        'regular'],\n",
              "       ['11111144', 'Alumno 34', 'IDGS91', '1', '1', '2', '3', '8',\n",
              "        'regular'],\n",
              "       ['11111145', 'Alumno 35', 'IDGS91', '0', '7', '10', '7', '7',\n",
              "        'regular'],\n",
              "       ['11111146', 'Alumno 36', 'IDGS91', '7', '1', '4', '0', '6',\n",
              "        'regular'],\n",
              "       ['11111147', 'Alumno 37', 'IDGS91', '6', '6', '4', '3', '0',\n",
              "        'regular'],\n",
              "       ['11111148', 'Alumno 38', 'IDGS91', '0', '6', '6', '3', '5',\n",
              "        'regular'],\n",
              "       ['11111149', 'Alumno 39', 'IDGS91', '8', '7', '9', '5', '2',\n",
              "        'regular'],\n",
              "       ['11111150', 'Alumno 40', 'IDGS91', '1', '0', '3', '4', '10',\n",
              "        'regular'],\n",
              "       ['11111151', 'Alumno 41', 'IDGS91', '6', '5', '1', '5', '9',\n",
              "        'regular'],\n",
              "       ['11111152', 'Alumno 42', 'IDGS91', '2', '0', '9', '9', '5',\n",
              "        'regular'],\n",
              "       ['11111153', 'Alumno 43', 'IDGS91', '3', '4', '0', '0', '0',\n",
              "        'regular'],\n",
              "       ['11111154', 'Alumno 44', 'IDGS91', '3', '1', '1', '7', '10',\n",
              "        'regular'],\n",
              "       ['11111155', 'Alumno 45', 'IDGS91', '4', '1', '2', '8', '6',\n",
              "        'regular'],\n",
              "       ['11111156', 'Alumno 46', 'IDGS71', '10', '1', '10', '0', '7',\n",
              "        'regular'],\n",
              "       ['11111157', 'Alumno 47', 'IDGS71', '9', '10', '1', '3', '9',\n",
              "        'regular'],\n",
              "       ['11111158', 'Alumno 48', 'IDGS71', '4', '4', '10', '6', '8',\n",
              "        '10']], dtype=object)"
            ]
          },
          "metadata": {},
          "execution_count": 175
        }
      ]
    },
    {
      "cell_type": "markdown",
      "source": [
        "PROCESO PARA ELIMINAR DATOS INECESARIOS Y/O DUPLICADOS DENTRO DEL ARCHIVO \"calificaciones_v2.csv\" DE MANERA MANUAL"
      ],
      "metadata": {
        "id": "jcgsXu7Pqj6n"
      }
    },
    {
      "cell_type": "code",
      "source": [
        "archivo = archivo.drop([8,108,109,435])"
      ],
      "metadata": {
        "id": "1OMuhwIzc7zG"
      },
      "execution_count": 119,
      "outputs": []
    },
    {
      "cell_type": "code",
      "source": [
        "archivo"
      ],
      "metadata": {
        "colab": {
          "base_uri": "https://localhost:8080/",
          "height": 0
        },
        "id": "3jACBFCaKS2j",
        "outputId": "625ef034-7ffc-465c-be86-ec137f74af00"
      },
      "execution_count": 174,
      "outputs": [
        {
          "output_type": "execute_result",
          "data": {
            "text/plain": [
              "array([['11111111', 'Alumno 1', 'TI11', '1', '8', '1', '7', '2',\n",
              "        'regular'],\n",
              "       ['11111112', 'Alumno 2', 'TI11', '10', '7', '1', '8', '5',\n",
              "        'regular'],\n",
              "       ['11111113', 'Alumno 3', 'TI11', nan, '1', '1', '3', '0',\n",
              "        'regular'],\n",
              "       ['11111114', 'Alumno 4', 'TI11', nan, '4', '3', '2', '7',\n",
              "        'regular'],\n",
              "       ['11111115', 'Alumno 5', 'TI11', '9', '10', '3', '9', '2',\n",
              "        'regular'],\n",
              "       ['11111116', 'Alumno 6', 'TI11', '1', '3', '8', '1', '7',\n",
              "        'regular'],\n",
              "       ['11111117', 'Alumno 7', 'TI11', '4', '7', '1', '6', '5',\n",
              "        'regular'],\n",
              "       ['11111118', 'Alumno 8', 'TI11', '10', '1', '7', '10', '0',\n",
              "        'regular'],\n",
              "       ['11111119', 'Alumno 9', 'TI11', '5', '5', '4', '0', '3',\n",
              "        'regular'],\n",
              "       ['11111120', 'Alumno 10', 'TI11', '5', '7', '3', '3', '4',\n",
              "        'regular'],\n",
              "       ['11111121', 'Alumno 11', 'TI11', '6', '1', '3', '7', '0',\n",
              "        'regular'],\n",
              "       ['11111122', 'Alumno 12', 'TI11', '7', '2', '5', '4', '5',\n",
              "        'regular'],\n",
              "       ['11111123', 'Alumno 13', 'TI12', '5', '2', '3', '0', '1',\n",
              "        'regular'],\n",
              "       ['11111124', 'Alumno 14', 'TI12', '5', '2', '10', '0', '6',\n",
              "        'regular'],\n",
              "       ['11111125', 'Alumno 15', 'TI12', '9', '9', '1', '3', '1',\n",
              "        'regular'],\n",
              "       ['11111126', 'Alumno 16', 'TI12', '1', '2', '1', '7', '7',\n",
              "        'regular'],\n",
              "       ['11111127', 'Alumno 17', 'TI12', '0', '2', '1', '0', '2',\n",
              "        'regular'],\n",
              "       ['11111128', 'Alumno 18', 'TI12', '0', '1', '4', '7', '6',\n",
              "        'regular'],\n",
              "       ['11111129', 'Alumno 19', 'TI12', '0', '8', '7', '8', '2',\n",
              "        'regular'],\n",
              "       ['11111130', 'Alumno 20', 'TI12', '4', '0', '5', '0', '4',\n",
              "        'regular'],\n",
              "       ['11111131', 'Alumno 21', 'TI12', '6', '4', '2', '10', '10',\n",
              "        'regular'],\n",
              "       ['11111132', 'Alumno 22', 'TI12', '5', '6', '9', '0', '3',\n",
              "        'regular'],\n",
              "       ['11111133', 'Alumno 23', 'TI12', '1', '9', '7', '7', '6',\n",
              "        'regular'],\n",
              "       ['11111134', 'Alumno 24', 'TI41', '4', '0', '10', '7', '0',\n",
              "        'regular'],\n",
              "       ['11111135', 'Alumno 25', 'TI41', '3', '3', '0', '8', '5',\n",
              "        'regular'],\n",
              "       ['11111136', 'Alumno 26', 'TI41', '0', '5', '7', '2', '5',\n",
              "        'regular'],\n",
              "       ['11111137', 'Alumno 27', 'TI41', '0', '0', '6', '0', '5',\n",
              "        'regular'],\n",
              "       ['11111138', 'Alumno 28', 'TI41', '9', '3', '10', '9', '6',\n",
              "        'regular'],\n",
              "       ['11111139', 'Alumno 29', 'TI41', '0', '5', '1', '10', '1',\n",
              "        'regular'],\n",
              "       ['11111140', 'Alumno 30', 'TI41', '3', '3', '5', '9', '9',\n",
              "        'regular'],\n",
              "       ['11111141', 'Alumno 31', 'TI41', '10', '10', '4', '1', '4',\n",
              "        'regular'],\n",
              "       ['11111142', 'Alumno 32', 'TI41', '6', '0', '5', '3', '2',\n",
              "        'regular'],\n",
              "       ['11111143', 'Alumno 33', 'IDGS91', '0', '4', '1', '7', '9',\n",
              "        'regular'],\n",
              "       ['11111144', 'Alumno 34', 'IDGS91', '1', '1', '2', '3', '8',\n",
              "        'regular'],\n",
              "       ['11111145', 'Alumno 35', 'IDGS91', '0', '7', '10', '7', '7',\n",
              "        'regular'],\n",
              "       ['11111146', 'Alumno 36', 'IDGS91', '7', '1', '4', '0', '6',\n",
              "        'regular'],\n",
              "       ['11111147', 'Alumno 37', 'IDGS91', '6', '6', '4', '3', '0',\n",
              "        'regular'],\n",
              "       ['11111148', 'Alumno 38', 'IDGS91', '0', '6', '6', '3', '5',\n",
              "        'regular'],\n",
              "       ['11111149', 'Alumno 39', 'IDGS91', '8', '7', '9', '5', '2',\n",
              "        'regular'],\n",
              "       ['11111150', 'Alumno 40', 'IDGS91', '1', '0', '3', '4', '10',\n",
              "        'regular'],\n",
              "       ['11111151', 'Alumno 41', 'IDGS91', '6', '5', '1', '5', '9',\n",
              "        'regular'],\n",
              "       ['11111152', 'Alumno 42', 'IDGS91', '2', '0', '9', '9', '5',\n",
              "        'regular'],\n",
              "       ['11111153', 'Alumno 43', 'IDGS91', '3', '4', '0', '0', '0',\n",
              "        'regular'],\n",
              "       ['11111154', 'Alumno 44', 'IDGS91', '3', '1', '1', '7', '10',\n",
              "        'regular'],\n",
              "       ['11111155', 'Alumno 45', 'IDGS91', '4', '1', '2', '8', '6',\n",
              "        'regular'],\n",
              "       ['11111156', 'Alumno 46', 'IDGS71', '10', '1', '10', '0', '7',\n",
              "        'regular'],\n",
              "       ['11111157', 'Alumno 47', 'IDGS71', '9', '10', '1', '3', '9',\n",
              "        'regular'],\n",
              "       ['11111158', 'Alumno 48', 'IDGS71', '4', '4', '10', '6', '8',\n",
              "        '10']], dtype=object)"
            ]
          },
          "metadata": {},
          "execution_count": 174
        }
      ]
    },
    {
      "cell_type": "code",
      "source": [
        "califi = archivo.to_numpy() "
      ],
      "metadata": {
        "id": "9u5qqDEDdFEW"
      },
      "execution_count": 123,
      "outputs": []
    },
    {
      "cell_type": "code",
      "source": [
        "califi"
      ],
      "metadata": {
        "colab": {
          "base_uri": "https://localhost:8080/",
          "height": 0
        },
        "id": "21swKfTpK2ew",
        "outputId": "64592b5c-af79-4d67-d18e-ceda719083fd"
      },
      "execution_count": 124,
      "outputs": [
        {
          "output_type": "execute_result",
          "data": {
            "text/plain": [
              "array([['matricula', '11111111'],\n",
              "       ['nombre', 'Alumno 1'],\n",
              "       ['grupo', 'TI11'],\n",
              "       ['Materia 1', '1'],\n",
              "       ['Materia 2', '8'],\n",
              "       ['Materia 3', '1'],\n",
              "       ['Materia 4', '7'],\n",
              "       ['Materia 5', '2'],\n",
              "       ['estado', 'regular'],\n",
              "       ['matricula', '11111112'],\n",
              "       ['nombre', 'Alumno 2'],\n",
              "       ['grupo', 'TI11'],\n",
              "       ['Materia 1', '10'],\n",
              "       ['Materia 2', '7'],\n",
              "       ['Materia 3', '1'],\n",
              "       ['Materia 4', '8'],\n",
              "       ['Materia 5', '5'],\n",
              "       ['estado', 'regular'],\n",
              "       ['matricula', '11111113'],\n",
              "       ['nombre', 'Alumno 3'],\n",
              "       ['grupo', 'TI11'],\n",
              "       ['Materia 1', nan],\n",
              "       ['Materia 2', '1'],\n",
              "       ['Materia 3', '1'],\n",
              "       ['Materia 4', '3'],\n",
              "       ['Materia 5', '0'],\n",
              "       ['estado', 'regular'],\n",
              "       ['matricula', '11111114'],\n",
              "       ['nombre', 'Alumno 4'],\n",
              "       ['grupo', 'TI11'],\n",
              "       ['Materia 1', nan],\n",
              "       ['Materia 2', '4'],\n",
              "       ['Materia 3', '3'],\n",
              "       ['Materia 4', '2'],\n",
              "       ['Materia 5', '7'],\n",
              "       ['estado', 'regular'],\n",
              "       ['matricula', '11111115'],\n",
              "       ['nombre', 'Alumno 5'],\n",
              "       ['grupo', 'TI11'],\n",
              "       ['Materia 1', '9'],\n",
              "       ['Materia 2', '10'],\n",
              "       ['Materia 3', '3'],\n",
              "       ['Materia 4', '9'],\n",
              "       ['Materia 5', '2'],\n",
              "       ['estado', 'regular'],\n",
              "       ['matricula', '11111116'],\n",
              "       ['nombre', 'Alumno 6'],\n",
              "       ['grupo', 'TI11'],\n",
              "       ['Materia 1', '1'],\n",
              "       ['Materia 2', '3'],\n",
              "       ['Materia 3', '8'],\n",
              "       ['Materia 4', '1'],\n",
              "       ['Materia 5', '7'],\n",
              "       ['estado', 'regular'],\n",
              "       ['matricula', '11111117'],\n",
              "       ['nombre', 'Alumno 7'],\n",
              "       ['grupo', 'TI11'],\n",
              "       ['Materia 1', '4'],\n",
              "       ['Materia 2', '7'],\n",
              "       ['Materia 3', '1'],\n",
              "       ['Materia 4', '6'],\n",
              "       ['Materia 5', '5'],\n",
              "       ['estado', 'regular'],\n",
              "       ['matricula', '11111118'],\n",
              "       ['nombre', 'Alumno 8'],\n",
              "       ['grupo', 'TI11'],\n",
              "       ['Materia 1', '10'],\n",
              "       ['Materia 2', '1'],\n",
              "       ['Materia 3', '7'],\n",
              "       ['Materia 4', '10'],\n",
              "       ['Materia 5', '0'],\n",
              "       ['estado', 'regular'],\n",
              "       ['matricula', '11111119'],\n",
              "       ['nombre', 'Alumno 9'],\n",
              "       ['grupo', 'TI11'],\n",
              "       ['Materia 1', '5'],\n",
              "       ['Materia 2', '5'],\n",
              "       ['Materia 3', '4'],\n",
              "       ['Materia 4', '0'],\n",
              "       ['Materia 5', '3'],\n",
              "       ['estado', 'regular'],\n",
              "       ['matricula', '11111120'],\n",
              "       ['nombre', 'Alumno 10'],\n",
              "       ['grupo', 'TI11'],\n",
              "       ['Materia 1', '5'],\n",
              "       ['Materia 2', '7'],\n",
              "       ['Materia 3', '3'],\n",
              "       ['Materia 4', '3'],\n",
              "       ['Materia 5', '4'],\n",
              "       ['estado', 'regular'],\n",
              "       ['matricula', '11111121'],\n",
              "       ['nombre', 'Alumno 11'],\n",
              "       ['grupo', 'TI11'],\n",
              "       ['Materia 1', '6'],\n",
              "       ['Materia 2', '1'],\n",
              "       ['Materia 3', '3'],\n",
              "       ['Materia 4', '7'],\n",
              "       ['Materia 5', '0'],\n",
              "       ['estado', 'regular'],\n",
              "       ['matricula', '11111122'],\n",
              "       ['nombre', 'Alumno 12'],\n",
              "       ['grupo', 'TI11'],\n",
              "       ['Materia 1', '7'],\n",
              "       ['Materia 2', '2'],\n",
              "       ['Materia 3', '5'],\n",
              "       ['Materia 4', '4'],\n",
              "       ['Materia 5', '5'],\n",
              "       ['estado', 'regular'],\n",
              "       ['matricula', '11111123'],\n",
              "       ['nombre', 'Alumno 13'],\n",
              "       ['grupo', 'TI12'],\n",
              "       ['Materia 1', '5'],\n",
              "       ['Materia 2', '2'],\n",
              "       ['Materia 3', '3'],\n",
              "       ['Materia 4', '0'],\n",
              "       ['Materia 5', '1'],\n",
              "       ['estado', 'regular'],\n",
              "       ['matricula', '11111124'],\n",
              "       ['nombre', 'Alumno 14'],\n",
              "       ['grupo', 'TI12'],\n",
              "       ['Materia 1', '5'],\n",
              "       ['Materia 2', '2'],\n",
              "       ['Materia 3', '10'],\n",
              "       ['Materia 4', '0'],\n",
              "       ['Materia 5', '6'],\n",
              "       ['estado', 'regular'],\n",
              "       ['matricula', '11111125'],\n",
              "       ['nombre', 'Alumno 15'],\n",
              "       ['grupo', 'TI12'],\n",
              "       ['Materia 1', '9'],\n",
              "       ['Materia 2', '9'],\n",
              "       ['Materia 3', '1'],\n",
              "       ['Materia 4', '3'],\n",
              "       ['Materia 5', '1'],\n",
              "       ['estado', 'regular'],\n",
              "       ['matricula', '11111126'],\n",
              "       ['nombre', 'Alumno 16'],\n",
              "       ['grupo', 'TI12'],\n",
              "       ['Materia 1', '1'],\n",
              "       ['Materia 2', '2'],\n",
              "       ['Materia 3', '1'],\n",
              "       ['Materia 4', '7'],\n",
              "       ['Materia 5', '7'],\n",
              "       ['estado', 'regular'],\n",
              "       ['matricula', '11111127'],\n",
              "       ['nombre', 'Alumno 17'],\n",
              "       ['grupo', 'TI12'],\n",
              "       ['Materia 1', '0'],\n",
              "       ['Materia 2', '2'],\n",
              "       ['Materia 3', '1'],\n",
              "       ['Materia 4', '0'],\n",
              "       ['Materia 5', '2'],\n",
              "       ['estado', 'regular'],\n",
              "       ['matricula', '11111128'],\n",
              "       ['nombre', 'Alumno 18'],\n",
              "       ['grupo', 'TI12'],\n",
              "       ['Materia 1', '0'],\n",
              "       ['Materia 2', '1'],\n",
              "       ['Materia 3', '4'],\n",
              "       ['Materia 4', '7'],\n",
              "       ['Materia 5', '6'],\n",
              "       ['estado', 'regular'],\n",
              "       ['matricula', '11111129'],\n",
              "       ['nombre', 'Alumno 19'],\n",
              "       ['grupo', 'TI12'],\n",
              "       ['Materia 1', '0'],\n",
              "       ['Materia 2', '8'],\n",
              "       ['Materia 3', '7'],\n",
              "       ['Materia 4', '8'],\n",
              "       ['Materia 5', '2'],\n",
              "       ['estado', 'regular'],\n",
              "       ['matricula', '11111130'],\n",
              "       ['nombre', 'Alumno 20'],\n",
              "       ['grupo', 'TI12'],\n",
              "       ['Materia 1', '4'],\n",
              "       ['Materia 2', '0'],\n",
              "       ['Materia 3', '5'],\n",
              "       ['Materia 4', '0'],\n",
              "       ['Materia 5', '4'],\n",
              "       ['estado', 'regular'],\n",
              "       ['matricula', '11111131'],\n",
              "       ['nombre', 'Alumno 21'],\n",
              "       ['grupo', 'TI12'],\n",
              "       ['Materia 1', '6'],\n",
              "       ['Materia 2', '4'],\n",
              "       ['Materia 3', '2'],\n",
              "       ['Materia 4', '10'],\n",
              "       ['Materia 5', '10'],\n",
              "       ['estado', 'regular'],\n",
              "       ['matricula', '11111132'],\n",
              "       ['nombre', 'Alumno 22'],\n",
              "       ['grupo', 'TI12'],\n",
              "       ['Materia 1', '5'],\n",
              "       ['Materia 2', '6'],\n",
              "       ['Materia 3', '9'],\n",
              "       ['Materia 4', '0'],\n",
              "       ['Materia 5', '3'],\n",
              "       ['estado', 'regular'],\n",
              "       ['matricula', '11111133'],\n",
              "       ['nombre', 'Alumno 23'],\n",
              "       ['grupo', 'TI12'],\n",
              "       ['Materia 1', '1'],\n",
              "       ['Materia 2', '9'],\n",
              "       ['Materia 3', '7'],\n",
              "       ['Materia 4', '7'],\n",
              "       ['Materia 5', '6'],\n",
              "       ['estado', 'regular'],\n",
              "       ['matricula', '11111134'],\n",
              "       ['nombre', 'Alumno 24'],\n",
              "       ['grupo', 'TI41'],\n",
              "       ['Materia 1', '4'],\n",
              "       ['Materia 2', '0'],\n",
              "       ['Materia 3', '10'],\n",
              "       ['Materia 4', '7'],\n",
              "       ['Materia 5', '0'],\n",
              "       ['estado', 'regular'],\n",
              "       ['matricula', '11111135'],\n",
              "       ['nombre', 'Alumno 25'],\n",
              "       ['grupo', 'TI41'],\n",
              "       ['Materia 1', '3'],\n",
              "       ['Materia 2', '3'],\n",
              "       ['Materia 3', '0'],\n",
              "       ['Materia 4', '8'],\n",
              "       ['Materia 5', '5'],\n",
              "       ['estado', 'regular'],\n",
              "       ['matricula', '11111136'],\n",
              "       ['nombre', 'Alumno 26'],\n",
              "       ['grupo', 'TI41'],\n",
              "       ['Materia 1', '0'],\n",
              "       ['Materia 2', '5'],\n",
              "       ['Materia 3', '7'],\n",
              "       ['Materia 4', '2'],\n",
              "       ['Materia 5', '5'],\n",
              "       ['estado', 'regular'],\n",
              "       ['matricula', '11111137'],\n",
              "       ['nombre', 'Alumno 27'],\n",
              "       ['grupo', 'TI41'],\n",
              "       ['Materia 1', '0'],\n",
              "       ['Materia 2', '0'],\n",
              "       ['Materia 3', '6'],\n",
              "       ['Materia 4', '0'],\n",
              "       ['Materia 5', '5'],\n",
              "       ['estado', 'regular'],\n",
              "       ['matricula', '11111138'],\n",
              "       ['nombre', 'Alumno 28'],\n",
              "       ['grupo', 'TI41'],\n",
              "       ['Materia 1', '9'],\n",
              "       ['Materia 2', '3'],\n",
              "       ['Materia 3', '10'],\n",
              "       ['Materia 4', '9'],\n",
              "       ['Materia 5', '6'],\n",
              "       ['estado', 'regular'],\n",
              "       ['matricula', '11111139'],\n",
              "       ['nombre', 'Alumno 29'],\n",
              "       ['grupo', 'TI41'],\n",
              "       ['Materia 1', '0'],\n",
              "       ['Materia 2', '5'],\n",
              "       ['Materia 3', '1'],\n",
              "       ['Materia 4', '10'],\n",
              "       ['Materia 5', '1'],\n",
              "       ['estado', 'regular'],\n",
              "       ['matricula', '11111140'],\n",
              "       ['nombre', 'Alumno 30'],\n",
              "       ['grupo', 'TI41'],\n",
              "       ['Materia 1', '3'],\n",
              "       ['Materia 2', '3'],\n",
              "       ['Materia 3', '5'],\n",
              "       ['Materia 4', '9'],\n",
              "       ['Materia 5', '9'],\n",
              "       ['estado', 'regular'],\n",
              "       ['matricula', '11111141'],\n",
              "       ['nombre', 'Alumno 31'],\n",
              "       ['grupo', 'TI41'],\n",
              "       ['Materia 1', '10'],\n",
              "       ['Materia 2', '10'],\n",
              "       ['Materia 3', '4'],\n",
              "       ['Materia 4', '1'],\n",
              "       ['Materia 5', '4'],\n",
              "       ['estado', 'regular'],\n",
              "       ['matricula', '11111142'],\n",
              "       ['nombre', 'Alumno 32'],\n",
              "       ['grupo', 'TI41'],\n",
              "       ['Materia 1', '6'],\n",
              "       ['Materia 2', '0'],\n",
              "       ['Materia 3', '5'],\n",
              "       ['Materia 4', '3'],\n",
              "       ['Materia 5', '2'],\n",
              "       ['estado', 'regular'],\n",
              "       ['matricula', '11111143'],\n",
              "       ['nombre', 'Alumno 33'],\n",
              "       ['grupo', 'IDGS91'],\n",
              "       ['Materia 1', '0'],\n",
              "       ['Materia 2', '4'],\n",
              "       ['Materia 3', '1'],\n",
              "       ['Materia 4', '7'],\n",
              "       ['Materia 5', '9'],\n",
              "       ['estado', 'regular'],\n",
              "       ['matricula', '11111144'],\n",
              "       ['nombre', 'Alumno 34'],\n",
              "       ['grupo', 'IDGS91'],\n",
              "       ['Materia 1', '1'],\n",
              "       ['Materia 2', '1'],\n",
              "       ['Materia 3', '2'],\n",
              "       ['Materia 4', '3'],\n",
              "       ['Materia 5', '8'],\n",
              "       ['estado', 'regular'],\n",
              "       ['matricula', '11111145'],\n",
              "       ['nombre', 'Alumno 35'],\n",
              "       ['grupo', 'IDGS91'],\n",
              "       ['Materia 1', '0'],\n",
              "       ['Materia 2', '7'],\n",
              "       ['Materia 3', '10'],\n",
              "       ['Materia 4', '7'],\n",
              "       ['Materia 5', '7'],\n",
              "       ['estado', 'regular'],\n",
              "       ['matricula', '11111146'],\n",
              "       ['nombre', 'Alumno 36'],\n",
              "       ['grupo', 'IDGS91'],\n",
              "       ['Materia 1', '7'],\n",
              "       ['Materia 2', '1'],\n",
              "       ['Materia 3', '4'],\n",
              "       ['Materia 4', '0'],\n",
              "       ['Materia 5', '6'],\n",
              "       ['estado', 'regular'],\n",
              "       ['matricula', '11111147'],\n",
              "       ['nombre', 'Alumno 37'],\n",
              "       ['grupo', 'IDGS91'],\n",
              "       ['Materia 1', '6'],\n",
              "       ['Materia 2', '6'],\n",
              "       ['Materia 3', '4'],\n",
              "       ['Materia 4', '3'],\n",
              "       ['Materia 5', '0'],\n",
              "       ['estado', 'regular'],\n",
              "       ['matricula', '11111148'],\n",
              "       ['nombre', 'Alumno 38'],\n",
              "       ['grupo', 'IDGS91'],\n",
              "       ['Materia 1', '0'],\n",
              "       ['Materia 2', '6'],\n",
              "       ['Materia 3', '6'],\n",
              "       ['Materia 4', '3'],\n",
              "       ['Materia 5', '5'],\n",
              "       ['estado', 'regular'],\n",
              "       ['matricula', '11111149'],\n",
              "       ['nombre', 'Alumno 39'],\n",
              "       ['grupo', 'IDGS91'],\n",
              "       ['Materia 1', '8'],\n",
              "       ['Materia 2', '7'],\n",
              "       ['Materia 3', '9'],\n",
              "       ['Materia 4', '5'],\n",
              "       ['Materia 5', '2'],\n",
              "       ['estado', 'regular'],\n",
              "       ['matricula', '11111150'],\n",
              "       ['nombre', 'Alumno 40'],\n",
              "       ['grupo', 'IDGS91'],\n",
              "       ['Materia 1', '1'],\n",
              "       ['Materia 2', '0'],\n",
              "       ['Materia 3', '3'],\n",
              "       ['Materia 4', '4'],\n",
              "       ['Materia 5', '10'],\n",
              "       ['estado', 'regular'],\n",
              "       ['matricula', '11111151'],\n",
              "       ['nombre', 'Alumno 41'],\n",
              "       ['grupo', 'IDGS91'],\n",
              "       ['Materia 1', '6'],\n",
              "       ['Materia 2', '5'],\n",
              "       ['Materia 3', '1'],\n",
              "       ['Materia 4', '5'],\n",
              "       ['Materia 5', '9'],\n",
              "       ['estado', 'regular'],\n",
              "       ['matricula', '11111152'],\n",
              "       ['nombre', 'Alumno 42'],\n",
              "       ['grupo', 'IDGS91'],\n",
              "       ['Materia 1', '2'],\n",
              "       ['Materia 2', '0'],\n",
              "       ['Materia 3', '9'],\n",
              "       ['Materia 4', '9'],\n",
              "       ['Materia 5', '5'],\n",
              "       ['estado', 'regular'],\n",
              "       ['matricula', '11111153'],\n",
              "       ['nombre', 'Alumno 43'],\n",
              "       ['grupo', 'IDGS91'],\n",
              "       ['Materia 1', '3'],\n",
              "       ['Materia 2', '4'],\n",
              "       ['Materia 3', '0'],\n",
              "       ['Materia 4', '0'],\n",
              "       ['Materia 5', '0'],\n",
              "       ['estado', 'regular'],\n",
              "       ['matricula', '11111154'],\n",
              "       ['nombre', 'Alumno 44'],\n",
              "       ['grupo', 'IDGS91'],\n",
              "       ['Materia 1', '3'],\n",
              "       ['Materia 2', '1'],\n",
              "       ['Materia 3', '1'],\n",
              "       ['Materia 4', '7'],\n",
              "       ['Materia 5', '10'],\n",
              "       ['estado', 'regular'],\n",
              "       ['matricula', '11111155'],\n",
              "       ['nombre', 'Alumno 45'],\n",
              "       ['grupo', 'IDGS91'],\n",
              "       ['Materia 1', '4'],\n",
              "       ['Materia 2', '1'],\n",
              "       ['Materia 3', '2'],\n",
              "       ['Materia 4', '8'],\n",
              "       ['Materia 5', '6'],\n",
              "       ['estado', 'regular'],\n",
              "       ['matricula', '11111156'],\n",
              "       ['nombre', 'Alumno 46'],\n",
              "       ['grupo', 'IDGS71'],\n",
              "       ['Materia 1', '10'],\n",
              "       ['Materia 2', '1'],\n",
              "       ['Materia 3', '10'],\n",
              "       ['Materia 4', '0'],\n",
              "       ['Materia 5', '7'],\n",
              "       ['estado', 'regular'],\n",
              "       ['matricula', '11111157'],\n",
              "       ['nombre', 'Alumno 47'],\n",
              "       ['grupo', 'IDGS71'],\n",
              "       ['Materia 1', '9'],\n",
              "       ['Materia 2', '10'],\n",
              "       ['Materia 3', '1'],\n",
              "       ['Materia 4', '3'],\n",
              "       ['Materia 5', '9'],\n",
              "       ['estado', 'regular'],\n",
              "       ['matricula', '11111158'],\n",
              "       ['nombre', 'Alumno 48'],\n",
              "       ['grupo', 'IDGS71'],\n",
              "       ['Materia 1', '4'],\n",
              "       ['Materia 2', '4'],\n",
              "       ['Materia 3', '10'],\n",
              "       ['Materia 4', '6'],\n",
              "       ['Materia 5', '8'],\n",
              "       ['Materia 6', '10']], dtype=object)"
            ]
          },
          "metadata": {},
          "execution_count": 124
        }
      ]
    },
    {
      "cell_type": "markdown",
      "source": [
        "DEBEMOS DE OPTENER LAS CABECERAS CON EL MIMSO PROCEDIMIENTO VISTO EN CLASE PARA UN USO MAS FACIL"
      ],
      "metadata": {
        "id": "yIHtzKFTq-3P"
      }
    },
    {
      "cell_type": "code",
      "source": [
        "cabecera_archivo = califi.T[0]\n",
        "cabecera_archivo[:10]"
      ],
      "metadata": {
        "colab": {
          "base_uri": "https://localhost:8080/",
          "height": 0
        },
        "id": "JUV4ydpYd0E2",
        "outputId": "bde417bd-d3a7-48e4-9c7f-726a81b481c7"
      },
      "execution_count": 125,
      "outputs": [
        {
          "output_type": "execute_result",
          "data": {
            "text/plain": [
              "array(['matricula', 'nombre', 'grupo', 'Materia 1', 'Materia 2',\n",
              "       'Materia 3', 'Materia 4', 'Materia 5', 'estado', 'matricula'],\n",
              "      dtype=object)"
            ]
          },
          "metadata": {},
          "execution_count": 125
        }
      ]
    },
    {
      "cell_type": "markdown",
      "source": [
        "NOS DEVUELVE EL NUMERO DE ELEMENTOS QUE ESTAN EN EL ARRAY Y LA CANTIDAD DE CABECERAS"
      ],
      "metadata": {
        "id": "LEQ2jgV9METt"
      }
    },
    {
      "cell_type": "code",
      "source": [
        "cabecera_archivo.size"
      ],
      "metadata": {
        "colab": {
          "base_uri": "https://localhost:8080/",
          "height": 0
        },
        "id": "ea3w2k9teW_W",
        "outputId": "07ff38f2-cc7e-42ba-c5d5-283cfbf89a0f"
      },
      "execution_count": 126,
      "outputs": [
        {
          "output_type": "execute_result",
          "data": {
            "text/plain": [
              "432"
            ]
          },
          "metadata": {},
          "execution_count": 126
        }
      ]
    },
    {
      "cell_type": "code",
      "source": [
        "np.unique(cabecera_archivo).size"
      ],
      "metadata": {
        "colab": {
          "base_uri": "https://localhost:8080/",
          "height": 0
        },
        "id": "_TQrCKhAevnH",
        "outputId": "1262db83-6b64-4c7e-aee9-b98b0beabb64"
      },
      "execution_count": 128,
      "outputs": [
        {
          "output_type": "execute_result",
          "data": {
            "text/plain": [
              "10"
            ]
          },
          "metadata": {},
          "execution_count": 128
        }
      ]
    },
    {
      "cell_type": "markdown",
      "source": [
        "PROCESO PARA DEVOLVER LAS CABECERAS PRICIPALES Y ASI MISMO CONTARLAS PARA SABER LA CANTIDAD DE CABECERAS"
      ],
      "metadata": {
        "id": "gLi1siDGI9Sw"
      }
    },
    {
      "cell_type": "code",
      "source": [
        "cabecera_principales = cabecera_archivo[:9]"
      ],
      "metadata": {
        "id": "2OvdmJGme0mO"
      },
      "execution_count": 130,
      "outputs": []
    },
    {
      "cell_type": "code",
      "source": [
        "cabecera_principales"
      ],
      "metadata": {
        "colab": {
          "base_uri": "https://localhost:8080/",
          "height": 0
        },
        "id": "AZp0rb_jNDCI",
        "outputId": "9582f90c-be51-4128-9543-fa284aa0ca70"
      },
      "execution_count": 131,
      "outputs": [
        {
          "output_type": "execute_result",
          "data": {
            "text/plain": [
              "array(['matricula', 'nombre', 'grupo', 'Materia 1', 'Materia 2',\n",
              "       'Materia 3', 'Materia 4', 'Materia 5', 'estado'], dtype=object)"
            ]
          },
          "metadata": {},
          "execution_count": 131
        }
      ]
    },
    {
      "cell_type": "code",
      "source": [
        "total_cabeceras = cabecera_principales.size\n"
      ],
      "metadata": {
        "id": "Dm1VLaV2fDiW"
      },
      "execution_count": 132,
      "outputs": []
    },
    {
      "cell_type": "code",
      "source": [
        "total_cabeceras"
      ],
      "metadata": {
        "colab": {
          "base_uri": "https://localhost:8080/",
          "height": 0
        },
        "id": "X4msHsORNbQf",
        "outputId": "d5b28825-e08c-4ecf-9120-ae0964ea207b"
      },
      "execution_count": 133,
      "outputs": [
        {
          "output_type": "execute_result",
          "data": {
            "text/plain": [
              "9"
            ]
          },
          "metadata": {},
          "execution_count": 133
        }
      ]
    },
    {
      "cell_type": "code",
      "source": [
        "total_datos = califi.T[0].size"
      ],
      "metadata": {
        "colab": {
          "base_uri": "https://localhost:8080/",
          "height": 0
        },
        "id": "XKDCfpKjOcjN",
        "outputId": "4edeebc4-9b1a-4502-816d-ba104d304323"
      },
      "execution_count": 135,
      "outputs": [
        {
          "output_type": "execute_result",
          "data": {
            "text/plain": [
              "432"
            ]
          },
          "metadata": {},
          "execution_count": 135
        }
      ]
    },
    {
      "cell_type": "code",
      "source": [
        "total_datos"
      ],
      "metadata": {
        "colab": {
          "base_uri": "https://localhost:8080/",
          "height": 0
        },
        "id": "X4aysm3DOyAa",
        "outputId": "01f4f018-04e9-45f8-f491-330c4c9d8261"
      },
      "execution_count": 136,
      "outputs": [
        {
          "output_type": "execute_result",
          "data": {
            "text/plain": [
              "432"
            ]
          },
          "metadata": {},
          "execution_count": 136
        }
      ]
    },
    {
      "cell_type": "markdown",
      "source": [
        "PROCESO PARA CALCULAR EL NUMERO DE REGISTROS DENTRO DEL ARCHIVO"
      ],
      "metadata": {
        "id": "3TR4OefOJHCG"
      }
    },
    {
      "cell_type": "code",
      "source": [
        "linea = total_datos / total_cabeceras"
      ],
      "metadata": {
        "id": "OKMbGt9rfxf-"
      },
      "execution_count": 139,
      "outputs": []
    },
    {
      "cell_type": "code",
      "source": [
        "linea"
      ],
      "metadata": {
        "colab": {
          "base_uri": "https://localhost:8080/",
          "height": 0
        },
        "id": "_kY135piPEyd",
        "outputId": "fbec7ab2-79cd-4f1f-8013-2e2f772f6388"
      },
      "execution_count": 138,
      "outputs": [
        {
          "output_type": "execute_result",
          "data": {
            "text/plain": [
              "48.0"
            ]
          },
          "metadata": {},
          "execution_count": 138
        }
      ]
    },
    {
      "cell_type": "markdown",
      "source": [
        "PROCESO PARA ELIMINAR CABECERAS "
      ],
      "metadata": {
        "id": "WHfVp86JrXNJ"
      }
    },
    {
      "cell_type": "code",
      "source": [
        "archivo = np.delete(califi,0,1)"
      ],
      "metadata": {
        "id": "_1xsvnUeppQc"
      },
      "execution_count": 144,
      "outputs": []
    },
    {
      "cell_type": "code",
      "source": [
        "archivo [:10]"
      ],
      "metadata": {
        "colab": {
          "base_uri": "https://localhost:8080/",
          "height": 0
        },
        "id": "UZTi4go8Ph2K",
        "outputId": "d6491807-ab5b-451e-df52-422497b8c2e9"
      },
      "execution_count": 145,
      "outputs": [
        {
          "output_type": "execute_result",
          "data": {
            "text/plain": [
              "array([['11111111'],\n",
              "       ['Alumno 1'],\n",
              "       ['TI11'],\n",
              "       ['1'],\n",
              "       ['8'],\n",
              "       ['1'],\n",
              "       ['7'],\n",
              "       ['2'],\n",
              "       ['regular'],\n",
              "       ['11111112']], dtype=object)"
            ]
          },
          "metadata": {},
          "execution_count": 145
        }
      ]
    },
    {
      "cell_type": "code",
      "source": [
        "archivo = archivo.reshape(int(linea),int(total_cabeceras))"
      ],
      "metadata": {
        "id": "ugnElKy8p1KI"
      },
      "execution_count": 147,
      "outputs": []
    },
    {
      "cell_type": "code",
      "source": [
        "archivo.shape"
      ],
      "metadata": {
        "colab": {
          "base_uri": "https://localhost:8080/",
          "height": 0
        },
        "id": "TH6_Lk9Gp39Q",
        "outputId": "ed3be1e4-dece-4620-8bbb-f71e6f60103d"
      },
      "execution_count": 148,
      "outputs": [
        {
          "output_type": "execute_result",
          "data": {
            "text/plain": [
              "(48, 9)"
            ]
          },
          "metadata": {},
          "execution_count": 148
        }
      ]
    },
    {
      "cell_type": "code",
      "source": [
        "alumno = np.array(archivo[:,:3])\n",
        "alumno[:5]\n"
      ],
      "metadata": {
        "colab": {
          "base_uri": "https://localhost:8080/",
          "height": 0
        },
        "id": "JfZI6HUdp6Kg",
        "outputId": "740b0d6c-fad7-4913-bcf0-6fb8e820d226"
      },
      "execution_count": 152,
      "outputs": [
        {
          "output_type": "execute_result",
          "data": {
            "text/plain": [
              "array([['11111111', 'Alumno 1', 'TI11'],\n",
              "       ['11111112', 'Alumno 2', 'TI11'],\n",
              "       ['11111113', 'Alumno 3', 'TI11'],\n",
              "       ['11111114', 'Alumno 4', 'TI11'],\n",
              "       ['11111115', 'Alumno 5', 'TI11']], dtype=object)"
            ]
          },
          "metadata": {},
          "execution_count": 152
        }
      ]
    },
    {
      "cell_type": "markdown",
      "source": [
        "PROCESO PARA SEPARAR LAS CALIFICACIONES DEL ARCHIVO\n"
      ],
      "metadata": {
        "id": "S3eq_LqMrlXD"
      }
    },
    {
      "cell_type": "code",
      "source": [
        "calificacion = np.array(archivo[:,3:8],dtype=float) "
      ],
      "metadata": {
        "id": "yXaECTl_p8_Q"
      },
      "execution_count": 155,
      "outputs": []
    },
    {
      "cell_type": "code",
      "source": [
        "calificacion[:5] "
      ],
      "metadata": {
        "colab": {
          "base_uri": "https://localhost:8080/",
          "height": 0
        },
        "id": "xEJKsLLTqLtA",
        "outputId": "de01791f-2a4f-41c3-8921-5e5748773d48"
      },
      "execution_count": 157,
      "outputs": [
        {
          "output_type": "execute_result",
          "data": {
            "text/plain": [
              "array([[ 1.,  8.,  1.,  7.,  2.],\n",
              "       [10.,  7.,  1.,  8.,  5.],\n",
              "       [nan,  1.,  1.,  3.,  0.],\n",
              "       [nan,  4.,  3.,  2.,  7.],\n",
              "       [ 9., 10.,  3.,  9.,  2.]])"
            ]
          },
          "metadata": {},
          "execution_count": 157
        }
      ]
    },
    {
      "cell_type": "code",
      "source": [
        "calificacion.shape"
      ],
      "metadata": {
        "colab": {
          "base_uri": "https://localhost:8080/",
          "height": 0
        },
        "id": "I4SA7k8YqNrw",
        "outputId": "39e12f11-7817-4707-de46-a40034d915fb"
      },
      "execution_count": 158,
      "outputs": [
        {
          "output_type": "execute_result",
          "data": {
            "text/plain": [
              "(48, 5)"
            ]
          },
          "metadata": {},
          "execution_count": 158
        }
      ]
    },
    {
      "cell_type": "markdown",
      "source": [
        "PROCESO PARA CALCULAR EL PROMEDIO"
      ],
      "metadata": {
        "id": "-esZYDOar9c0"
      }
    },
    {
      "cell_type": "code",
      "source": [
        "calificaciones = []\n",
        "for index in range(int(linea)):\n",
        "  calificaciones.append([\"regular\",calificacion[index].mean()])\n",
        "calificaciones = np.array(calificaciones)\n",
        "calificaciones [:5]"
      ],
      "metadata": {
        "colab": {
          "base_uri": "https://localhost:8080/",
          "height": 0
        },
        "id": "sux4YwMvqQfw",
        "outputId": "57c8f06b-a942-43bb-bc6d-2b32b3b7a86b"
      },
      "execution_count": 159,
      "outputs": [
        {
          "output_type": "execute_result",
          "data": {
            "text/plain": [
              "array([['regular', '3.8'],\n",
              "       ['regular', '6.2'],\n",
              "       ['regular', 'nan'],\n",
              "       ['regular', 'nan'],\n",
              "       ['regular', '6.6']], dtype='<U32')"
            ]
          },
          "metadata": {},
          "execution_count": 159
        }
      ]
    },
    {
      "cell_type": "markdown",
      "source": [
        "PROCESO PARA LA UNION DE LOS ARREGLOS"
      ],
      "metadata": {
        "id": "QX_3h273sJ1_"
      }
    },
    {
      "cell_type": "code",
      "source": [
        "archivo_completo = np.concatenate((alumno,calificacion,calificaciones),axis=1)\n",
        "archivo_completo[:5]"
      ],
      "metadata": {
        "colab": {
          "base_uri": "https://localhost:8080/",
          "height": 0
        },
        "id": "V0fJj5nLsIMh",
        "outputId": "9f98d708-77a6-452b-8904-a8d6d480c8f1"
      },
      "execution_count": 161,
      "outputs": [
        {
          "output_type": "execute_result",
          "data": {
            "text/plain": [
              "array([['11111111', 'Alumno 1', 'TI11', 1.0, 8.0, 1.0, 7.0, 2.0,\n",
              "        'regular', '3.8'],\n",
              "       ['11111112', 'Alumno 2', 'TI11', 10.0, 7.0, 1.0, 8.0, 5.0,\n",
              "        'regular', '6.2'],\n",
              "       ['11111113', 'Alumno 3', 'TI11', nan, 1.0, 1.0, 3.0, 0.0,\n",
              "        'regular', 'nan'],\n",
              "       ['11111114', 'Alumno 4', 'TI11', nan, 4.0, 3.0, 2.0, 7.0,\n",
              "        'regular', 'nan'],\n",
              "       ['11111115', 'Alumno 5', 'TI11', 9.0, 10.0, 3.0, 9.0, 2.0,\n",
              "        'regular', '6.6']], dtype=object)"
            ]
          },
          "metadata": {},
          "execution_count": 161
        }
      ]
    },
    {
      "cell_type": "code",
      "source": [
        "cabecera_principales = np.concatenate((cabecera_principales,[\"promedio\"]),axis=0)"
      ],
      "metadata": {
        "id": "hjbTbi7ctJBB"
      },
      "execution_count": 164,
      "outputs": []
    },
    {
      "cell_type": "code",
      "source": [
        "cabecera_principales"
      ],
      "metadata": {
        "colab": {
          "base_uri": "https://localhost:8080/",
          "height": 0
        },
        "id": "NfzSIKn4tNdo",
        "outputId": "4c41c898-b456-466c-f370-321dd1bd858d"
      },
      "execution_count": 165,
      "outputs": [
        {
          "output_type": "execute_result",
          "data": {
            "text/plain": [
              "array(['matricula', 'nombre', 'grupo', 'Materia 1', 'Materia 2',\n",
              "       'Materia 3', 'Materia 4', 'Materia 5', 'estado', 'promedio'],\n",
              "      dtype=object)"
            ]
          },
          "metadata": {},
          "execution_count": 165
        }
      ]
    },
    {
      "cell_type": "markdown",
      "source": [
        "PROCESO DE UNIR LAS CABECERAS LOS ARRAY Y LAS CABECERAS"
      ],
      "metadata": {
        "id": "qz_ipulsJaqm"
      }
    },
    {
      "cell_type": "code",
      "source": [
        "archivo_completo = np.concatenate(([cabecera_principales],archivo_completo),axis=0)\n",
        "archivo_completo"
      ],
      "metadata": {
        "colab": {
          "base_uri": "https://localhost:8080/",
          "height": 0
        },
        "id": "0nKeEDEytTjx",
        "outputId": "6207c87d-be16-40f2-8fba-0220e7a1d4ec"
      },
      "execution_count": 167,
      "outputs": [
        {
          "output_type": "execute_result",
          "data": {
            "text/plain": [
              "array([['matricula', 'nombre', 'grupo', 'Materia 1', 'Materia 2',\n",
              "        'Materia 3', 'Materia 4', 'Materia 5', 'estado', 'promedio'],\n",
              "       ['11111111', 'Alumno 1', 'TI11', 1.0, 8.0, 1.0, 7.0, 2.0,\n",
              "        'regular', '3.8'],\n",
              "       ['11111112', 'Alumno 2', 'TI11', 10.0, 7.0, 1.0, 8.0, 5.0,\n",
              "        'regular', '6.2'],\n",
              "       ['11111113', 'Alumno 3', 'TI11', nan, 1.0, 1.0, 3.0, 0.0,\n",
              "        'regular', 'nan'],\n",
              "       ['11111114', 'Alumno 4', 'TI11', nan, 4.0, 3.0, 2.0, 7.0,\n",
              "        'regular', 'nan'],\n",
              "       ['11111115', 'Alumno 5', 'TI11', 9.0, 10.0, 3.0, 9.0, 2.0,\n",
              "        'regular', '6.6'],\n",
              "       ['11111116', 'Alumno 6', 'TI11', 1.0, 3.0, 8.0, 1.0, 7.0,\n",
              "        'regular', '4.0'],\n",
              "       ['11111117', 'Alumno 7', 'TI11', 4.0, 7.0, 1.0, 6.0, 5.0,\n",
              "        'regular', '4.6'],\n",
              "       ['11111118', 'Alumno 8', 'TI11', 10.0, 1.0, 7.0, 10.0, 0.0,\n",
              "        'regular', '5.6'],\n",
              "       ['11111119', 'Alumno 9', 'TI11', 5.0, 5.0, 4.0, 0.0, 3.0,\n",
              "        'regular', '3.4'],\n",
              "       ['11111120', 'Alumno 10', 'TI11', 5.0, 7.0, 3.0, 3.0, 4.0,\n",
              "        'regular', '4.4'],\n",
              "       ['11111121', 'Alumno 11', 'TI11', 6.0, 1.0, 3.0, 7.0, 0.0,\n",
              "        'regular', '3.4'],\n",
              "       ['11111122', 'Alumno 12', 'TI11', 7.0, 2.0, 5.0, 4.0, 5.0,\n",
              "        'regular', '4.6'],\n",
              "       ['11111123', 'Alumno 13', 'TI12', 5.0, 2.0, 3.0, 0.0, 1.0,\n",
              "        'regular', '2.2'],\n",
              "       ['11111124', 'Alumno 14', 'TI12', 5.0, 2.0, 10.0, 0.0, 6.0,\n",
              "        'regular', '4.6'],\n",
              "       ['11111125', 'Alumno 15', 'TI12', 9.0, 9.0, 1.0, 3.0, 1.0,\n",
              "        'regular', '4.6'],\n",
              "       ['11111126', 'Alumno 16', 'TI12', 1.0, 2.0, 1.0, 7.0, 7.0,\n",
              "        'regular', '3.6'],\n",
              "       ['11111127', 'Alumno 17', 'TI12', 0.0, 2.0, 1.0, 0.0, 2.0,\n",
              "        'regular', '1.0'],\n",
              "       ['11111128', 'Alumno 18', 'TI12', 0.0, 1.0, 4.0, 7.0, 6.0,\n",
              "        'regular', '3.6'],\n",
              "       ['11111129', 'Alumno 19', 'TI12', 0.0, 8.0, 7.0, 8.0, 2.0,\n",
              "        'regular', '5.0'],\n",
              "       ['11111130', 'Alumno 20', 'TI12', 4.0, 0.0, 5.0, 0.0, 4.0,\n",
              "        'regular', '2.6'],\n",
              "       ['11111131', 'Alumno 21', 'TI12', 6.0, 4.0, 2.0, 10.0, 10.0,\n",
              "        'regular', '6.4'],\n",
              "       ['11111132', 'Alumno 22', 'TI12', 5.0, 6.0, 9.0, 0.0, 3.0,\n",
              "        'regular', '4.6'],\n",
              "       ['11111133', 'Alumno 23', 'TI12', 1.0, 9.0, 7.0, 7.0, 6.0,\n",
              "        'regular', '6.0'],\n",
              "       ['11111134', 'Alumno 24', 'TI41', 4.0, 0.0, 10.0, 7.0, 0.0,\n",
              "        'regular', '4.2'],\n",
              "       ['11111135', 'Alumno 25', 'TI41', 3.0, 3.0, 0.0, 8.0, 5.0,\n",
              "        'regular', '3.8'],\n",
              "       ['11111136', 'Alumno 26', 'TI41', 0.0, 5.0, 7.0, 2.0, 5.0,\n",
              "        'regular', '3.8'],\n",
              "       ['11111137', 'Alumno 27', 'TI41', 0.0, 0.0, 6.0, 0.0, 5.0,\n",
              "        'regular', '2.2'],\n",
              "       ['11111138', 'Alumno 28', 'TI41', 9.0, 3.0, 10.0, 9.0, 6.0,\n",
              "        'regular', '7.4'],\n",
              "       ['11111139', 'Alumno 29', 'TI41', 0.0, 5.0, 1.0, 10.0, 1.0,\n",
              "        'regular', '3.4'],\n",
              "       ['11111140', 'Alumno 30', 'TI41', 3.0, 3.0, 5.0, 9.0, 9.0,\n",
              "        'regular', '5.8'],\n",
              "       ['11111141', 'Alumno 31', 'TI41', 10.0, 10.0, 4.0, 1.0, 4.0,\n",
              "        'regular', '5.8'],\n",
              "       ['11111142', 'Alumno 32', 'TI41', 6.0, 0.0, 5.0, 3.0, 2.0,\n",
              "        'regular', '3.2'],\n",
              "       ['11111143', 'Alumno 33', 'IDGS91', 0.0, 4.0, 1.0, 7.0, 9.0,\n",
              "        'regular', '4.2'],\n",
              "       ['11111144', 'Alumno 34', 'IDGS91', 1.0, 1.0, 2.0, 3.0, 8.0,\n",
              "        'regular', '3.0'],\n",
              "       ['11111145', 'Alumno 35', 'IDGS91', 0.0, 7.0, 10.0, 7.0, 7.0,\n",
              "        'regular', '6.2'],\n",
              "       ['11111146', 'Alumno 36', 'IDGS91', 7.0, 1.0, 4.0, 0.0, 6.0,\n",
              "        'regular', '3.6'],\n",
              "       ['11111147', 'Alumno 37', 'IDGS91', 6.0, 6.0, 4.0, 3.0, 0.0,\n",
              "        'regular', '3.8'],\n",
              "       ['11111148', 'Alumno 38', 'IDGS91', 0.0, 6.0, 6.0, 3.0, 5.0,\n",
              "        'regular', '4.0'],\n",
              "       ['11111149', 'Alumno 39', 'IDGS91', 8.0, 7.0, 9.0, 5.0, 2.0,\n",
              "        'regular', '6.2'],\n",
              "       ['11111150', 'Alumno 40', 'IDGS91', 1.0, 0.0, 3.0, 4.0, 10.0,\n",
              "        'regular', '3.6'],\n",
              "       ['11111151', 'Alumno 41', 'IDGS91', 6.0, 5.0, 1.0, 5.0, 9.0,\n",
              "        'regular', '5.2'],\n",
              "       ['11111152', 'Alumno 42', 'IDGS91', 2.0, 0.0, 9.0, 9.0, 5.0,\n",
              "        'regular', '5.0'],\n",
              "       ['11111153', 'Alumno 43', 'IDGS91', 3.0, 4.0, 0.0, 0.0, 0.0,\n",
              "        'regular', '1.4'],\n",
              "       ['11111154', 'Alumno 44', 'IDGS91', 3.0, 1.0, 1.0, 7.0, 10.0,\n",
              "        'regular', '4.4'],\n",
              "       ['11111155', 'Alumno 45', 'IDGS91', 4.0, 1.0, 2.0, 8.0, 6.0,\n",
              "        'regular', '4.2'],\n",
              "       ['11111156', 'Alumno 46', 'IDGS71', 10.0, 1.0, 10.0, 0.0, 7.0,\n",
              "        'regular', '5.6'],\n",
              "       ['11111157', 'Alumno 47', 'IDGS71', 9.0, 10.0, 1.0, 3.0, 9.0,\n",
              "        'regular', '6.4'],\n",
              "       ['11111158', 'Alumno 48', 'IDGS71', 4.0, 4.0, 10.0, 6.0, 8.0,\n",
              "        'regular', '6.4']], dtype=object)"
            ]
          },
          "metadata": {},
          "execution_count": 167
        }
      ]
    },
    {
      "cell_type": "code",
      "source": [
        "archivo_completo = np.delete(archivo_completo, 1, axis=0)"
      ],
      "metadata": {
        "id": "kyEX9n_9tmRJ"
      },
      "execution_count": 168,
      "outputs": []
    },
    {
      "cell_type": "code",
      "source": [
        "archivo_completo"
      ],
      "metadata": {
        "colab": {
          "base_uri": "https://localhost:8080/",
          "height": 0
        },
        "id": "WW8onUhLuFsJ",
        "outputId": "3b94e760-f239-44bc-9faf-7cbbeabf6018"
      },
      "execution_count": 169,
      "outputs": [
        {
          "output_type": "execute_result",
          "data": {
            "text/plain": [
              "array([['matricula', 'nombre', 'grupo', 'Materia 1', 'Materia 2',\n",
              "        'Materia 3', 'Materia 4', 'Materia 5', 'estado', 'promedio'],\n",
              "       ['11111112', 'Alumno 2', 'TI11', 10.0, 7.0, 1.0, 8.0, 5.0,\n",
              "        'regular', '6.2'],\n",
              "       ['11111113', 'Alumno 3', 'TI11', nan, 1.0, 1.0, 3.0, 0.0,\n",
              "        'regular', 'nan'],\n",
              "       ['11111114', 'Alumno 4', 'TI11', nan, 4.0, 3.0, 2.0, 7.0,\n",
              "        'regular', 'nan'],\n",
              "       ['11111115', 'Alumno 5', 'TI11', 9.0, 10.0, 3.0, 9.0, 2.0,\n",
              "        'regular', '6.6'],\n",
              "       ['11111116', 'Alumno 6', 'TI11', 1.0, 3.0, 8.0, 1.0, 7.0,\n",
              "        'regular', '4.0'],\n",
              "       ['11111117', 'Alumno 7', 'TI11', 4.0, 7.0, 1.0, 6.0, 5.0,\n",
              "        'regular', '4.6'],\n",
              "       ['11111118', 'Alumno 8', 'TI11', 10.0, 1.0, 7.0, 10.0, 0.0,\n",
              "        'regular', '5.6'],\n",
              "       ['11111119', 'Alumno 9', 'TI11', 5.0, 5.0, 4.0, 0.0, 3.0,\n",
              "        'regular', '3.4'],\n",
              "       ['11111120', 'Alumno 10', 'TI11', 5.0, 7.0, 3.0, 3.0, 4.0,\n",
              "        'regular', '4.4'],\n",
              "       ['11111121', 'Alumno 11', 'TI11', 6.0, 1.0, 3.0, 7.0, 0.0,\n",
              "        'regular', '3.4'],\n",
              "       ['11111122', 'Alumno 12', 'TI11', 7.0, 2.0, 5.0, 4.0, 5.0,\n",
              "        'regular', '4.6'],\n",
              "       ['11111123', 'Alumno 13', 'TI12', 5.0, 2.0, 3.0, 0.0, 1.0,\n",
              "        'regular', '2.2'],\n",
              "       ['11111124', 'Alumno 14', 'TI12', 5.0, 2.0, 10.0, 0.0, 6.0,\n",
              "        'regular', '4.6'],\n",
              "       ['11111125', 'Alumno 15', 'TI12', 9.0, 9.0, 1.0, 3.0, 1.0,\n",
              "        'regular', '4.6'],\n",
              "       ['11111126', 'Alumno 16', 'TI12', 1.0, 2.0, 1.0, 7.0, 7.0,\n",
              "        'regular', '3.6'],\n",
              "       ['11111127', 'Alumno 17', 'TI12', 0.0, 2.0, 1.0, 0.0, 2.0,\n",
              "        'regular', '1.0'],\n",
              "       ['11111128', 'Alumno 18', 'TI12', 0.0, 1.0, 4.0, 7.0, 6.0,\n",
              "        'regular', '3.6'],\n",
              "       ['11111129', 'Alumno 19', 'TI12', 0.0, 8.0, 7.0, 8.0, 2.0,\n",
              "        'regular', '5.0'],\n",
              "       ['11111130', 'Alumno 20', 'TI12', 4.0, 0.0, 5.0, 0.0, 4.0,\n",
              "        'regular', '2.6'],\n",
              "       ['11111131', 'Alumno 21', 'TI12', 6.0, 4.0, 2.0, 10.0, 10.0,\n",
              "        'regular', '6.4'],\n",
              "       ['11111132', 'Alumno 22', 'TI12', 5.0, 6.0, 9.0, 0.0, 3.0,\n",
              "        'regular', '4.6'],\n",
              "       ['11111133', 'Alumno 23', 'TI12', 1.0, 9.0, 7.0, 7.0, 6.0,\n",
              "        'regular', '6.0'],\n",
              "       ['11111134', 'Alumno 24', 'TI41', 4.0, 0.0, 10.0, 7.0, 0.0,\n",
              "        'regular', '4.2'],\n",
              "       ['11111135', 'Alumno 25', 'TI41', 3.0, 3.0, 0.0, 8.0, 5.0,\n",
              "        'regular', '3.8'],\n",
              "       ['11111136', 'Alumno 26', 'TI41', 0.0, 5.0, 7.0, 2.0, 5.0,\n",
              "        'regular', '3.8'],\n",
              "       ['11111137', 'Alumno 27', 'TI41', 0.0, 0.0, 6.0, 0.0, 5.0,\n",
              "        'regular', '2.2'],\n",
              "       ['11111138', 'Alumno 28', 'TI41', 9.0, 3.0, 10.0, 9.0, 6.0,\n",
              "        'regular', '7.4'],\n",
              "       ['11111139', 'Alumno 29', 'TI41', 0.0, 5.0, 1.0, 10.0, 1.0,\n",
              "        'regular', '3.4'],\n",
              "       ['11111140', 'Alumno 30', 'TI41', 3.0, 3.0, 5.0, 9.0, 9.0,\n",
              "        'regular', '5.8'],\n",
              "       ['11111141', 'Alumno 31', 'TI41', 10.0, 10.0, 4.0, 1.0, 4.0,\n",
              "        'regular', '5.8'],\n",
              "       ['11111142', 'Alumno 32', 'TI41', 6.0, 0.0, 5.0, 3.0, 2.0,\n",
              "        'regular', '3.2'],\n",
              "       ['11111143', 'Alumno 33', 'IDGS91', 0.0, 4.0, 1.0, 7.0, 9.0,\n",
              "        'regular', '4.2'],\n",
              "       ['11111144', 'Alumno 34', 'IDGS91', 1.0, 1.0, 2.0, 3.0, 8.0,\n",
              "        'regular', '3.0'],\n",
              "       ['11111145', 'Alumno 35', 'IDGS91', 0.0, 7.0, 10.0, 7.0, 7.0,\n",
              "        'regular', '6.2'],\n",
              "       ['11111146', 'Alumno 36', 'IDGS91', 7.0, 1.0, 4.0, 0.0, 6.0,\n",
              "        'regular', '3.6'],\n",
              "       ['11111147', 'Alumno 37', 'IDGS91', 6.0, 6.0, 4.0, 3.0, 0.0,\n",
              "        'regular', '3.8'],\n",
              "       ['11111148', 'Alumno 38', 'IDGS91', 0.0, 6.0, 6.0, 3.0, 5.0,\n",
              "        'regular', '4.0'],\n",
              "       ['11111149', 'Alumno 39', 'IDGS91', 8.0, 7.0, 9.0, 5.0, 2.0,\n",
              "        'regular', '6.2'],\n",
              "       ['11111150', 'Alumno 40', 'IDGS91', 1.0, 0.0, 3.0, 4.0, 10.0,\n",
              "        'regular', '3.6'],\n",
              "       ['11111151', 'Alumno 41', 'IDGS91', 6.0, 5.0, 1.0, 5.0, 9.0,\n",
              "        'regular', '5.2'],\n",
              "       ['11111152', 'Alumno 42', 'IDGS91', 2.0, 0.0, 9.0, 9.0, 5.0,\n",
              "        'regular', '5.0'],\n",
              "       ['11111153', 'Alumno 43', 'IDGS91', 3.0, 4.0, 0.0, 0.0, 0.0,\n",
              "        'regular', '1.4'],\n",
              "       ['11111154', 'Alumno 44', 'IDGS91', 3.0, 1.0, 1.0, 7.0, 10.0,\n",
              "        'regular', '4.4'],\n",
              "       ['11111155', 'Alumno 45', 'IDGS91', 4.0, 1.0, 2.0, 8.0, 6.0,\n",
              "        'regular', '4.2'],\n",
              "       ['11111156', 'Alumno 46', 'IDGS71', 10.0, 1.0, 10.0, 0.0, 7.0,\n",
              "        'regular', '5.6'],\n",
              "       ['11111157', 'Alumno 47', 'IDGS71', 9.0, 10.0, 1.0, 3.0, 9.0,\n",
              "        'regular', '6.4'],\n",
              "       ['11111158', 'Alumno 48', 'IDGS71', 4.0, 4.0, 10.0, 6.0, 8.0,\n",
              "        'regular', '6.4']], dtype=object)"
            ]
          },
          "metadata": {},
          "execution_count": 169
        }
      ]
    },
    {
      "cell_type": "markdown",
      "source": [
        "PROCESO PARA LA CONVERSION A UN DATAFRAME"
      ],
      "metadata": {
        "id": "uBljQgW5Jjpk"
      }
    },
    {
      "cell_type": "code",
      "source": [
        "archivo_completo = pd.DataFrame(archivo_completo)\n",
        "archivo_completo"
      ],
      "metadata": {
        "colab": {
          "base_uri": "https://localhost:8080/",
          "height": 1554
        },
        "id": "QCqF4oMVuaG7",
        "outputId": "749e620d-34d8-421c-aa5a-b66836bf6fee"
      },
      "execution_count": 173,
      "outputs": [
        {
          "output_type": "execute_result",
          "data": {
            "text/plain": [
              "            0          1       2          3          4          5          6  \\\n",
              "0   matricula     nombre   grupo  Materia 1  Materia 2  Materia 3  Materia 4   \n",
              "1    11111112   Alumno 2    TI11       10.0        7.0        1.0        8.0   \n",
              "2    11111113   Alumno 3    TI11        NaN        1.0        1.0        3.0   \n",
              "3    11111114   Alumno 4    TI11        NaN        4.0        3.0        2.0   \n",
              "4    11111115   Alumno 5    TI11        9.0       10.0        3.0        9.0   \n",
              "5    11111116   Alumno 6    TI11        1.0        3.0        8.0        1.0   \n",
              "6    11111117   Alumno 7    TI11        4.0        7.0        1.0        6.0   \n",
              "7    11111118   Alumno 8    TI11       10.0        1.0        7.0       10.0   \n",
              "8    11111119   Alumno 9    TI11        5.0        5.0        4.0        0.0   \n",
              "9    11111120  Alumno 10    TI11        5.0        7.0        3.0        3.0   \n",
              "10   11111121  Alumno 11    TI11        6.0        1.0        3.0        7.0   \n",
              "11   11111122  Alumno 12    TI11        7.0        2.0        5.0        4.0   \n",
              "12   11111123  Alumno 13    TI12        5.0        2.0        3.0        0.0   \n",
              "13   11111124  Alumno 14    TI12        5.0        2.0       10.0        0.0   \n",
              "14   11111125  Alumno 15    TI12        9.0        9.0        1.0        3.0   \n",
              "15   11111126  Alumno 16    TI12        1.0        2.0        1.0        7.0   \n",
              "16   11111127  Alumno 17    TI12        0.0        2.0        1.0        0.0   \n",
              "17   11111128  Alumno 18    TI12        0.0        1.0        4.0        7.0   \n",
              "18   11111129  Alumno 19    TI12        0.0        8.0        7.0        8.0   \n",
              "19   11111130  Alumno 20    TI12        4.0        0.0        5.0        0.0   \n",
              "20   11111131  Alumno 21    TI12        6.0        4.0        2.0       10.0   \n",
              "21   11111132  Alumno 22    TI12        5.0        6.0        9.0        0.0   \n",
              "22   11111133  Alumno 23    TI12        1.0        9.0        7.0        7.0   \n",
              "23   11111134  Alumno 24    TI41        4.0        0.0       10.0        7.0   \n",
              "24   11111135  Alumno 25    TI41        3.0        3.0        0.0        8.0   \n",
              "25   11111136  Alumno 26    TI41        0.0        5.0        7.0        2.0   \n",
              "26   11111137  Alumno 27    TI41        0.0        0.0        6.0        0.0   \n",
              "27   11111138  Alumno 28    TI41        9.0        3.0       10.0        9.0   \n",
              "28   11111139  Alumno 29    TI41        0.0        5.0        1.0       10.0   \n",
              "29   11111140  Alumno 30    TI41        3.0        3.0        5.0        9.0   \n",
              "30   11111141  Alumno 31    TI41       10.0       10.0        4.0        1.0   \n",
              "31   11111142  Alumno 32    TI41        6.0        0.0        5.0        3.0   \n",
              "32   11111143  Alumno 33  IDGS91        0.0        4.0        1.0        7.0   \n",
              "33   11111144  Alumno 34  IDGS91        1.0        1.0        2.0        3.0   \n",
              "34   11111145  Alumno 35  IDGS91        0.0        7.0       10.0        7.0   \n",
              "35   11111146  Alumno 36  IDGS91        7.0        1.0        4.0        0.0   \n",
              "36   11111147  Alumno 37  IDGS91        6.0        6.0        4.0        3.0   \n",
              "37   11111148  Alumno 38  IDGS91        0.0        6.0        6.0        3.0   \n",
              "38   11111149  Alumno 39  IDGS91        8.0        7.0        9.0        5.0   \n",
              "39   11111150  Alumno 40  IDGS91        1.0        0.0        3.0        4.0   \n",
              "40   11111151  Alumno 41  IDGS91        6.0        5.0        1.0        5.0   \n",
              "41   11111152  Alumno 42  IDGS91        2.0        0.0        9.0        9.0   \n",
              "42   11111153  Alumno 43  IDGS91        3.0        4.0        0.0        0.0   \n",
              "43   11111154  Alumno 44  IDGS91        3.0        1.0        1.0        7.0   \n",
              "44   11111155  Alumno 45  IDGS91        4.0        1.0        2.0        8.0   \n",
              "45   11111156  Alumno 46  IDGS71       10.0        1.0       10.0        0.0   \n",
              "46   11111157  Alumno 47  IDGS71        9.0       10.0        1.0        3.0   \n",
              "47   11111158  Alumno 48  IDGS71        4.0        4.0       10.0        6.0   \n",
              "\n",
              "            7        8         9  \n",
              "0   Materia 5   estado  promedio  \n",
              "1         5.0  regular       6.2  \n",
              "2         0.0  regular       nan  \n",
              "3         7.0  regular       nan  \n",
              "4         2.0  regular       6.6  \n",
              "5         7.0  regular       4.0  \n",
              "6         5.0  regular       4.6  \n",
              "7         0.0  regular       5.6  \n",
              "8         3.0  regular       3.4  \n",
              "9         4.0  regular       4.4  \n",
              "10        0.0  regular       3.4  \n",
              "11        5.0  regular       4.6  \n",
              "12        1.0  regular       2.2  \n",
              "13        6.0  regular       4.6  \n",
              "14        1.0  regular       4.6  \n",
              "15        7.0  regular       3.6  \n",
              "16        2.0  regular       1.0  \n",
              "17        6.0  regular       3.6  \n",
              "18        2.0  regular       5.0  \n",
              "19        4.0  regular       2.6  \n",
              "20       10.0  regular       6.4  \n",
              "21        3.0  regular       4.6  \n",
              "22        6.0  regular       6.0  \n",
              "23        0.0  regular       4.2  \n",
              "24        5.0  regular       3.8  \n",
              "25        5.0  regular       3.8  \n",
              "26        5.0  regular       2.2  \n",
              "27        6.0  regular       7.4  \n",
              "28        1.0  regular       3.4  \n",
              "29        9.0  regular       5.8  \n",
              "30        4.0  regular       5.8  \n",
              "31        2.0  regular       3.2  \n",
              "32        9.0  regular       4.2  \n",
              "33        8.0  regular       3.0  \n",
              "34        7.0  regular       6.2  \n",
              "35        6.0  regular       3.6  \n",
              "36        0.0  regular       3.8  \n",
              "37        5.0  regular       4.0  \n",
              "38        2.0  regular       6.2  \n",
              "39       10.0  regular       3.6  \n",
              "40        9.0  regular       5.2  \n",
              "41        5.0  regular       5.0  \n",
              "42        0.0  regular       1.4  \n",
              "43       10.0  regular       4.4  \n",
              "44        6.0  regular       4.2  \n",
              "45        7.0  regular       5.6  \n",
              "46        9.0  regular       6.4  \n",
              "47        8.0  regular       6.4  "
            ],
            "text/html": [
              "\n",
              "  <div id=\"df-97de19cc-99d8-4d68-bae7-d016bd366e0d\">\n",
              "    <div class=\"colab-df-container\">\n",
              "      <div>\n",
              "<style scoped>\n",
              "    .dataframe tbody tr th:only-of-type {\n",
              "        vertical-align: middle;\n",
              "    }\n",
              "\n",
              "    .dataframe tbody tr th {\n",
              "        vertical-align: top;\n",
              "    }\n",
              "\n",
              "    .dataframe thead th {\n",
              "        text-align: right;\n",
              "    }\n",
              "</style>\n",
              "<table border=\"1\" class=\"dataframe\">\n",
              "  <thead>\n",
              "    <tr style=\"text-align: right;\">\n",
              "      <th></th>\n",
              "      <th>0</th>\n",
              "      <th>1</th>\n",
              "      <th>2</th>\n",
              "      <th>3</th>\n",
              "      <th>4</th>\n",
              "      <th>5</th>\n",
              "      <th>6</th>\n",
              "      <th>7</th>\n",
              "      <th>8</th>\n",
              "      <th>9</th>\n",
              "    </tr>\n",
              "  </thead>\n",
              "  <tbody>\n",
              "    <tr>\n",
              "      <th>0</th>\n",
              "      <td>matricula</td>\n",
              "      <td>nombre</td>\n",
              "      <td>grupo</td>\n",
              "      <td>Materia 1</td>\n",
              "      <td>Materia 2</td>\n",
              "      <td>Materia 3</td>\n",
              "      <td>Materia 4</td>\n",
              "      <td>Materia 5</td>\n",
              "      <td>estado</td>\n",
              "      <td>promedio</td>\n",
              "    </tr>\n",
              "    <tr>\n",
              "      <th>1</th>\n",
              "      <td>11111112</td>\n",
              "      <td>Alumno 2</td>\n",
              "      <td>TI11</td>\n",
              "      <td>10.0</td>\n",
              "      <td>7.0</td>\n",
              "      <td>1.0</td>\n",
              "      <td>8.0</td>\n",
              "      <td>5.0</td>\n",
              "      <td>regular</td>\n",
              "      <td>6.2</td>\n",
              "    </tr>\n",
              "    <tr>\n",
              "      <th>2</th>\n",
              "      <td>11111113</td>\n",
              "      <td>Alumno 3</td>\n",
              "      <td>TI11</td>\n",
              "      <td>NaN</td>\n",
              "      <td>1.0</td>\n",
              "      <td>1.0</td>\n",
              "      <td>3.0</td>\n",
              "      <td>0.0</td>\n",
              "      <td>regular</td>\n",
              "      <td>nan</td>\n",
              "    </tr>\n",
              "    <tr>\n",
              "      <th>3</th>\n",
              "      <td>11111114</td>\n",
              "      <td>Alumno 4</td>\n",
              "      <td>TI11</td>\n",
              "      <td>NaN</td>\n",
              "      <td>4.0</td>\n",
              "      <td>3.0</td>\n",
              "      <td>2.0</td>\n",
              "      <td>7.0</td>\n",
              "      <td>regular</td>\n",
              "      <td>nan</td>\n",
              "    </tr>\n",
              "    <tr>\n",
              "      <th>4</th>\n",
              "      <td>11111115</td>\n",
              "      <td>Alumno 5</td>\n",
              "      <td>TI11</td>\n",
              "      <td>9.0</td>\n",
              "      <td>10.0</td>\n",
              "      <td>3.0</td>\n",
              "      <td>9.0</td>\n",
              "      <td>2.0</td>\n",
              "      <td>regular</td>\n",
              "      <td>6.6</td>\n",
              "    </tr>\n",
              "    <tr>\n",
              "      <th>5</th>\n",
              "      <td>11111116</td>\n",
              "      <td>Alumno 6</td>\n",
              "      <td>TI11</td>\n",
              "      <td>1.0</td>\n",
              "      <td>3.0</td>\n",
              "      <td>8.0</td>\n",
              "      <td>1.0</td>\n",
              "      <td>7.0</td>\n",
              "      <td>regular</td>\n",
              "      <td>4.0</td>\n",
              "    </tr>\n",
              "    <tr>\n",
              "      <th>6</th>\n",
              "      <td>11111117</td>\n",
              "      <td>Alumno 7</td>\n",
              "      <td>TI11</td>\n",
              "      <td>4.0</td>\n",
              "      <td>7.0</td>\n",
              "      <td>1.0</td>\n",
              "      <td>6.0</td>\n",
              "      <td>5.0</td>\n",
              "      <td>regular</td>\n",
              "      <td>4.6</td>\n",
              "    </tr>\n",
              "    <tr>\n",
              "      <th>7</th>\n",
              "      <td>11111118</td>\n",
              "      <td>Alumno 8</td>\n",
              "      <td>TI11</td>\n",
              "      <td>10.0</td>\n",
              "      <td>1.0</td>\n",
              "      <td>7.0</td>\n",
              "      <td>10.0</td>\n",
              "      <td>0.0</td>\n",
              "      <td>regular</td>\n",
              "      <td>5.6</td>\n",
              "    </tr>\n",
              "    <tr>\n",
              "      <th>8</th>\n",
              "      <td>11111119</td>\n",
              "      <td>Alumno 9</td>\n",
              "      <td>TI11</td>\n",
              "      <td>5.0</td>\n",
              "      <td>5.0</td>\n",
              "      <td>4.0</td>\n",
              "      <td>0.0</td>\n",
              "      <td>3.0</td>\n",
              "      <td>regular</td>\n",
              "      <td>3.4</td>\n",
              "    </tr>\n",
              "    <tr>\n",
              "      <th>9</th>\n",
              "      <td>11111120</td>\n",
              "      <td>Alumno 10</td>\n",
              "      <td>TI11</td>\n",
              "      <td>5.0</td>\n",
              "      <td>7.0</td>\n",
              "      <td>3.0</td>\n",
              "      <td>3.0</td>\n",
              "      <td>4.0</td>\n",
              "      <td>regular</td>\n",
              "      <td>4.4</td>\n",
              "    </tr>\n",
              "    <tr>\n",
              "      <th>10</th>\n",
              "      <td>11111121</td>\n",
              "      <td>Alumno 11</td>\n",
              "      <td>TI11</td>\n",
              "      <td>6.0</td>\n",
              "      <td>1.0</td>\n",
              "      <td>3.0</td>\n",
              "      <td>7.0</td>\n",
              "      <td>0.0</td>\n",
              "      <td>regular</td>\n",
              "      <td>3.4</td>\n",
              "    </tr>\n",
              "    <tr>\n",
              "      <th>11</th>\n",
              "      <td>11111122</td>\n",
              "      <td>Alumno 12</td>\n",
              "      <td>TI11</td>\n",
              "      <td>7.0</td>\n",
              "      <td>2.0</td>\n",
              "      <td>5.0</td>\n",
              "      <td>4.0</td>\n",
              "      <td>5.0</td>\n",
              "      <td>regular</td>\n",
              "      <td>4.6</td>\n",
              "    </tr>\n",
              "    <tr>\n",
              "      <th>12</th>\n",
              "      <td>11111123</td>\n",
              "      <td>Alumno 13</td>\n",
              "      <td>TI12</td>\n",
              "      <td>5.0</td>\n",
              "      <td>2.0</td>\n",
              "      <td>3.0</td>\n",
              "      <td>0.0</td>\n",
              "      <td>1.0</td>\n",
              "      <td>regular</td>\n",
              "      <td>2.2</td>\n",
              "    </tr>\n",
              "    <tr>\n",
              "      <th>13</th>\n",
              "      <td>11111124</td>\n",
              "      <td>Alumno 14</td>\n",
              "      <td>TI12</td>\n",
              "      <td>5.0</td>\n",
              "      <td>2.0</td>\n",
              "      <td>10.0</td>\n",
              "      <td>0.0</td>\n",
              "      <td>6.0</td>\n",
              "      <td>regular</td>\n",
              "      <td>4.6</td>\n",
              "    </tr>\n",
              "    <tr>\n",
              "      <th>14</th>\n",
              "      <td>11111125</td>\n",
              "      <td>Alumno 15</td>\n",
              "      <td>TI12</td>\n",
              "      <td>9.0</td>\n",
              "      <td>9.0</td>\n",
              "      <td>1.0</td>\n",
              "      <td>3.0</td>\n",
              "      <td>1.0</td>\n",
              "      <td>regular</td>\n",
              "      <td>4.6</td>\n",
              "    </tr>\n",
              "    <tr>\n",
              "      <th>15</th>\n",
              "      <td>11111126</td>\n",
              "      <td>Alumno 16</td>\n",
              "      <td>TI12</td>\n",
              "      <td>1.0</td>\n",
              "      <td>2.0</td>\n",
              "      <td>1.0</td>\n",
              "      <td>7.0</td>\n",
              "      <td>7.0</td>\n",
              "      <td>regular</td>\n",
              "      <td>3.6</td>\n",
              "    </tr>\n",
              "    <tr>\n",
              "      <th>16</th>\n",
              "      <td>11111127</td>\n",
              "      <td>Alumno 17</td>\n",
              "      <td>TI12</td>\n",
              "      <td>0.0</td>\n",
              "      <td>2.0</td>\n",
              "      <td>1.0</td>\n",
              "      <td>0.0</td>\n",
              "      <td>2.0</td>\n",
              "      <td>regular</td>\n",
              "      <td>1.0</td>\n",
              "    </tr>\n",
              "    <tr>\n",
              "      <th>17</th>\n",
              "      <td>11111128</td>\n",
              "      <td>Alumno 18</td>\n",
              "      <td>TI12</td>\n",
              "      <td>0.0</td>\n",
              "      <td>1.0</td>\n",
              "      <td>4.0</td>\n",
              "      <td>7.0</td>\n",
              "      <td>6.0</td>\n",
              "      <td>regular</td>\n",
              "      <td>3.6</td>\n",
              "    </tr>\n",
              "    <tr>\n",
              "      <th>18</th>\n",
              "      <td>11111129</td>\n",
              "      <td>Alumno 19</td>\n",
              "      <td>TI12</td>\n",
              "      <td>0.0</td>\n",
              "      <td>8.0</td>\n",
              "      <td>7.0</td>\n",
              "      <td>8.0</td>\n",
              "      <td>2.0</td>\n",
              "      <td>regular</td>\n",
              "      <td>5.0</td>\n",
              "    </tr>\n",
              "    <tr>\n",
              "      <th>19</th>\n",
              "      <td>11111130</td>\n",
              "      <td>Alumno 20</td>\n",
              "      <td>TI12</td>\n",
              "      <td>4.0</td>\n",
              "      <td>0.0</td>\n",
              "      <td>5.0</td>\n",
              "      <td>0.0</td>\n",
              "      <td>4.0</td>\n",
              "      <td>regular</td>\n",
              "      <td>2.6</td>\n",
              "    </tr>\n",
              "    <tr>\n",
              "      <th>20</th>\n",
              "      <td>11111131</td>\n",
              "      <td>Alumno 21</td>\n",
              "      <td>TI12</td>\n",
              "      <td>6.0</td>\n",
              "      <td>4.0</td>\n",
              "      <td>2.0</td>\n",
              "      <td>10.0</td>\n",
              "      <td>10.0</td>\n",
              "      <td>regular</td>\n",
              "      <td>6.4</td>\n",
              "    </tr>\n",
              "    <tr>\n",
              "      <th>21</th>\n",
              "      <td>11111132</td>\n",
              "      <td>Alumno 22</td>\n",
              "      <td>TI12</td>\n",
              "      <td>5.0</td>\n",
              "      <td>6.0</td>\n",
              "      <td>9.0</td>\n",
              "      <td>0.0</td>\n",
              "      <td>3.0</td>\n",
              "      <td>regular</td>\n",
              "      <td>4.6</td>\n",
              "    </tr>\n",
              "    <tr>\n",
              "      <th>22</th>\n",
              "      <td>11111133</td>\n",
              "      <td>Alumno 23</td>\n",
              "      <td>TI12</td>\n",
              "      <td>1.0</td>\n",
              "      <td>9.0</td>\n",
              "      <td>7.0</td>\n",
              "      <td>7.0</td>\n",
              "      <td>6.0</td>\n",
              "      <td>regular</td>\n",
              "      <td>6.0</td>\n",
              "    </tr>\n",
              "    <tr>\n",
              "      <th>23</th>\n",
              "      <td>11111134</td>\n",
              "      <td>Alumno 24</td>\n",
              "      <td>TI41</td>\n",
              "      <td>4.0</td>\n",
              "      <td>0.0</td>\n",
              "      <td>10.0</td>\n",
              "      <td>7.0</td>\n",
              "      <td>0.0</td>\n",
              "      <td>regular</td>\n",
              "      <td>4.2</td>\n",
              "    </tr>\n",
              "    <tr>\n",
              "      <th>24</th>\n",
              "      <td>11111135</td>\n",
              "      <td>Alumno 25</td>\n",
              "      <td>TI41</td>\n",
              "      <td>3.0</td>\n",
              "      <td>3.0</td>\n",
              "      <td>0.0</td>\n",
              "      <td>8.0</td>\n",
              "      <td>5.0</td>\n",
              "      <td>regular</td>\n",
              "      <td>3.8</td>\n",
              "    </tr>\n",
              "    <tr>\n",
              "      <th>25</th>\n",
              "      <td>11111136</td>\n",
              "      <td>Alumno 26</td>\n",
              "      <td>TI41</td>\n",
              "      <td>0.0</td>\n",
              "      <td>5.0</td>\n",
              "      <td>7.0</td>\n",
              "      <td>2.0</td>\n",
              "      <td>5.0</td>\n",
              "      <td>regular</td>\n",
              "      <td>3.8</td>\n",
              "    </tr>\n",
              "    <tr>\n",
              "      <th>26</th>\n",
              "      <td>11111137</td>\n",
              "      <td>Alumno 27</td>\n",
              "      <td>TI41</td>\n",
              "      <td>0.0</td>\n",
              "      <td>0.0</td>\n",
              "      <td>6.0</td>\n",
              "      <td>0.0</td>\n",
              "      <td>5.0</td>\n",
              "      <td>regular</td>\n",
              "      <td>2.2</td>\n",
              "    </tr>\n",
              "    <tr>\n",
              "      <th>27</th>\n",
              "      <td>11111138</td>\n",
              "      <td>Alumno 28</td>\n",
              "      <td>TI41</td>\n",
              "      <td>9.0</td>\n",
              "      <td>3.0</td>\n",
              "      <td>10.0</td>\n",
              "      <td>9.0</td>\n",
              "      <td>6.0</td>\n",
              "      <td>regular</td>\n",
              "      <td>7.4</td>\n",
              "    </tr>\n",
              "    <tr>\n",
              "      <th>28</th>\n",
              "      <td>11111139</td>\n",
              "      <td>Alumno 29</td>\n",
              "      <td>TI41</td>\n",
              "      <td>0.0</td>\n",
              "      <td>5.0</td>\n",
              "      <td>1.0</td>\n",
              "      <td>10.0</td>\n",
              "      <td>1.0</td>\n",
              "      <td>regular</td>\n",
              "      <td>3.4</td>\n",
              "    </tr>\n",
              "    <tr>\n",
              "      <th>29</th>\n",
              "      <td>11111140</td>\n",
              "      <td>Alumno 30</td>\n",
              "      <td>TI41</td>\n",
              "      <td>3.0</td>\n",
              "      <td>3.0</td>\n",
              "      <td>5.0</td>\n",
              "      <td>9.0</td>\n",
              "      <td>9.0</td>\n",
              "      <td>regular</td>\n",
              "      <td>5.8</td>\n",
              "    </tr>\n",
              "    <tr>\n",
              "      <th>30</th>\n",
              "      <td>11111141</td>\n",
              "      <td>Alumno 31</td>\n",
              "      <td>TI41</td>\n",
              "      <td>10.0</td>\n",
              "      <td>10.0</td>\n",
              "      <td>4.0</td>\n",
              "      <td>1.0</td>\n",
              "      <td>4.0</td>\n",
              "      <td>regular</td>\n",
              "      <td>5.8</td>\n",
              "    </tr>\n",
              "    <tr>\n",
              "      <th>31</th>\n",
              "      <td>11111142</td>\n",
              "      <td>Alumno 32</td>\n",
              "      <td>TI41</td>\n",
              "      <td>6.0</td>\n",
              "      <td>0.0</td>\n",
              "      <td>5.0</td>\n",
              "      <td>3.0</td>\n",
              "      <td>2.0</td>\n",
              "      <td>regular</td>\n",
              "      <td>3.2</td>\n",
              "    </tr>\n",
              "    <tr>\n",
              "      <th>32</th>\n",
              "      <td>11111143</td>\n",
              "      <td>Alumno 33</td>\n",
              "      <td>IDGS91</td>\n",
              "      <td>0.0</td>\n",
              "      <td>4.0</td>\n",
              "      <td>1.0</td>\n",
              "      <td>7.0</td>\n",
              "      <td>9.0</td>\n",
              "      <td>regular</td>\n",
              "      <td>4.2</td>\n",
              "    </tr>\n",
              "    <tr>\n",
              "      <th>33</th>\n",
              "      <td>11111144</td>\n",
              "      <td>Alumno 34</td>\n",
              "      <td>IDGS91</td>\n",
              "      <td>1.0</td>\n",
              "      <td>1.0</td>\n",
              "      <td>2.0</td>\n",
              "      <td>3.0</td>\n",
              "      <td>8.0</td>\n",
              "      <td>regular</td>\n",
              "      <td>3.0</td>\n",
              "    </tr>\n",
              "    <tr>\n",
              "      <th>34</th>\n",
              "      <td>11111145</td>\n",
              "      <td>Alumno 35</td>\n",
              "      <td>IDGS91</td>\n",
              "      <td>0.0</td>\n",
              "      <td>7.0</td>\n",
              "      <td>10.0</td>\n",
              "      <td>7.0</td>\n",
              "      <td>7.0</td>\n",
              "      <td>regular</td>\n",
              "      <td>6.2</td>\n",
              "    </tr>\n",
              "    <tr>\n",
              "      <th>35</th>\n",
              "      <td>11111146</td>\n",
              "      <td>Alumno 36</td>\n",
              "      <td>IDGS91</td>\n",
              "      <td>7.0</td>\n",
              "      <td>1.0</td>\n",
              "      <td>4.0</td>\n",
              "      <td>0.0</td>\n",
              "      <td>6.0</td>\n",
              "      <td>regular</td>\n",
              "      <td>3.6</td>\n",
              "    </tr>\n",
              "    <tr>\n",
              "      <th>36</th>\n",
              "      <td>11111147</td>\n",
              "      <td>Alumno 37</td>\n",
              "      <td>IDGS91</td>\n",
              "      <td>6.0</td>\n",
              "      <td>6.0</td>\n",
              "      <td>4.0</td>\n",
              "      <td>3.0</td>\n",
              "      <td>0.0</td>\n",
              "      <td>regular</td>\n",
              "      <td>3.8</td>\n",
              "    </tr>\n",
              "    <tr>\n",
              "      <th>37</th>\n",
              "      <td>11111148</td>\n",
              "      <td>Alumno 38</td>\n",
              "      <td>IDGS91</td>\n",
              "      <td>0.0</td>\n",
              "      <td>6.0</td>\n",
              "      <td>6.0</td>\n",
              "      <td>3.0</td>\n",
              "      <td>5.0</td>\n",
              "      <td>regular</td>\n",
              "      <td>4.0</td>\n",
              "    </tr>\n",
              "    <tr>\n",
              "      <th>38</th>\n",
              "      <td>11111149</td>\n",
              "      <td>Alumno 39</td>\n",
              "      <td>IDGS91</td>\n",
              "      <td>8.0</td>\n",
              "      <td>7.0</td>\n",
              "      <td>9.0</td>\n",
              "      <td>5.0</td>\n",
              "      <td>2.0</td>\n",
              "      <td>regular</td>\n",
              "      <td>6.2</td>\n",
              "    </tr>\n",
              "    <tr>\n",
              "      <th>39</th>\n",
              "      <td>11111150</td>\n",
              "      <td>Alumno 40</td>\n",
              "      <td>IDGS91</td>\n",
              "      <td>1.0</td>\n",
              "      <td>0.0</td>\n",
              "      <td>3.0</td>\n",
              "      <td>4.0</td>\n",
              "      <td>10.0</td>\n",
              "      <td>regular</td>\n",
              "      <td>3.6</td>\n",
              "    </tr>\n",
              "    <tr>\n",
              "      <th>40</th>\n",
              "      <td>11111151</td>\n",
              "      <td>Alumno 41</td>\n",
              "      <td>IDGS91</td>\n",
              "      <td>6.0</td>\n",
              "      <td>5.0</td>\n",
              "      <td>1.0</td>\n",
              "      <td>5.0</td>\n",
              "      <td>9.0</td>\n",
              "      <td>regular</td>\n",
              "      <td>5.2</td>\n",
              "    </tr>\n",
              "    <tr>\n",
              "      <th>41</th>\n",
              "      <td>11111152</td>\n",
              "      <td>Alumno 42</td>\n",
              "      <td>IDGS91</td>\n",
              "      <td>2.0</td>\n",
              "      <td>0.0</td>\n",
              "      <td>9.0</td>\n",
              "      <td>9.0</td>\n",
              "      <td>5.0</td>\n",
              "      <td>regular</td>\n",
              "      <td>5.0</td>\n",
              "    </tr>\n",
              "    <tr>\n",
              "      <th>42</th>\n",
              "      <td>11111153</td>\n",
              "      <td>Alumno 43</td>\n",
              "      <td>IDGS91</td>\n",
              "      <td>3.0</td>\n",
              "      <td>4.0</td>\n",
              "      <td>0.0</td>\n",
              "      <td>0.0</td>\n",
              "      <td>0.0</td>\n",
              "      <td>regular</td>\n",
              "      <td>1.4</td>\n",
              "    </tr>\n",
              "    <tr>\n",
              "      <th>43</th>\n",
              "      <td>11111154</td>\n",
              "      <td>Alumno 44</td>\n",
              "      <td>IDGS91</td>\n",
              "      <td>3.0</td>\n",
              "      <td>1.0</td>\n",
              "      <td>1.0</td>\n",
              "      <td>7.0</td>\n",
              "      <td>10.0</td>\n",
              "      <td>regular</td>\n",
              "      <td>4.4</td>\n",
              "    </tr>\n",
              "    <tr>\n",
              "      <th>44</th>\n",
              "      <td>11111155</td>\n",
              "      <td>Alumno 45</td>\n",
              "      <td>IDGS91</td>\n",
              "      <td>4.0</td>\n",
              "      <td>1.0</td>\n",
              "      <td>2.0</td>\n",
              "      <td>8.0</td>\n",
              "      <td>6.0</td>\n",
              "      <td>regular</td>\n",
              "      <td>4.2</td>\n",
              "    </tr>\n",
              "    <tr>\n",
              "      <th>45</th>\n",
              "      <td>11111156</td>\n",
              "      <td>Alumno 46</td>\n",
              "      <td>IDGS71</td>\n",
              "      <td>10.0</td>\n",
              "      <td>1.0</td>\n",
              "      <td>10.0</td>\n",
              "      <td>0.0</td>\n",
              "      <td>7.0</td>\n",
              "      <td>regular</td>\n",
              "      <td>5.6</td>\n",
              "    </tr>\n",
              "    <tr>\n",
              "      <th>46</th>\n",
              "      <td>11111157</td>\n",
              "      <td>Alumno 47</td>\n",
              "      <td>IDGS71</td>\n",
              "      <td>9.0</td>\n",
              "      <td>10.0</td>\n",
              "      <td>1.0</td>\n",
              "      <td>3.0</td>\n",
              "      <td>9.0</td>\n",
              "      <td>regular</td>\n",
              "      <td>6.4</td>\n",
              "    </tr>\n",
              "    <tr>\n",
              "      <th>47</th>\n",
              "      <td>11111158</td>\n",
              "      <td>Alumno 48</td>\n",
              "      <td>IDGS71</td>\n",
              "      <td>4.0</td>\n",
              "      <td>4.0</td>\n",
              "      <td>10.0</td>\n",
              "      <td>6.0</td>\n",
              "      <td>8.0</td>\n",
              "      <td>regular</td>\n",
              "      <td>6.4</td>\n",
              "    </tr>\n",
              "  </tbody>\n",
              "</table>\n",
              "</div>\n",
              "      <button class=\"colab-df-convert\" onclick=\"convertToInteractive('df-97de19cc-99d8-4d68-bae7-d016bd366e0d')\"\n",
              "              title=\"Convert this dataframe to an interactive table.\"\n",
              "              style=\"display:none;\">\n",
              "        \n",
              "  <svg xmlns=\"http://www.w3.org/2000/svg\" height=\"24px\"viewBox=\"0 0 24 24\"\n",
              "       width=\"24px\">\n",
              "    <path d=\"M0 0h24v24H0V0z\" fill=\"none\"/>\n",
              "    <path d=\"M18.56 5.44l.94 2.06.94-2.06 2.06-.94-2.06-.94-.94-2.06-.94 2.06-2.06.94zm-11 1L8.5 8.5l.94-2.06 2.06-.94-2.06-.94L8.5 2.5l-.94 2.06-2.06.94zm10 10l.94 2.06.94-2.06 2.06-.94-2.06-.94-.94-2.06-.94 2.06-2.06.94z\"/><path d=\"M17.41 7.96l-1.37-1.37c-.4-.4-.92-.59-1.43-.59-.52 0-1.04.2-1.43.59L10.3 9.45l-7.72 7.72c-.78.78-.78 2.05 0 2.83L4 21.41c.39.39.9.59 1.41.59.51 0 1.02-.2 1.41-.59l7.78-7.78 2.81-2.81c.8-.78.8-2.07 0-2.86zM5.41 20L4 18.59l7.72-7.72 1.47 1.35L5.41 20z\"/>\n",
              "  </svg>\n",
              "      </button>\n",
              "      \n",
              "  <style>\n",
              "    .colab-df-container {\n",
              "      display:flex;\n",
              "      flex-wrap:wrap;\n",
              "      gap: 12px;\n",
              "    }\n",
              "\n",
              "    .colab-df-convert {\n",
              "      background-color: #E8F0FE;\n",
              "      border: none;\n",
              "      border-radius: 50%;\n",
              "      cursor: pointer;\n",
              "      display: none;\n",
              "      fill: #1967D2;\n",
              "      height: 32px;\n",
              "      padding: 0 0 0 0;\n",
              "      width: 32px;\n",
              "    }\n",
              "\n",
              "    .colab-df-convert:hover {\n",
              "      background-color: #E2EBFA;\n",
              "      box-shadow: 0px 1px 2px rgba(60, 64, 67, 0.3), 0px 1px 3px 1px rgba(60, 64, 67, 0.15);\n",
              "      fill: #174EA6;\n",
              "    }\n",
              "\n",
              "    [theme=dark] .colab-df-convert {\n",
              "      background-color: #3B4455;\n",
              "      fill: #D2E3FC;\n",
              "    }\n",
              "\n",
              "    [theme=dark] .colab-df-convert:hover {\n",
              "      background-color: #434B5C;\n",
              "      box-shadow: 0px 1px 3px 1px rgba(0, 0, 0, 0.15);\n",
              "      filter: drop-shadow(0px 1px 2px rgba(0, 0, 0, 0.3));\n",
              "      fill: #FFFFFF;\n",
              "    }\n",
              "  </style>\n",
              "\n",
              "      <script>\n",
              "        const buttonEl =\n",
              "          document.querySelector('#df-97de19cc-99d8-4d68-bae7-d016bd366e0d button.colab-df-convert');\n",
              "        buttonEl.style.display =\n",
              "          google.colab.kernel.accessAllowed ? 'block' : 'none';\n",
              "\n",
              "        async function convertToInteractive(key) {\n",
              "          const element = document.querySelector('#df-97de19cc-99d8-4d68-bae7-d016bd366e0d');\n",
              "          const dataTable =\n",
              "            await google.colab.kernel.invokeFunction('convertToInteractive',\n",
              "                                                     [key], {});\n",
              "          if (!dataTable) return;\n",
              "\n",
              "          const docLinkHtml = 'Like what you see? Visit the ' +\n",
              "            '<a target=\"_blank\" href=https://colab.research.google.com/notebooks/data_table.ipynb>data table notebook</a>'\n",
              "            + ' to learn more about interactive tables.';\n",
              "          element.innerHTML = '';\n",
              "          dataTable['output_type'] = 'display_data';\n",
              "          await google.colab.output.renderOutput(dataTable, element);\n",
              "          const docLink = document.createElement('div');\n",
              "          docLink.innerHTML = docLinkHtml;\n",
              "          element.appendChild(docLink);\n",
              "        }\n",
              "      </script>\n",
              "    </div>\n",
              "  </div>\n",
              "  "
            ]
          },
          "metadata": {},
          "execution_count": 173
        }
      ]
    },
    {
      "cell_type": "markdown",
      "source": [
        "EXPORTAMOS EL RESULTADO A CSV CON EL NOMBRE \"calificaciones_promedio_v2.csv\" separado por \",\""
      ],
      "metadata": {
        "id": "jTUaX7yQJn8-"
      }
    },
    {
      "cell_type": "code",
      "source": [
        "archivo_completo.to_csv('calificaciones_promedio_v2.csv', sep=',', index=False, header=False)"
      ],
      "metadata": {
        "id": "GappXmKBu1yB"
      },
      "execution_count": 172,
      "outputs": []
    }
  ]
}