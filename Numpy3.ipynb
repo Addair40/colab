{
  "nbformat": 4,
  "nbformat_minor": 0,
  "metadata": {
    "colab": {
      "provenance": [],
      "authorship_tag": "ABX9TyPRlj88pj+y4JWBrFUWBBkt",
      "include_colab_link": true
    },
    "kernelspec": {
      "name": "python3",
      "display_name": "Python 3"
    },
    "language_info": {
      "name": "python"
    }
  },
  "cells": [
    {
      "cell_type": "markdown",
      "metadata": {
        "id": "view-in-github",
        "colab_type": "text"
      },
      "source": [
        "<a href=\"https://colab.research.google.com/github/Addair40/colab/blob/main/Numpy3.ipynb\" target=\"_parent\"><img src=\"https://colab.research.google.com/assets/colab-badge.svg\" alt=\"Open In Colab\"/></a>"
      ]
    },
    {
      "cell_type": "code",
      "execution_count": 1,
      "metadata": {
        "id": "cHYUD7ol9QSH"
      },
      "outputs": [],
      "source": [
        "import numpy as np"
      ]
    },
    {
      "cell_type": "code",
      "source": [
        "a = np.array([\"unos\",\"dos dos\",\"tres\"])\n",
        "#np.char.center(a,10,\"-\")\n",
        "#np.char.count(a,\"os\")  #BUSCA EL NUMERO DE CARACTERES\n",
        "#np.char.find(a,\"os\")   #BUSCA LA CADENA O EL CARACTER DE IZQUIERDA A DERECHA\n",
        "#np.char.rfind(a,\"os\")  #BUSCA DE DERECHA A IZQUIERDA EL CARACTER\n",
        "#np.char.index(a,\"s\")   #LA POSICION Y SI NO LO ENCUENTRA LANZA UN ERROR\n",
        "#np.char.rindex(a,\"s\")   #LA POSICION DE DERECHA A IZQUIERDA Y SI NO LO ENCUENTRA LANZA UN ERROR"
      ],
      "metadata": {
        "id": "KUDv7Gvf9UDa"
      },
      "execution_count": 3,
      "outputs": []
    },
    {
      "cell_type": "code",
      "source": [
        "a = np.array([\"Hola\",\"3\",\"Hola3\",\"\\t\"])\n",
        "np.char.isalnum(a)        #VERIFICA SI EL DATO ES ALFANUMERICO\n",
        "np.char.isalpha(a)        #VERIFICA SI EEL DATO ES\n",
        "np.char.isdecimal(a)      #VERIFICA SI EL DATO ES DECIMAL \n",
        "np.char.isnumeric(a)      #VERIFICA SI EL DATO ES NUMERICO\n",
        "np.char.isspace(a)        #VERIFCA SI EXISTEN ESPACIOS O SALTOS DE LINEA\n",
        "np.char.istitle(a)        #VERIFICA SI LA PRIMER LETRA SEA MAYUSCULA"
      ],
      "metadata": {
        "colab": {
          "base_uri": "https://localhost:8080/"
        },
        "id": "wFK6eBmHKNQN",
        "outputId": "e6b57d71-f964-47fe-99da-cda653216573"
      },
      "execution_count": 4,
      "outputs": [
        {
          "output_type": "execute_result",
          "data": {
            "text/plain": [
              "array([ True, False,  True, False])"
            ]
          },
          "metadata": {},
          "execution_count": 4
        }
      ]
    }
  ]
}