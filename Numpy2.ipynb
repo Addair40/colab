{
  "nbformat": 4,
  "nbformat_minor": 0,
  "metadata": {
    "colab": {
      "provenance": [],
      "authorship_tag": "ABX9TyNcNC/B6rDV66kLyqgmTRdh",
      "include_colab_link": true
    },
    "kernelspec": {
      "name": "python3",
      "display_name": "Python 3"
    },
    "language_info": {
      "name": "python"
    }
  },
  "cells": [
    {
      "cell_type": "markdown",
      "metadata": {
        "id": "view-in-github",
        "colab_type": "text"
      },
      "source": [
        "<a href=\"https://colab.research.google.com/github/Addair40/colab/blob/main/Numpy2.ipynb\" target=\"_parent\"><img src=\"https://colab.research.google.com/assets/colab-badge.svg\" alt=\"Open In Colab\"/></a>"
      ]
    },
    {
      "cell_type": "code",
      "source": [
        "import numpy as np\n",
        "from numpy import int32"
      ],
      "metadata": {
        "id": "K83B6qbLrQB0"
      },
      "execution_count": 8,
      "outputs": []
    },
    {
      "cell_type": "code",
      "source": [
        "array = np.array([1,2,3,3])\n",
        "#array.argmax()         #INDICE DEL VALOR MAXIMO\n",
        "#array.argmin()         #INDICE DEL VALOR MINIMO\n",
        "#array.max()            #VALOR MAXIMO\n",
        "#array.min()            #VALOR MINIMO"
      ],
      "metadata": {
        "id": "4ZyTLHCnrVwi"
      },
      "execution_count": 2,
      "outputs": []
    },
    {
      "cell_type": "code",
      "source": [
        "array = np.array([1,2,3,3])\n",
        "array.astype(dtype = float)\n",
        "array"
      ],
      "metadata": {
        "colab": {
          "base_uri": "https://localhost:8080/"
        },
        "id": "VRSbeTdrrXBK",
        "outputId": "9e86d4fe-ef8a-428f-cdd1-c2659d5711b1"
      },
      "execution_count": 3,
      "outputs": [
        {
          "output_type": "execute_result",
          "data": {
            "text/plain": [
              "array([1, 2, 3, 3])"
            ]
          },
          "metadata": {},
          "execution_count": 3
        }
      ]
    },
    {
      "cell_type": "code",
      "source": [
        "array = array.astype(dtype = float)\n",
        "array2 = array.copy()   #COPIA DE UN ARRAY\n",
        "array2.fill(0)\n",
        "array2\n",
        "array.dump(\"datos.pk\")  #CONVIERTE LOS DATOS EN BINARIO Y LOS ALMACENA "
      ],
      "metadata": {
        "id": "1uR0nB4rrYTc"
      },
      "execution_count": 4,
      "outputs": []
    },
    {
      "cell_type": "code",
      "source": [
        "x = np.load(\"datos.pk\", allow_pickle=True)  #REGRESA LOS DATOS GUARDADOS\n",
        "x"
      ],
      "metadata": {
        "colab": {
          "base_uri": "https://localhost:8080/"
        },
        "id": "pEmKlve8raK-",
        "outputId": "dd6dba14-74f3-41ca-c950-7958d3155062"
      },
      "execution_count": 5,
      "outputs": [
        {
          "output_type": "execute_result",
          "data": {
            "text/plain": [
              "array([1., 2., 3., 3.])"
            ]
          },
          "metadata": {},
          "execution_count": 5
        }
      ]
    },
    {
      "cell_type": "code",
      "source": [
        "array.dumps()"
      ],
      "metadata": {
        "colab": {
          "base_uri": "https://localhost:8080/"
        },
        "id": "MOsCywjyrcR2",
        "outputId": "e2920530-21fb-45a3-d7ee-7c41f00cb55a"
      },
      "execution_count": 6,
      "outputs": [
        {
          "output_type": "execute_result",
          "data": {
            "text/plain": [
              "b'\\x80\\x02cnumpy.core.multiarray\\n_reconstruct\\nq\\x00cnumpy\\nndarray\\nq\\x01K\\x00\\x85q\\x02c_codecs\\nencode\\nq\\x03X\\x01\\x00\\x00\\x00bq\\x04X\\x06\\x00\\x00\\x00latin1q\\x05\\x86q\\x06Rq\\x07\\x87q\\x08Rq\\t(K\\x01K\\x04\\x85q\\ncnumpy\\ndtype\\nq\\x0bX\\x02\\x00\\x00\\x00f8q\\x0c\\x89\\x88\\x87q\\rRq\\x0e(K\\x03X\\x01\\x00\\x00\\x00<q\\x0fNNNJ\\xff\\xff\\xff\\xffJ\\xff\\xff\\xff\\xffK\\x00tq\\x10b\\x89h\\x03X!\\x00\\x00\\x00\\x00\\x00\\x00\\x00\\x00\\x00\\xc3\\xb0?\\x00\\x00\\x00\\x00\\x00\\x00\\x00@\\x00\\x00\\x00\\x00\\x00\\x00\\x08@\\x00\\x00\\x00\\x00\\x00\\x00\\x08@q\\x11h\\x05\\x86q\\x12Rq\\x13tq\\x14b.'"
            ]
          },
          "metadata": {},
          "execution_count": 6
        }
      ]
    },
    {
      "cell_type": "code",
      "source": [
        "array = np.array([[1,2,3],[4,5,6],[7,8,9]],dtype=int32)\n",
        "array"
      ],
      "metadata": {
        "colab": {
          "base_uri": "https://localhost:8080/"
        },
        "id": "xNDBOVYNrtsi",
        "outputId": "6b4630aa-0692-4b10-f086-30312b0f80b0"
      },
      "execution_count": 9,
      "outputs": [
        {
          "output_type": "execute_result",
          "data": {
            "text/plain": [
              "array([[1, 2, 3],\n",
              "       [4, 5, 6],\n",
              "       [7, 8, 9]], dtype=int32)"
            ]
          },
          "metadata": {},
          "execution_count": 9
        }
      ]
    },
    {
      "cell_type": "code",
      "source": [
        "array = np.array([[1,2,3],[4,5,6],[7,8,9]],dtype=int32)\n",
        "array = array.flatten()\n",
        "array"
      ],
      "metadata": {
        "colab": {
          "base_uri": "https://localhost:8080/"
        },
        "id": "CsQdN8nJueXk",
        "outputId": "cdebf3b7-d407-440c-b0ce-f643fd967af1"
      },
      "execution_count": 10,
      "outputs": [
        {
          "output_type": "execute_result",
          "data": {
            "text/plain": [
              "array([1, 2, 3, 4, 5, 6, 7, 8, 9], dtype=int32)"
            ]
          },
          "metadata": {},
          "execution_count": 10
        }
      ]
    },
    {
      "cell_type": "code",
      "source": [
        "array.item(4)  #DEVUELVE LA POSICION EN LA QUE SE ENCUENTRA"
      ],
      "metadata": {
        "colab": {
          "base_uri": "https://localhost:8080/"
        },
        "id": "jvr8jX0HuiMZ",
        "outputId": "44fc2174-bacd-4d7b-b9c3-b6cb5c79ff77"
      },
      "execution_count": 11,
      "outputs": [
        {
          "output_type": "execute_result",
          "data": {
            "text/plain": [
              "5"
            ]
          },
          "metadata": {},
          "execution_count": 11
        }
      ]
    },
    {
      "cell_type": "code",
      "source": [
        "array = np.array([0,1,0,3,4,0],dtype=int32)  #MUESTRA LOS INDICES DONDE NO VIENEN LOS 0\n",
        "array.nonzero()"
      ],
      "metadata": {
        "colab": {
          "base_uri": "https://localhost:8080/"
        },
        "id": "U7mjAq9nuktA",
        "outputId": "6db1e541-0761-46ac-a219-7d3d3556cfa4"
      },
      "execution_count": 13,
      "outputs": [
        {
          "output_type": "execute_result",
          "data": {
            "text/plain": [
              "(array([1, 3, 4]),)"
            ]
          },
          "metadata": {},
          "execution_count": 13
        }
      ]
    },
    {
      "cell_type": "code",
      "source": [
        "array = np.array([1,2,3],dtype=int32)  #MULTIPLICA LOS NUMEROS Y DEVULEVE TODOS LOS PRODUCTOS, SI TIENE 0 NO FUNCIONA\n",
        "#array.prod()                          \n",
        "#array.prod(initial = 3)      \n"
      ],
      "metadata": {
        "id": "CBIA6Jcj0bAo"
      },
      "execution_count": null,
      "outputs": []
    },
    {
      "cell_type": "code",
      "source": [
        "from numpy import repeat\n",
        "\n",
        "\n",
        "array = np.array([1,2,3],dtype=int32)\n",
        "#array.repeat(repeats=3) \n",
        "array = array.repeat(repeats=3)\n",
        "array.reshape(3,3)\n"
      ],
      "metadata": {
        "colab": {
          "base_uri": "https://localhost:8080/"
        },
        "id": "gLmTe57W0dDs",
        "outputId": "3996816a-5933-441b-8b22-6ce608dcebf5"
      },
      "execution_count": 16,
      "outputs": [
        {
          "output_type": "execute_result",
          "data": {
            "text/plain": [
              "array([[1, 1, 1],\n",
              "       [2, 2, 2],\n",
              "       [3, 3, 3]], dtype=int32)"
            ]
          },
          "metadata": {},
          "execution_count": 16
        }
      ]
    },
    {
      "cell_type": "code",
      "source": [
        "array = np.array([1,2,3],dtype=int32)\n",
        "#array.repeat(repeats=3) \n",
        "array = array.repeat(repeats=3)\n",
        "array.reshape(1,9)\n"
      ],
      "metadata": {
        "colab": {
          "base_uri": "https://localhost:8080/"
        },
        "id": "AlS1JlK-0frm",
        "outputId": "c27da998-bb93-4b62-f3ea-39acdc158038"
      },
      "execution_count": 17,
      "outputs": [
        {
          "output_type": "execute_result",
          "data": {
            "text/plain": [
              "array([[1, 1, 1, 2, 2, 2, 3, 3, 3]], dtype=int32)"
            ]
          },
          "metadata": {},
          "execution_count": 17
        }
      ]
    },
    {
      "cell_type": "code",
      "source": [
        "array = np.array([[1,2],[3,4]],dtype=int32)\n",
        "array\n",
        "np.resize(array,(4,3))"
      ],
      "metadata": {
        "colab": {
          "base_uri": "https://localhost:8080/"
        },
        "id": "Upc39uMB0hmD",
        "outputId": "d9e2a2eb-7d9a-4db6-f9e1-393e495324f4"
      },
      "execution_count": 18,
      "outputs": [
        {
          "output_type": "execute_result",
          "data": {
            "text/plain": [
              "array([[1, 2, 3],\n",
              "       [4, 1, 2],\n",
              "       [3, 4, 1],\n",
              "       [2, 3, 4]], dtype=int32)"
            ]
          },
          "metadata": {},
          "execution_count": 18
        }
      ]
    },
    {
      "cell_type": "code",
      "source": [
        "array = np.array([[1,2,3],[4,1,2],[3,4,1],[2,3,4]],dtype=int32)\n",
        "array.sort(axis = 1,kind = 'quicksort')    #axis = 0  ORDENA EN COLUMNAS\n",
        "                                           #axis = 1  ORDENA EN FILAS\n",
        "array"
      ],
      "metadata": {
        "colab": {
          "base_uri": "https://localhost:8080/"
        },
        "id": "BUXCKvZK4PGW",
        "outputId": "df5f3612-989f-497c-d4fa-8723a3dff28f"
      },
      "execution_count": 19,
      "outputs": [
        {
          "output_type": "execute_result",
          "data": {
            "text/plain": [
              "array([[1, 2, 3],\n",
              "       [1, 2, 4],\n",
              "       [1, 3, 4],\n",
              "       [2, 3, 4]], dtype=int32)"
            ]
          },
          "metadata": {},
          "execution_count": 19
        }
      ]
    },
    {
      "cell_type": "code",
      "source": [
        "from numpy import swapaxes\n",
        "\n",
        "\n",
        "array = np.array([[0,1],[2,3]],dtype=int32)\n",
        "array.swapaxes(1,0)             #0 - COLUMNAS\n",
        "                                #1 - FILAS"
      ],
      "metadata": {
        "colab": {
          "base_uri": "https://localhost:8080/"
        },
        "id": "YrewSqP44Wa_",
        "outputId": "bdcce192-2a5b-4bf3-a39a-4d2eaa08fb67"
      },
      "execution_count": 20,
      "outputs": [
        {
          "output_type": "execute_result",
          "data": {
            "text/plain": [
              "array([[0, 2],\n",
              "       [1, 3]], dtype=int32)"
            ]
          },
          "metadata": {},
          "execution_count": 20
        }
      ]
    },
    {
      "cell_type": "code",
      "source": [
        "array = np.array([1,2,3,4,5],dtype=int32)\n",
        "array.take([2,4])\n"
      ],
      "metadata": {
        "colab": {
          "base_uri": "https://localhost:8080/"
        },
        "id": "XWfX--aY5uOi",
        "outputId": "ca243709-89c0-48da-952d-ae4fa063ab10"
      },
      "execution_count": 21,
      "outputs": [
        {
          "output_type": "execute_result",
          "data": {
            "text/plain": [
              "array([3, 5], dtype=int32)"
            ]
          },
          "metadata": {},
          "execution_count": 21
        }
      ]
    }
  ]
}