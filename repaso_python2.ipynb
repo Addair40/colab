{
  "nbformat": 4,
  "nbformat_minor": 0,
  "metadata": {
    "colab": {
      "provenance": [],
      "authorship_tag": "ABX9TyMuYSYKZCB7AjIYStKg4eLn",
      "include_colab_link": true
    },
    "kernelspec": {
      "name": "python3",
      "display_name": "Python 3"
    },
    "language_info": {
      "name": "python"
    }
  },
  "cells": [
    {
      "cell_type": "markdown",
      "metadata": {
        "id": "view-in-github",
        "colab_type": "text"
      },
      "source": [
        "<a href=\"https://colab.research.google.com/github/Addair40/colab/blob/main/repaso_python2.ipynb\" target=\"_parent\"><img src=\"https://colab.research.google.com/assets/colab-badge.svg\" alt=\"Open In Colab\"/></a>"
      ]
    },
    {
      "cell_type": "code",
      "execution_count": 1,
      "metadata": {
        "colab": {
          "base_uri": "https://localhost:8080/",
          "height": 36
        },
        "id": "1UBYlPB46iHU",
        "outputId": "db6ab410-1f6a-4fda-b868-f95671502a4f"
      },
      "outputs": [
        {
          "output_type": "execute_result",
          "data": {
            "text/plain": [
              "'SELECT * FROM contactos;'"
            ],
            "application/vnd.google.colaboratory.intrinsic+json": {
              "type": "string"
            }
          },
          "metadata": {},
          "execution_count": 1
        }
      ],
      "source": [
        "words = [\"select\", \"from\"]\n",
        "consulta = \"select * from contactos;\"\n",
        "\n",
        "for w in words:\n",
        "    consulta = consulta.replace(w,w.upper())\n",
        "consulta"
      ]
    },
    {
      "cell_type": "code",
      "source": [
        "def formatearSQL(sql:str)->str:\n",
        "    words  = [\"selec\",\"from\",\"insert\",\"into\",\"values\",\"unique\"]\n",
        "    for w in words:\n",
        "        sql = sql.replace(w,w.upper())\n",
        "    return sql "
      ],
      "metadata": {
        "id": "fzQjcGB96rHF"
      },
      "execution_count": 2,
      "outputs": []
    },
    {
      "cell_type": "code",
      "source": [
        "consulta = \"select * from contactos;\"\n",
        "print(formatearSQL(consulta))"
      ],
      "metadata": {
        "colab": {
          "base_uri": "https://localhost:8080/"
        },
        "id": "sdwFExX56tSY",
        "outputId": "824843ff-9479-43cf-ac14-c1d8ea213b9b"
      },
      "execution_count": 3,
      "outputs": [
        {
          "output_type": "stream",
          "name": "stdout",
          "text": [
            "SELECt * FROM contactos;\n"
          ]
        }
      ]
    },
    {
      "cell_type": "code",
      "source": [
        "consultas = [\n",
        "    \"select * from contactos;\"\n",
        "    \"insert into contactos(nombre,telefono) values('Contactos','1234569);\"\n",
        "]\n",
        "\n",
        "for c in consultas:\n",
        "    print(formatearSQL(c))"
      ],
      "metadata": {
        "colab": {
          "base_uri": "https://localhost:8080/"
        },
        "id": "bXRWtWCq6wfD",
        "outputId": "0d5daaf5-1a07-47f6-eba6-6bd1ea0004c7"
      },
      "execution_count": 4,
      "outputs": [
        {
          "output_type": "stream",
          "name": "stdout",
          "text": [
            "SELECt * FROM contactos;INSERT INTO contactos(nombre,telefono) VALUES('Contactos','1234569);\n"
          ]
        }
      ]
    },
    {
      "cell_type": "code",
      "source": [
        "consultas = [\n",
        "    \"select * from contactos;\"\n",
        "    \"insert into contactos(nombre,telefono) values('Contactos','1234569);\"\n",
        "]\n",
        "\n",
        "consultasf = []\n",
        "for c in consultas:\n",
        "    consultasf.append(formatearSQL(c))\n",
        "    \n",
        "consultasf"
      ],
      "metadata": {
        "colab": {
          "base_uri": "https://localhost:8080/"
        },
        "id": "dZgj4ZAa6zRx",
        "outputId": "b3a38dd3-f29f-4a2a-a2fa-e064ec4802c8"
      },
      "execution_count": 5,
      "outputs": [
        {
          "output_type": "execute_result",
          "data": {
            "text/plain": [
              "[\"SELECt * FROM contactos;INSERT INTO contactos(nombre,telefono) VALUES('Contactos','1234569);\"]"
            ]
          },
          "metadata": {},
          "execution_count": 5
        }
      ]
    },
    {
      "cell_type": "code",
      "source": [
        "consultas = [\n",
        "    \"select * from contactos;\"\n",
        "    \"insert into contactos(nombre,telefono) values('Contactos','1234569);\"\n",
        "]\n",
        "\n",
        "consultasf = list(map(formatearSQL,consultas))\n",
        "\n",
        "consultasf"
      ],
      "metadata": {
        "colab": {
          "base_uri": "https://localhost:8080/"
        },
        "id": "nVctNQrS610Q",
        "outputId": "db29c15c-b66f-48d4-cd89-c22a538de204"
      },
      "execution_count": 6,
      "outputs": [
        {
          "output_type": "execute_result",
          "data": {
            "text/plain": [
              "[\"SELECt * FROM contactos;INSERT INTO contactos(nombre,telefono) VALUES('Contactos','1234569);\"]"
            ]
          },
          "metadata": {},
          "execution_count": 6
        }
      ]
    },
    {
      "cell_type": "markdown",
      "source": [
        "### EJEMPLO DE ABRIR UN ARCHIVO TXT DE MODO LECTURA"
      ],
      "metadata": {
        "id": "XYbxN5ZB73cq"
      }
    },
    {
      "cell_type": "code",
      "source": [
        "with open(\"archivo.txt\",\"r\") as file:\n",
        "  print(file.readline())"
      ],
      "metadata": {
        "colab": {
          "base_uri": "https://localhost:8080/"
        },
        "id": "NEWB5e-U7Nc-",
        "outputId": "c56330bc-0a94-446c-9ed1-42edbd12ec6d"
      },
      "execution_count": 10,
      "outputs": [
        {
          "output_type": "stream",
          "name": "stdout",
          "text": [
            "01/01/2022,10,10,10,\n",
            "\n"
          ]
        }
      ]
    },
    {
      "cell_type": "markdown",
      "source": [],
      "metadata": {
        "id": "SP_kJA4N7_Iq"
      }
    }
  ]
}