{
  "nbformat": 4,
  "nbformat_minor": 0,
  "metadata": {
    "colab": {
      "provenance": [],
      "authorship_tag": "ABX9TyN8KYiKb2pA0HXhX/992npW",
      "include_colab_link": true
    },
    "kernelspec": {
      "name": "python3",
      "display_name": "Python 3"
    },
    "language_info": {
      "name": "python"
    }
  },
  "cells": [
    {
      "cell_type": "markdown",
      "metadata": {
        "id": "view-in-github",
        "colab_type": "text"
      },
      "source": [
        "<a href=\"https://colab.research.google.com/github/Addair40/colab/blob/main/CalificacionesV1csspasoapasoipynb.ipynb\" target=\"_parent\"><img src=\"https://colab.research.google.com/assets/colab-badge.svg\" alt=\"Open In Colab\"/></a>"
      ]
    },
    {
      "cell_type": "code",
      "execution_count": 4,
      "metadata": {
        "id": "kiXtKoowvDdI"
      },
      "outputs": [],
      "source": [
        "#Importar librerias\n",
        "\n",
        "import csv          #leer de forma facil el archivo csv\n",
        "import numpy as np"
      ]
    },
    {
      "cell_type": "code",
      "source": [
        "np.__version__    #verificar la version con la que se esta trabajando"
      ],
      "metadata": {
        "colab": {
          "base_uri": "https://localhost:8080/",
          "height": 35
        },
        "id": "XiXedHkDvGzl",
        "outputId": "6b2f04dd-016f-453e-bb59-43dfab926549"
      },
      "execution_count": 6,
      "outputs": [
        {
          "output_type": "execute_result",
          "data": {
            "text/plain": [
              "'1.21.6'"
            ],
            "application/vnd.google.colaboratory.intrinsic+json": {
              "type": "string"
            }
          },
          "metadata": {},
          "execution_count": 6
        }
      ]
    },
    {
      "cell_type": "code",
      "source": [
        "#abrir el archivo csv\n",
        "\n",
        "with open('calificaciones_v1.csv','r') as file:\n",
        "    data = list(csv.reader(file,delimiter=\",\"))"
      ],
      "metadata": {
        "id": "H80oi3gavVHf"
      },
      "execution_count": 7,
      "outputs": []
    },
    {
      "cell_type": "code",
      "source": [
        "type(data)"
      ],
      "metadata": {
        "colab": {
          "base_uri": "https://localhost:8080/"
        },
        "id": "JVbgfCo6vgVO",
        "outputId": "b9f2d092-2909-4be5-ae77-6d084b42a546"
      },
      "execution_count": 8,
      "outputs": [
        {
          "output_type": "execute_result",
          "data": {
            "text/plain": [
              "list"
            ]
          },
          "metadata": {},
          "execution_count": 8
        }
      ]
    },
    {
      "cell_type": "markdown",
      "source": [
        "CONVERTIR A ndarray\n"
      ],
      "metadata": {
        "id": "m4qdHLk5vqH-"
      }
    },
    {
      "cell_type": "code",
      "source": [
        "data =np.array(data)"
      ],
      "metadata": {
        "id": "t1CUJBIRvq0g"
      },
      "execution_count": 9,
      "outputs": []
    },
    {
      "cell_type": "code",
      "source": [
        "type(data)"
      ],
      "metadata": {
        "colab": {
          "base_uri": "https://localhost:8080/"
        },
        "id": "Ek7Ez3PPvueh",
        "outputId": "1636f3f7-b060-40d5-83c6-32b494f088a7"
      },
      "execution_count": 10,
      "outputs": [
        {
          "output_type": "execute_result",
          "data": {
            "text/plain": [
              "numpy.ndarray"
            ]
          },
          "metadata": {},
          "execution_count": 10
        }
      ]
    },
    {
      "cell_type": "code",
      "source": [
        "data[:10,:]"
      ],
      "metadata": {
        "colab": {
          "base_uri": "https://localhost:8080/"
        },
        "id": "elfRmTojvxvN",
        "outputId": "80393eff-5d8e-4617-aac0-e2248d236272"
      },
      "execution_count": 11,
      "outputs": [
        {
          "output_type": "execute_result",
          "data": {
            "text/plain": [
              "array([['matricula', '11111111'],\n",
              "       ['nombre', 'Alumno 1'],\n",
              "       ['grupo', 'TI11'],\n",
              "       ['Materia 1', '1'],\n",
              "       ['Materia 2', '8'],\n",
              "       ['Materia 3', '1'],\n",
              "       ['Materia 4', '7'],\n",
              "       ['Materia 5', '2'],\n",
              "       ['estado', 'regular'],\n",
              "       ['matricula', '11111112']], dtype='<U9')"
            ]
          },
          "metadata": {},
          "execution_count": 11
        }
      ]
    },
    {
      "cell_type": "markdown",
      "source": [
        "OBTENER LAS CABECERAS (PRIMERA COLUMNA DEL ARRAY)"
      ],
      "metadata": {
        "id": "1-PhVRyMv17H"
      }
    },
    {
      "cell_type": "code",
      "source": [
        "cabeceras = data.T[0] #tranponer la columna 0 a una fila\n"
      ],
      "metadata": {
        "id": "9EUObdoNv4Yo"
      },
      "execution_count": 12,
      "outputs": []
    },
    {
      "cell_type": "code",
      "source": [
        "cabeceras[:15]"
      ],
      "metadata": {
        "colab": {
          "base_uri": "https://localhost:8080/"
        },
        "id": "0NsRJpd9v8hh",
        "outputId": "5691895a-2805-412f-db9a-7197adb3474c"
      },
      "execution_count": 13,
      "outputs": [
        {
          "output_type": "execute_result",
          "data": {
            "text/plain": [
              "array(['matricula', 'nombre', 'grupo', 'Materia 1', 'Materia 2',\n",
              "       'Materia 3', 'Materia 4', 'Materia 5', 'estado', 'matricula',\n",
              "       'nombre', 'grupo', 'Materia 1', 'Materia 2', 'Materia 3'],\n",
              "      dtype='<U9')"
            ]
          },
          "metadata": {},
          "execution_count": 13
        }
      ]
    },
    {
      "cell_type": "markdown",
      "source": [
        "CONTAR LAS CABECERAS"
      ],
      "metadata": {
        "id": "l4bd_lEGv_YB"
      }
    },
    {
      "cell_type": "code",
      "source": [
        "cabeceras.size"
      ],
      "metadata": {
        "colab": {
          "base_uri": "https://localhost:8080/"
        },
        "id": "Y-B_Jgmov_7R",
        "outputId": "1d37d496-9732-4206-c2da-943e79ab2144"
      },
      "execution_count": 14,
      "outputs": [
        {
          "output_type": "execute_result",
          "data": {
            "text/plain": [
              "432"
            ]
          },
          "metadata": {},
          "execution_count": 14
        }
      ]
    },
    {
      "cell_type": "code",
      "source": [
        "np.unique(cabeceras)"
      ],
      "metadata": {
        "colab": {
          "base_uri": "https://localhost:8080/"
        },
        "id": "-vukOqCywC2M",
        "outputId": "30df14a6-49ed-4386-c0ee-aa306956b859"
      },
      "execution_count": 15,
      "outputs": [
        {
          "output_type": "execute_result",
          "data": {
            "text/plain": [
              "array(['Materia 1', 'Materia 2', 'Materia 3', 'Materia 4', 'Materia 5',\n",
              "       'estado', 'grupo', 'matricula', 'nombre'], dtype='<U9')"
            ]
          },
          "metadata": {},
          "execution_count": 15
        }
      ]
    },
    {
      "cell_type": "code",
      "source": [
        "np.unique(cabeceras).size"
      ],
      "metadata": {
        "colab": {
          "base_uri": "https://localhost:8080/"
        },
        "id": "sSoKgMwjwEOM",
        "outputId": "af2caf08-89ce-49a1-9841-92177f403740"
      },
      "execution_count": 16,
      "outputs": [
        {
          "output_type": "execute_result",
          "data": {
            "text/plain": [
              "9"
            ]
          },
          "metadata": {},
          "execution_count": 16
        }
      ]
    },
    {
      "cell_type": "markdown",
      "source": [
        "OBTENER LAS CABECERAS"
      ],
      "metadata": {
        "id": "ynoeguTWwHmA"
      }
    },
    {
      "cell_type": "code",
      "source": [
        "cabeceras = cabeceras[:9]\n",
        "cabeceras"
      ],
      "metadata": {
        "colab": {
          "base_uri": "https://localhost:8080/"
        },
        "id": "DWSkCM3JwGpK",
        "outputId": "7e3c24d5-c38e-4831-e977-fbd0387705e4"
      },
      "execution_count": 17,
      "outputs": [
        {
          "output_type": "execute_result",
          "data": {
            "text/plain": [
              "array(['matricula', 'nombre', 'grupo', 'Materia 1', 'Materia 2',\n",
              "       'Materia 3', 'Materia 4', 'Materia 5', 'estado'], dtype='<U9')"
            ]
          },
          "metadata": {},
          "execution_count": 17
        }
      ]
    },
    {
      "cell_type": "markdown",
      "source": [
        "CALCULAR EL NUMERO DE REGISTROS"
      ],
      "metadata": {
        "id": "oQN7EU1SwUE4"
      }
    },
    {
      "cell_type": "code",
      "source": [
        "no_cabeceras = cabeceras.size\n",
        "no_cabeceras"
      ],
      "metadata": {
        "colab": {
          "base_uri": "https://localhost:8080/"
        },
        "id": "HHf2vC8LwZeL",
        "outputId": "0fa43756-b17b-4b42-e2c9-d76a5f348881"
      },
      "execution_count": 18,
      "outputs": [
        {
          "output_type": "execute_result",
          "data": {
            "text/plain": [
              "9"
            ]
          },
          "metadata": {},
          "execution_count": 18
        }
      ]
    },
    {
      "cell_type": "code",
      "source": [
        "no_registros = data.T[0].size\n",
        "no_registros"
      ],
      "metadata": {
        "colab": {
          "base_uri": "https://localhost:8080/"
        },
        "id": "zJyFm8_jwzjl",
        "outputId": "c38fb6e8-a773-4781-b5fa-e967b09f3046"
      },
      "execution_count": 19,
      "outputs": [
        {
          "output_type": "execute_result",
          "data": {
            "text/plain": [
              "432"
            ]
          },
          "metadata": {},
          "execution_count": 19
        }
      ]
    },
    {
      "cell_type": "code",
      "source": [
        "#Permite calcular el numero de registros del archivo \n",
        "filas = no_registros / no_cabeceras\n",
        "filas"
      ],
      "metadata": {
        "colab": {
          "base_uri": "https://localhost:8080/"
        },
        "id": "QykZfMbQw4gP",
        "outputId": "dff8d3bc-34aa-44d0-c44e-fce55b094636"
      },
      "execution_count": 20,
      "outputs": [
        {
          "output_type": "execute_result",
          "data": {
            "text/plain": [
              "48.0"
            ]
          },
          "metadata": {},
          "execution_count": 20
        }
      ]
    },
    {
      "cell_type": "markdown",
      "source": [
        "ELIMINAR LAS CABECERAS DEL ARRAY"
      ],
      "metadata": {
        "id": "E7KT3CjrzLXn"
      }
    },
    {
      "cell_type": "code",
      "source": [
        "data_sin_cabeceras = np.delete(data,0,1) #formula np.delete(array + objeto + axis) axis:0-row, 1-cols"
      ],
      "metadata": {
        "id": "nCZA0C5Dyavr"
      },
      "execution_count": 21,
      "outputs": []
    },
    {
      "cell_type": "code",
      "source": [
        "data_sin_cabeceras [:10]"
      ],
      "metadata": {
        "colab": {
          "base_uri": "https://localhost:8080/"
        },
        "id": "aFBl6twXzir1",
        "outputId": "a343ce03-a780-41ea-9493-1e8ca74e477d"
      },
      "execution_count": 22,
      "outputs": [
        {
          "output_type": "execute_result",
          "data": {
            "text/plain": [
              "array([['11111111'],\n",
              "       ['Alumno 1'],\n",
              "       ['TI11'],\n",
              "       ['1'],\n",
              "       ['8'],\n",
              "       ['1'],\n",
              "       ['7'],\n",
              "       ['2'],\n",
              "       ['regular'],\n",
              "       ['11111112']], dtype='<U9')"
            ]
          },
          "metadata": {},
          "execution_count": 22
        }
      ]
    },
    {
      "cell_type": "markdown",
      "source": [
        "CAMBIAR LA FORMA DEL ARRAY"
      ],
      "metadata": {
        "id": "6ef9PUix0Oeo"
      }
    },
    {
      "cell_type": "code",
      "source": [
        "data_sin_cabeceras.shape"
      ],
      "metadata": {
        "colab": {
          "base_uri": "https://localhost:8080/"
        },
        "id": "-qqGAcBc0Gjn",
        "outputId": "6fddead8-9558-4115-ba74-4cf003fc92af"
      },
      "execution_count": 23,
      "outputs": [
        {
          "output_type": "execute_result",
          "data": {
            "text/plain": [
              "(432, 1)"
            ]
          },
          "metadata": {},
          "execution_count": 23
        }
      ]
    },
    {
      "cell_type": "code",
      "source": [
        "data_sin_cabeceras = data_sin_cabeceras.reshape(int(filas),int(no_cabeceras))"
      ],
      "metadata": {
        "id": "Ne6-pwvo0RXG"
      },
      "execution_count": 24,
      "outputs": []
    },
    {
      "cell_type": "code",
      "source": [
        "data_sin_cabeceras.shape"
      ],
      "metadata": {
        "colab": {
          "base_uri": "https://localhost:8080/"
        },
        "id": "Nn1m09Ry0qNG",
        "outputId": "b217e854-68f5-4ff7-b5f5-c3d3f1bfb63a"
      },
      "execution_count": 25,
      "outputs": [
        {
          "output_type": "execute_result",
          "data": {
            "text/plain": [
              "(48, 9)"
            ]
          },
          "metadata": {},
          "execution_count": 25
        }
      ]
    },
    {
      "cell_type": "code",
      "source": [
        "data_sin_cabeceras[:5]"
      ],
      "metadata": {
        "colab": {
          "base_uri": "https://localhost:8080/"
        },
        "id": "iieqTfDV09X6",
        "outputId": "16704151-05ba-4629-c30d-2d7230697ab4"
      },
      "execution_count": 26,
      "outputs": [
        {
          "output_type": "execute_result",
          "data": {
            "text/plain": [
              "array([['11111111', 'Alumno 1', 'TI11', '1', '8', '1', '7', '2',\n",
              "        'regular'],\n",
              "       ['11111112', 'Alumno 2', 'TI11', '10', '7', '1', '8', '5',\n",
              "        'regular'],\n",
              "       ['11111113', 'Alumno 3', 'TI11', '4', '1', '1', '3', '0',\n",
              "        'regular'],\n",
              "       ['11111114', 'Alumno 4', 'TI11', '5', '4', '3', '2', '7',\n",
              "        'regular'],\n",
              "       ['11111115', 'Alumno 5', 'TI11', '9', '10', '3', '9', '2',\n",
              "        'regular']], dtype='<U9')"
            ]
          },
          "metadata": {},
          "execution_count": 26
        }
      ]
    },
    {
      "cell_type": "markdown",
      "source": [
        "SEPARAR DATOS DE ALUMNOS"
      ],
      "metadata": {
        "id": "o4j9VPI11P6v"
      }
    },
    {
      "cell_type": "code",
      "source": [
        "datos_alumnos = np.array(data_sin_cabeceras[:,:3])  #Tomar todas las filas y solo las 3 primeras columnas [:,0:3]"
      ],
      "metadata": {
        "id": "tl6PSsrB1TNW"
      },
      "execution_count": 27,
      "outputs": []
    },
    {
      "cell_type": "code",
      "source": [
        "datos_alumnos[:5]"
      ],
      "metadata": {
        "colab": {
          "base_uri": "https://localhost:8080/"
        },
        "id": "jHWkbUZX1fCk",
        "outputId": "564b730b-94df-473d-904d-1ea0b1101418"
      },
      "execution_count": 28,
      "outputs": [
        {
          "output_type": "execute_result",
          "data": {
            "text/plain": [
              "array([['11111111', 'Alumno 1', 'TI11'],\n",
              "       ['11111112', 'Alumno 2', 'TI11'],\n",
              "       ['11111113', 'Alumno 3', 'TI11'],\n",
              "       ['11111114', 'Alumno 4', 'TI11'],\n",
              "       ['11111115', 'Alumno 5', 'TI11']], dtype='<U9')"
            ]
          },
          "metadata": {},
          "execution_count": 28
        }
      ]
    },
    {
      "cell_type": "markdown",
      "source": [
        "SEPARAR CALIFICACIONES DE LOS ALUMNOS\n"
      ],
      "metadata": {
        "id": "d7dsN1QI2KLo"
      }
    },
    {
      "cell_type": "code",
      "source": [
        "calificaciones_alumnos = np.array(data_sin_cabeceras[:,3:8],dtype=float) "
      ],
      "metadata": {
        "id": "LZyXY1gW2QQ-"
      },
      "execution_count": 29,
      "outputs": []
    },
    {
      "cell_type": "code",
      "source": [
        "calificaciones_alumnos[:5]  #Ver las primeras 5 filas"
      ],
      "metadata": {
        "colab": {
          "base_uri": "https://localhost:8080/"
        },
        "id": "b1cztC3y2rbf",
        "outputId": "17fa22dc-4a1a-4e6c-d62e-e8dd9a9f23d0"
      },
      "execution_count": 30,
      "outputs": [
        {
          "output_type": "execute_result",
          "data": {
            "text/plain": [
              "array([[ 1.,  8.,  1.,  7.,  2.],\n",
              "       [10.,  7.,  1.,  8.,  5.],\n",
              "       [ 4.,  1.,  1.,  3.,  0.],\n",
              "       [ 5.,  4.,  3.,  2.,  7.],\n",
              "       [ 9., 10.,  3.,  9.,  2.]])"
            ]
          },
          "metadata": {},
          "execution_count": 30
        }
      ]
    },
    {
      "cell_type": "code",
      "source": [
        "calificaciones_alumnos.shape"
      ],
      "metadata": {
        "colab": {
          "base_uri": "https://localhost:8080/"
        },
        "id": "nFPFibHJ25d9",
        "outputId": "03e99416-5ea3-4bee-e99e-d4b81c126f84"
      },
      "execution_count": 31,
      "outputs": [
        {
          "output_type": "execute_result",
          "data": {
            "text/plain": [
              "(48, 5)"
            ]
          },
          "metadata": {},
          "execution_count": 31
        }
      ]
    },
    {
      "cell_type": "markdown",
      "source": [
        "CALCULANDO EL PRIMEDIO"
      ],
      "metadata": {
        "id": "HRsHuQKm3KeZ"
      }
    },
    {
      "cell_type": "code",
      "source": [
        "promedio = []\n",
        "for index in range(int(filas)):\n",
        "  promedio.append([\"regular\",calificaciones_alumnos[index].mean()])\n",
        "promedio = np.array(promedio)"
      ],
      "metadata": {
        "id": "Nx1M74mo3Npb"
      },
      "execution_count": 32,
      "outputs": []
    },
    {
      "cell_type": "code",
      "source": [
        "promedio[:5]"
      ],
      "metadata": {
        "colab": {
          "base_uri": "https://localhost:8080/"
        },
        "id": "6wIGMOYg3z7j",
        "outputId": "582af3e2-f637-4ab0-ce15-7b2dd4b5eca4"
      },
      "execution_count": 33,
      "outputs": [
        {
          "output_type": "execute_result",
          "data": {
            "text/plain": [
              "array([['regular', '3.8'],\n",
              "       ['regular', '6.2'],\n",
              "       ['regular', '1.8'],\n",
              "       ['regular', '4.2'],\n",
              "       ['regular', '6.6']], dtype='<U32')"
            ]
          },
          "metadata": {},
          "execution_count": 33
        }
      ]
    },
    {
      "cell_type": "code",
      "source": [
        "promedio.shape"
      ],
      "metadata": {
        "id": "C7C5NCr-4y5s",
        "outputId": "0dbf8008-70ce-447a-d45a-d9fad5a154dd",
        "colab": {
          "base_uri": "https://localhost:8080/"
        }
      },
      "execution_count": 34,
      "outputs": [
        {
          "output_type": "execute_result",
          "data": {
            "text/plain": [
              "(48, 2)"
            ]
          },
          "metadata": {},
          "execution_count": 34
        }
      ]
    },
    {
      "cell_type": "markdown",
      "source": [
        "UNIR LOS ARREGLOS"
      ],
      "metadata": {
        "id": "18TKPar45D0_"
      }
    },
    {
      "cell_type": "code",
      "source": [
        "todos = np.concatenate((datos_alumnos,calificaciones_alumnos,promedio),axis=1,dtype=str)"
      ],
      "metadata": {
        "id": "t8IyHTay5Fc1"
      },
      "execution_count": 35,
      "outputs": []
    },
    {
      "cell_type": "code",
      "source": [
        "todos[:5]"
      ],
      "metadata": {
        "id": "N-zov0rZ5aW-",
        "outputId": "0c86ba51-c812-46af-919c-077e1339d94b",
        "colab": {
          "base_uri": "https://localhost:8080/"
        }
      },
      "execution_count": 36,
      "outputs": [
        {
          "output_type": "execute_result",
          "data": {
            "text/plain": [
              "array([['11111111', 'Alumno 1', 'TI11', '1.0', '8.0', '1.0', '7.0',\n",
              "        '2.0', 'regular', '3.8'],\n",
              "       ['11111112', 'Alumno 2', 'TI11', '10.0', '7.0', '1.0', '8.0',\n",
              "        '5.0', 'regular', '6.2'],\n",
              "       ['11111113', 'Alumno 3', 'TI11', '4.0', '1.0', '1.0', '3.0',\n",
              "        '0.0', 'regular', '1.8'],\n",
              "       ['11111114', 'Alumno 4', 'TI11', '5.0', '4.0', '3.0', '2.0',\n",
              "        '7.0', 'regular', '4.2'],\n",
              "       ['11111115', 'Alumno 5', 'TI11', '9.0', '10.0', '3.0', '9.0',\n",
              "        '2.0', 'regular', '6.6']], dtype='<U32')"
            ]
          },
          "metadata": {},
          "execution_count": 36
        }
      ]
    },
    {
      "cell_type": "code",
      "source": [
        "todos.shape"
      ],
      "metadata": {
        "id": "5zIs1tdO5hKk",
        "outputId": "85eba5fa-fc74-4ba5-948b-ab9701a6d12c",
        "colab": {
          "base_uri": "https://localhost:8080/"
        }
      },
      "execution_count": 37,
      "outputs": [
        {
          "output_type": "execute_result",
          "data": {
            "text/plain": [
              "(48, 10)"
            ]
          },
          "metadata": {},
          "execution_count": 37
        }
      ]
    },
    {
      "cell_type": "markdown",
      "source": [
        "UNIR CABECERAS"
      ],
      "metadata": {
        "id": "9glaHPaq6NZ5"
      }
    },
    {
      "cell_type": "code",
      "source": [
        "cabeceras"
      ],
      "metadata": {
        "id": "ARtEGTRx6RDO",
        "outputId": "7b03d2f8-86f4-4b9b-e334-625ffd5b07dd",
        "colab": {
          "base_uri": "https://localhost:8080/"
        }
      },
      "execution_count": 38,
      "outputs": [
        {
          "output_type": "execute_result",
          "data": {
            "text/plain": [
              "array(['matricula', 'nombre', 'grupo', 'Materia 1', 'Materia 2',\n",
              "       'Materia 3', 'Materia 4', 'Materia 5', 'estado'], dtype='<U9')"
            ]
          },
          "metadata": {},
          "execution_count": 38
        }
      ]
    },
    {
      "cell_type": "code",
      "source": [
        "cabeceras = np.concatenate((cabeceras,[\"promedio\"]),axis=0,dtype=str)"
      ],
      "metadata": {
        "id": "NJAEHWjL6VuB"
      },
      "execution_count": 39,
      "outputs": []
    },
    {
      "cell_type": "code",
      "source": [
        "cabeceras"
      ],
      "metadata": {
        "id": "lzrBCW826ihs",
        "outputId": "eda95d9c-eaf5-4baf-814e-25c75819363d",
        "colab": {
          "base_uri": "https://localhost:8080/"
        }
      },
      "execution_count": 40,
      "outputs": [
        {
          "output_type": "execute_result",
          "data": {
            "text/plain": [
              "array(['matricula', 'nombre', 'grupo', 'Materia 1', 'Materia 2',\n",
              "       'Materia 3', 'Materia 4', 'Materia 5', 'estado', 'promedio'],\n",
              "      dtype='<U9')"
            ]
          },
          "metadata": {},
          "execution_count": 40
        }
      ]
    },
    {
      "cell_type": "code",
      "source": [
        "cabeceras.shape"
      ],
      "metadata": {
        "id": "tnzFifji6l0a",
        "outputId": "8dd42db2-e41a-4b8b-9350-88844f1119fe",
        "colab": {
          "base_uri": "https://localhost:8080/"
        }
      },
      "execution_count": 41,
      "outputs": [
        {
          "output_type": "execute_result",
          "data": {
            "text/plain": [
              "(10,)"
            ]
          },
          "metadata": {},
          "execution_count": 41
        }
      ]
    },
    {
      "cell_type": "code",
      "source": [
        "todos = np.concatenate(([cabeceras],todos),axis=0, dtype=str)"
      ],
      "metadata": {
        "id": "z9rP87736sdy"
      },
      "execution_count": 42,
      "outputs": []
    },
    {
      "cell_type": "code",
      "source": [
        "todos"
      ],
      "metadata": {
        "id": "B36YUaX57IbM",
        "outputId": "a79e98c3-9810-423b-bf05-b9c4a4d04122",
        "colab": {
          "base_uri": "https://localhost:8080/"
        }
      },
      "execution_count": 43,
      "outputs": [
        {
          "output_type": "execute_result",
          "data": {
            "text/plain": [
              "array([['matricula', 'nombre', 'grupo', 'Materia 1', 'Materia 2',\n",
              "        'Materia 3', 'Materia 4', 'Materia 5', 'estado', 'promedio'],\n",
              "       ['11111111', 'Alumno 1', 'TI11', '1.0', '8.0', '1.0', '7.0',\n",
              "        '2.0', 'regular', '3.8'],\n",
              "       ['11111112', 'Alumno 2', 'TI11', '10.0', '7.0', '1.0', '8.0',\n",
              "        '5.0', 'regular', '6.2'],\n",
              "       ['11111113', 'Alumno 3', 'TI11', '4.0', '1.0', '1.0', '3.0',\n",
              "        '0.0', 'regular', '1.8'],\n",
              "       ['11111114', 'Alumno 4', 'TI11', '5.0', '4.0', '3.0', '2.0',\n",
              "        '7.0', 'regular', '4.2'],\n",
              "       ['11111115', 'Alumno 5', 'TI11', '9.0', '10.0', '3.0', '9.0',\n",
              "        '2.0', 'regular', '6.6'],\n",
              "       ['11111116', 'Alumno 6', 'TI11', '1.0', '3.0', '8.0', '1.0',\n",
              "        '7.0', 'regular', '4.0'],\n",
              "       ['11111117', 'Alumno 7', 'TI11', '4.0', '7.0', '1.0', '6.0',\n",
              "        '5.0', 'regular', '4.6'],\n",
              "       ['11111118', 'Alumno 8', 'TI11', '10.0', '1.0', '7.0', '10.0',\n",
              "        '0.0', 'regular', '5.6'],\n",
              "       ['11111119', 'Alumno 9', 'TI11', '5.0', '5.0', '4.0', '0.0',\n",
              "        '3.0', 'regular', '3.4'],\n",
              "       ['11111120', 'Alumno 10', 'TI11', '5.0', '7.0', '3.0', '3.0',\n",
              "        '4.0', 'regular', '4.4'],\n",
              "       ['11111121', 'Alumno 11', 'TI11', '6.0', '1.0', '3.0', '7.0',\n",
              "        '0.0', 'regular', '3.4'],\n",
              "       ['11111122', 'Alumno 12', 'TI11', '7.0', '2.0', '5.0', '4.0',\n",
              "        '5.0', 'regular', '4.6'],\n",
              "       ['11111123', 'Alumno 13', 'TI12', '5.0', '2.0', '3.0', '0.0',\n",
              "        '1.0', 'regular', '2.2'],\n",
              "       ['11111124', 'Alumno 14', 'TI12', '5.0', '2.0', '10.0', '0.0',\n",
              "        '6.0', 'regular', '4.6'],\n",
              "       ['11111125', 'Alumno 15', 'TI12', '9.0', '9.0', '1.0', '3.0',\n",
              "        '1.0', 'regular', '4.6'],\n",
              "       ['11111126', 'Alumno 16', 'TI12', '1.0', '2.0', '1.0', '7.0',\n",
              "        '7.0', 'regular', '3.6'],\n",
              "       ['11111127', 'Alumno 17', 'TI12', '0.0', '2.0', '1.0', '0.0',\n",
              "        '2.0', 'regular', '1.0'],\n",
              "       ['11111128', 'Alumno 18', 'TI12', '0.0', '1.0', '4.0', '7.0',\n",
              "        '6.0', 'regular', '3.6'],\n",
              "       ['11111129', 'Alumno 19', 'TI12', '0.0', '8.0', '7.0', '8.0',\n",
              "        '2.0', 'regular', '5.0'],\n",
              "       ['11111130', 'Alumno 20', 'TI12', '4.0', '0.0', '5.0', '0.0',\n",
              "        '4.0', 'regular', '2.6'],\n",
              "       ['11111131', 'Alumno 21', 'TI12', '6.0', '4.0', '2.0', '10.0',\n",
              "        '10.0', 'regular', '6.4'],\n",
              "       ['11111132', 'Alumno 22', 'TI12', '5.0', '6.0', '9.0', '0.0',\n",
              "        '3.0', 'regular', '4.6'],\n",
              "       ['11111133', 'Alumno 23', 'TI12', '1.0', '9.0', '7.0', '7.0',\n",
              "        '6.0', 'regular', '6.0'],\n",
              "       ['11111134', 'Alumno 24', 'TI41', '4.0', '0.0', '10.0', '7.0',\n",
              "        '0.0', 'regular', '4.2'],\n",
              "       ['11111135', 'Alumno 25', 'TI41', '3.0', '3.0', '0.0', '8.0',\n",
              "        '5.0', 'regular', '3.8'],\n",
              "       ['11111136', 'Alumno 26', 'TI41', '0.0', '5.0', '7.0', '2.0',\n",
              "        '1.0', 'regular', '3.0'],\n",
              "       ['11111137', 'Alumno 27', 'TI41', '0.0', '0.0', '6.0', '0.0',\n",
              "        '5.0', 'regular', '2.2'],\n",
              "       ['11111138', 'Alumno 28', 'TI41', '9.0', '3.0', '10.0', '9.0',\n",
              "        '6.0', 'regular', '7.4'],\n",
              "       ['11111139', 'Alumno 29', 'TI41', '0.0', '5.0', '1.0', '10.0',\n",
              "        '1.0', 'regular', '3.4'],\n",
              "       ['11111140', 'Alumno 30', 'TI41', '3.0', '3.0', '5.0', '9.0',\n",
              "        '9.0', 'regular', '5.8'],\n",
              "       ['11111141', 'Alumno 31', 'TI41', '10.0', '10.0', '4.0', '1.0',\n",
              "        '4.0', 'regular', '5.8'],\n",
              "       ['11111142', 'Alumno 32', 'TI41', '6.0', '0.0', '5.0', '3.0',\n",
              "        '2.0', 'regular', '3.2'],\n",
              "       ['11111143', 'Alumno 33', 'IDGS91', '0.0', '4.0', '1.0', '7.0',\n",
              "        '9.0', 'regular', '4.2'],\n",
              "       ['11111144', 'Alumno 34', 'IDGS91', '1.0', '1.0', '2.0', '3.0',\n",
              "        '8.0', 'regular', '3.0'],\n",
              "       ['11111145', 'Alumno 35', 'IDGS91', '0.0', '7.0', '10.0', '7.0',\n",
              "        '7.0', 'regular', '6.2'],\n",
              "       ['11111146', 'Alumno 36', 'IDGS91', '7.0', '1.0', '4.0', '0.0',\n",
              "        '6.0', 'regular', '3.6'],\n",
              "       ['11111147', 'Alumno 37', 'IDGS91', '6.0', '6.0', '4.0', '3.0',\n",
              "        '0.0', 'regular', '3.8'],\n",
              "       ['11111148', 'Alumno 38', 'IDGS91', '0.0', '6.0', '6.0', '3.0',\n",
              "        '5.0', 'regular', '4.0'],\n",
              "       ['11111149', 'Alumno 39', 'IDGS91', '8.0', '7.0', '9.0', '5.0',\n",
              "        '2.0', 'regular', '6.2'],\n",
              "       ['11111150', 'Alumno 40', 'IDGS91', '1.0', '0.0', '3.0', '4.0',\n",
              "        '10.0', 'regular', '3.6'],\n",
              "       ['11111151', 'Alumno 41', 'IDGS91', '6.0', '5.0', '1.0', '5.0',\n",
              "        '9.0', 'regular', '5.2'],\n",
              "       ['11111152', 'Alumno 42', 'IDGS91', '2.0', '0.0', '9.0', '9.0',\n",
              "        '5.0', 'regular', '5.0'],\n",
              "       ['11111153', 'Alumno 43', 'IDGS91', '3.0', '4.0', '0.0', '0.0',\n",
              "        '0.0', 'regular', '1.4'],\n",
              "       ['11111154', 'Alumno 44', 'IDGS91', '3.0', '1.0', '1.0', '7.0',\n",
              "        '10.0', 'regular', '4.4'],\n",
              "       ['11111155', 'Alumno 45', 'IDGS91', '4.0', '1.0', '2.0', '8.0',\n",
              "        '6.0', 'regular', '4.2'],\n",
              "       ['11111156', 'Alumno 46', 'IDGS71', '10.0', '1.0', '10.0', '0.0',\n",
              "        '7.0', 'regular', '5.6'],\n",
              "       ['11111157', 'Alumno 47', 'IDGS71', '9.0', '10.0', '1.0', '3.0',\n",
              "        '9.0', 'regular', '6.4'],\n",
              "       ['11111158', 'Alumno 48', 'IDGS71', '4.0', '4.0', '10.0', '6.0',\n",
              "        '8.0', 'regular', '6.4']], dtype='<U32')"
            ]
          },
          "metadata": {},
          "execution_count": 43
        }
      ]
    },
    {
      "cell_type": "code",
      "source": [
        "todos.shape"
      ],
      "metadata": {
        "id": "uTEsq6uR7Zgw",
        "outputId": "7d1b0bf3-f60a-46d1-828a-4ed12da1f535",
        "colab": {
          "base_uri": "https://localhost:8080/"
        }
      },
      "execution_count": 44,
      "outputs": [
        {
          "output_type": "execute_result",
          "data": {
            "text/plain": [
              "(49, 10)"
            ]
          },
          "metadata": {},
          "execution_count": 44
        }
      ]
    },
    {
      "cell_type": "markdown",
      "source": [
        "EXPORTAR A CSV"
      ],
      "metadata": {
        "id": "MDCNPBpm7a1Z"
      }
    },
    {
      "cell_type": "code",
      "source": [
        "row = [f\"{c0},{c1},{c2},{c3},{c4},{c5},{c6},{c7},{c8},{c9}\" for c0,c1,c2,c3,c4,c5,c6,c7,c8,c9 in todos]\n",
        "text = \"\\n\".join(row)\n",
        "\n",
        "with open(\"salida.csv\",\"w\") as file:\n",
        "  file.write(text)"
      ],
      "metadata": {
        "id": "W0MFMMDf7d80"
      },
      "execution_count": 45,
      "outputs": []
    }
  ]
}