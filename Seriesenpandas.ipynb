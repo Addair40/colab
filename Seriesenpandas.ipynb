{
  "nbformat": 4,
  "nbformat_minor": 0,
  "metadata": {
    "colab": {
      "provenance": [],
      "authorship_tag": "ABX9TyNACjQo76qnHQA2Et/MCXkF",
      "include_colab_link": true
    },
    "kernelspec": {
      "name": "python3",
      "display_name": "Python 3"
    },
    "language_info": {
      "name": "python"
    }
  },
  "cells": [
    {
      "cell_type": "markdown",
      "metadata": {
        "id": "view-in-github",
        "colab_type": "text"
      },
      "source": [
        "<a href=\"https://colab.research.google.com/github/Addair40/colab/blob/main/Seriesenpandas.ipynb\" target=\"_parent\"><img src=\"https://colab.research.google.com/assets/colab-badge.svg\" alt=\"Open In Colab\"/></a>"
      ]
    },
    {
      "cell_type": "code",
      "execution_count": 3,
      "metadata": {
        "id": "oP65TqNJfla2"
      },
      "outputs": [],
      "source": [
        "import pandas  as pd\n",
        "import numpy as np\n",
        "\n"
      ]
    },
    {
      "cell_type": "markdown",
      "source": [
        "SERIES EN PANDA\n",
        "\n",
        "\n",
        "\n",
        "\n"
      ],
      "metadata": {
        "id": "d6H-CFB-iIGZ"
      }
    },
    {
      "cell_type": "code",
      "source": [
        "pd.__version__"
      ],
      "metadata": {
        "colab": {
          "base_uri": "https://localhost:8080/",
          "height": 36
        },
        "id": "bt8ALlg2f38W",
        "outputId": "2c0ea99f-ad5e-413a-dd5b-64550fec46b6"
      },
      "execution_count": 4,
      "outputs": [
        {
          "output_type": "execute_result",
          "data": {
            "text/plain": [
              "'1.3.5'"
            ],
            "application/vnd.google.colaboratory.intrinsic+json": {
              "type": "string"
            }
          },
          "metadata": {},
          "execution_count": 4
        }
      ]
    },
    {
      "cell_type": "code",
      "source": [
        "np.__version__"
      ],
      "metadata": {
        "colab": {
          "base_uri": "https://localhost:8080/",
          "height": 36
        },
        "id": "atHO9R8Ziw1N",
        "outputId": "11f65f83-1b11-488f-f7c2-b2a85266eb0a"
      },
      "execution_count": 5,
      "outputs": [
        {
          "output_type": "execute_result",
          "data": {
            "text/plain": [
              "'1.21.6'"
            ],
            "application/vnd.google.colaboratory.intrinsic+json": {
              "type": "string"
            }
          },
          "metadata": {},
          "execution_count": 5
        }
      ]
    },
    {
      "cell_type": "markdown",
      "source": [
        "Una serie es la columna de una hoja de calculo y se puede colocar cualquier elemento en pandas"
      ],
      "metadata": {
        "id": "kloNaokxAIEH"
      }
    },
    {
      "cell_type": "markdown",
      "source": [
        "CREACION DE SERIES"
      ],
      "metadata": {
        "id": "Nu8KjBbBALsi"
      }
    },
    {
      "cell_type": "code",
      "source": [
        "etiquetas = [\"A\",\"B\",\"C\"]                              #CREACION DE UNA SERIE \n",
        "datos = [1,2,3]\n",
        "s = pd.Series(data=datos,index=etiquetas)\n",
        "s"
      ],
      "metadata": {
        "colab": {
          "base_uri": "https://localhost:8080/"
        },
        "id": "ZqIKw5lEi04j",
        "outputId": "54153c59-04e8-438d-9246-92114245f9ae"
      },
      "execution_count": 4,
      "outputs": [
        {
          "output_type": "execute_result",
          "data": {
            "text/plain": [
              "A    1\n",
              "B    2\n",
              "C    3\n",
              "dtype: int64"
            ]
          },
          "metadata": {},
          "execution_count": 4
        }
      ]
    },
    {
      "cell_type": "code",
      "source": [
        "etiquetas = [\"A\",\"B\",\"C\"]\n",
        "datos = [1,2,3]\n",
        "s = pd.Series(datos,etiquetas)\n",
        "s"
      ],
      "metadata": {
        "colab": {
          "base_uri": "https://localhost:8080/"
        },
        "id": "pBMucoC0ASFz",
        "outputId": "3b3dda6c-fbe8-431d-d1f5-19e91a8bda0b"
      },
      "execution_count": 5,
      "outputs": [
        {
          "output_type": "execute_result",
          "data": {
            "text/plain": [
              "A    1\n",
              "B    2\n",
              "C    3\n",
              "dtype: int64"
            ]
          },
          "metadata": {},
          "execution_count": 5
        }
      ]
    },
    {
      "cell_type": "code",
      "source": [
        "datos = {\"a\":1,\"b\":\"Hola\",\"c\":True}   #SE GENERA UNA SERIE CON DIFERENTES OPCIONES DE DATOS Y NOS DA TIPO OBJECT\n",
        "s = pd.Series(datos)\n",
        "s.dtype\n",
        "\n",
        "\n",
        "#s[\"c\"]                                 #SE PUEDE ACCEDER A LA ETIQUETA\n",
        "#s[2]                                   #SE PUEDE ACCEDER MEDIANTE LA POSICION\n",
        "#s[0:2]                                 #MUESTRA DATOS DEL 0 AL 2 QUE SERIA DE a=1 y b=Hola\n",
        "#s.head(1)                              #SE PUEDE IMPLEMENTAR PARA BUSCAR MEDIANTE HEAD Y ASI INDICAR MENDIANTE EL NUMERO LO QUE SE DEBE DE MOSTRA\n",
        "#s.tail(1)                              #TAIL SIGNIFICA COLA Y EMPIZA DE ABAJO HACIA ARRIBA Y MENDIANTE EL NUMERO SERA LO QUE SE DEBE MOSTRA \n"
      ],
      "metadata": {
        "id": "xX10QPziArho",
        "outputId": "3991f377-63cb-4c9c-dcad-4293224bcc80",
        "colab": {
          "base_uri": "https://localhost:8080/"
        }
      },
      "execution_count": 6,
      "outputs": [
        {
          "output_type": "execute_result",
          "data": {
            "text/plain": [
              "dtype('O')"
            ]
          },
          "metadata": {},
          "execution_count": 6
        }
      ]
    },
    {
      "cell_type": "code",
      "source": [
        "etiquetas = [\"a\",\"b\",\"c\"]            #SE DEBE DE COLOCAR EL NUMERO DE ETIQUETAS Y EL NUMERO DE DATOS\n",
        "datos = (1,2,3)\n",
        "s = pd.Series(datos,etiquetas)\n",
        "s"
      ],
      "metadata": {
        "id": "Wnh-wMatA0Xt",
        "outputId": "301fd6b4-d3f6-417d-859f-18e746d6d041",
        "colab": {
          "base_uri": "https://localhost:8080/"
        }
      },
      "execution_count": 7,
      "outputs": [
        {
          "output_type": "execute_result",
          "data": {
            "text/plain": [
              "a    1\n",
              "b    2\n",
              "c    3\n",
              "dtype: int64"
            ]
          },
          "metadata": {},
          "execution_count": 7
        }
      ]
    },
    {
      "cell_type": "code",
      "source": [
        "etiquetas = [\"a\",\"b\",\"c\"]            #EN LA CREACION DEBE DE TENER EL MISMO N NUMERO DE EQTUIETAS Y EL N NUMERO DE DATOS YA QUE SI NO DARA ERROR\n",
        "datos = (1,2)\n",
        "s = pd.Series(datos,etiquetas)\n",
        "s"
      ],
      "metadata": {
        "id": "kUDuv1u7A1yM",
        "outputId": "c6166e78-fabe-4035-9d0a-569e23e12fb6",
        "colab": {
          "base_uri": "https://localhost:8080/",
          "height": 363
        }
      },
      "execution_count": 8,
      "outputs": [
        {
          "output_type": "error",
          "ename": "ValueError",
          "evalue": "ignored",
          "traceback": [
            "\u001b[0;31m---------------------------------------------------------------------------\u001b[0m",
            "\u001b[0;31mValueError\u001b[0m                                Traceback (most recent call last)",
            "\u001b[0;32m<ipython-input-8-a564bbf25aa0>\u001b[0m in \u001b[0;36m<module>\u001b[0;34m\u001b[0m\n\u001b[1;32m      1\u001b[0m \u001b[0metiquetas\u001b[0m \u001b[0;34m=\u001b[0m \u001b[0;34m[\u001b[0m\u001b[0;34m\"a\"\u001b[0m\u001b[0;34m,\u001b[0m\u001b[0;34m\"b\"\u001b[0m\u001b[0;34m,\u001b[0m\u001b[0;34m\"c\"\u001b[0m\u001b[0;34m]\u001b[0m            \u001b[0;31m#EN LA CREACION DEBE DE TENER EL MISMO N NUMERO DE EQTUIETAS Y EL N NUMERO DE DATOS YA QUE SI NO DARA ERROR\u001b[0m\u001b[0;34m\u001b[0m\u001b[0;34m\u001b[0m\u001b[0m\n\u001b[1;32m      2\u001b[0m \u001b[0mdatos\u001b[0m \u001b[0;34m=\u001b[0m \u001b[0;34m(\u001b[0m\u001b[0;36m1\u001b[0m\u001b[0;34m,\u001b[0m\u001b[0;36m2\u001b[0m\u001b[0;34m)\u001b[0m\u001b[0;34m\u001b[0m\u001b[0;34m\u001b[0m\u001b[0m\n\u001b[0;32m----> 3\u001b[0;31m \u001b[0ms\u001b[0m \u001b[0;34m=\u001b[0m \u001b[0mpd\u001b[0m\u001b[0;34m.\u001b[0m\u001b[0mSeries\u001b[0m\u001b[0;34m(\u001b[0m\u001b[0mdatos\u001b[0m\u001b[0;34m,\u001b[0m\u001b[0metiquetas\u001b[0m\u001b[0;34m)\u001b[0m\u001b[0;34m\u001b[0m\u001b[0;34m\u001b[0m\u001b[0m\n\u001b[0m\u001b[1;32m      4\u001b[0m \u001b[0ms\u001b[0m\u001b[0;34m\u001b[0m\u001b[0;34m\u001b[0m\u001b[0m\n",
            "\u001b[0;32m/usr/local/lib/python3.7/dist-packages/pandas/core/series.py\u001b[0m in \u001b[0;36m__init__\u001b[0;34m(self, data, index, dtype, name, copy, fastpath)\u001b[0m\n\u001b[1;32m    428\u001b[0m                 \u001b[0mindex\u001b[0m \u001b[0;34m=\u001b[0m \u001b[0mibase\u001b[0m\u001b[0;34m.\u001b[0m\u001b[0mdefault_index\u001b[0m\u001b[0;34m(\u001b[0m\u001b[0mlen\u001b[0m\u001b[0;34m(\u001b[0m\u001b[0mdata\u001b[0m\u001b[0;34m)\u001b[0m\u001b[0;34m)\u001b[0m\u001b[0;34m\u001b[0m\u001b[0;34m\u001b[0m\u001b[0m\n\u001b[1;32m    429\u001b[0m             \u001b[0;32melif\u001b[0m \u001b[0mis_list_like\u001b[0m\u001b[0;34m(\u001b[0m\u001b[0mdata\u001b[0m\u001b[0;34m)\u001b[0m\u001b[0;34m:\u001b[0m\u001b[0;34m\u001b[0m\u001b[0;34m\u001b[0m\u001b[0m\n\u001b[0;32m--> 430\u001b[0;31m                 \u001b[0mcom\u001b[0m\u001b[0;34m.\u001b[0m\u001b[0mrequire_length_match\u001b[0m\u001b[0;34m(\u001b[0m\u001b[0mdata\u001b[0m\u001b[0;34m,\u001b[0m \u001b[0mindex\u001b[0m\u001b[0;34m)\u001b[0m\u001b[0;34m\u001b[0m\u001b[0;34m\u001b[0m\u001b[0m\n\u001b[0m\u001b[1;32m    431\u001b[0m \u001b[0;34m\u001b[0m\u001b[0m\n\u001b[1;32m    432\u001b[0m             \u001b[0;31m# create/copy the manager\u001b[0m\u001b[0;34m\u001b[0m\u001b[0;34m\u001b[0m\u001b[0;34m\u001b[0m\u001b[0m\n",
            "\u001b[0;32m/usr/local/lib/python3.7/dist-packages/pandas/core/common.py\u001b[0m in \u001b[0;36mrequire_length_match\u001b[0;34m(data, index)\u001b[0m\n\u001b[1;32m    530\u001b[0m     \u001b[0;32mif\u001b[0m \u001b[0mlen\u001b[0m\u001b[0;34m(\u001b[0m\u001b[0mdata\u001b[0m\u001b[0;34m)\u001b[0m \u001b[0;34m!=\u001b[0m \u001b[0mlen\u001b[0m\u001b[0;34m(\u001b[0m\u001b[0mindex\u001b[0m\u001b[0;34m)\u001b[0m\u001b[0;34m:\u001b[0m\u001b[0;34m\u001b[0m\u001b[0;34m\u001b[0m\u001b[0m\n\u001b[1;32m    531\u001b[0m         raise ValueError(\n\u001b[0;32m--> 532\u001b[0;31m             \u001b[0;34m\"Length of values \"\u001b[0m\u001b[0;34m\u001b[0m\u001b[0;34m\u001b[0m\u001b[0m\n\u001b[0m\u001b[1;32m    533\u001b[0m             \u001b[0;34mf\"({len(data)}) \"\u001b[0m\u001b[0;34m\u001b[0m\u001b[0;34m\u001b[0m\u001b[0m\n\u001b[1;32m    534\u001b[0m             \u001b[0;34m\"does not match length of index \"\u001b[0m\u001b[0;34m\u001b[0m\u001b[0;34m\u001b[0m\u001b[0m\n",
            "\u001b[0;31mValueError\u001b[0m: Length of values (2) does not match length of index (3)"
          ]
        }
      ]
    },
    {
      "cell_type": "code",
      "source": [
        "etiquetas = [\"a\",\"b\",\"c\"]          \n",
        "datos = (1,\"Hola\",True)\n",
        "s = pd.Series(datos,etiquetas)\n",
        "#s=type(s[\"a\"])                     #SE ACEPTA DIFERENTES TIPOS DE DATOS \n",
        "#s=type(s[\"b\"])\n",
        "s=type(s[\"c\"])\n",
        "s"
      ],
      "metadata": {
        "id": "BxQRV3l1A5UY",
        "outputId": "ea0a9f4b-4b17-47b2-c565-5a6cec8b9436",
        "colab": {
          "base_uri": "https://localhost:8080/"
        }
      },
      "execution_count": 9,
      "outputs": [
        {
          "output_type": "execute_result",
          "data": {
            "text/plain": [
              "bool"
            ]
          },
          "metadata": {},
          "execution_count": 9
        }
      ]
    },
    {
      "cell_type": "code",
      "source": [
        "etiquetas = [\"a\",\"b\",\"c\"]          \n",
        "datos = (10,\"Hola\",True)\n",
        "s = pd.Series(data=datos,index=etiquetas,name=\"Serie1\")    #\n",
        "s.name\n",
        "s2 = s.rename(\"otro nombre\")    #CAMBIO DE NOMBRE\n",
        "s2\n",
        "s.describe()                    #PERMITE GENERAR LA ESTADISTICA BASICA DE LA SERIE Y CUENTA EL NUMERO DE ELEMENTOS "
      ],
      "metadata": {
        "id": "7xBRJBaqA_Jq",
        "outputId": "f867081b-5ae1-4af2-c963-59c45fc9d16e",
        "colab": {
          "base_uri": "https://localhost:8080/"
        }
      },
      "execution_count": 10,
      "outputs": [
        {
          "output_type": "execute_result",
          "data": {
            "text/plain": [
              "count      3\n",
              "unique     3\n",
              "top       10\n",
              "freq       1\n",
              "Name: Serie1, dtype: int64"
            ]
          },
          "metadata": {},
          "execution_count": 10
        }
      ]
    },
    {
      "cell_type": "code",
      "source": [
        "etiquetas = [\"a\",\"b\",\"c\"]          \n",
        "datos = (10,20,30)\n",
        "s = pd.Series(data=datos,index=etiquetas,name=\"Serie1\") \n",
        "s.describe()                      #DESCRIBE LA SERIE Y LA ESTADISTICA CON VALORES IMPORTANTES COMO LA MEDIA, MAXIMA, ETC"
      ],
      "metadata": {
        "id": "mmlQ5whhBCx-",
        "outputId": "8d09bd47-fed3-4e4b-e1df-06cc2ffae0b4",
        "colab": {
          "base_uri": "https://localhost:8080/"
        }
      },
      "execution_count": 11,
      "outputs": [
        {
          "output_type": "execute_result",
          "data": {
            "text/plain": [
              "count     3.0\n",
              "mean     20.0\n",
              "std      10.0\n",
              "min      10.0\n",
              "25%      15.0\n",
              "50%      20.0\n",
              "75%      25.0\n",
              "max      30.0\n",
              "Name: Serie1, dtype: float64"
            ]
          },
          "metadata": {},
          "execution_count": 11
        }
      ]
    },
    {
      "cell_type": "code",
      "source": [
        "etiquetas = [\"a\",\"b\",\"c\",\"d\"]          \n",
        "datos = (10,20,30,True)\n",
        "s = pd.Series(data=datos,index=etiquetas,name=\"Serie1\")   #SI NO SE VE LOS DATOS DE MEDIA, MAXIMO, ETC, EXISTE UN VALOR QUE NO ES NUMERICO Y NO PUEDE DAR LA ESTADISTICA BASICA\n",
        "s.describe()  "
      ],
      "metadata": {
        "id": "pB8mfCiiBFPs",
        "outputId": "7e4c3c29-2eeb-402c-f897-03fbf7f0a142",
        "colab": {
          "base_uri": "https://localhost:8080/"
        }
      },
      "execution_count": 12,
      "outputs": [
        {
          "output_type": "execute_result",
          "data": {
            "text/plain": [
              "count      4\n",
              "unique     4\n",
              "top       10\n",
              "freq       1\n",
              "Name: Serie1, dtype: int64"
            ]
          },
          "metadata": {},
          "execution_count": 12
        }
      ]
    },
    {
      "cell_type": "code",
      "source": [
        "etiquetas = [\"uno\",\"dos\",\"cuatro\"]\n",
        "datos = {\"uno\":1,\"dos\":2, \"tres\":3}   #EL TRES NO LO REPRESENTA PORQUE NO TIENE EL VALOR Y LA ETIQUETA NO ES CORRECTA\n",
        "s = pd.Series(data=datos,index=etiquetas,name=\"Serie1\")\n",
        "s\n"
      ],
      "metadata": {
        "id": "EkeDIlDGBH9w",
        "outputId": "2090350f-263e-445a-f620-d373928df749",
        "colab": {
          "base_uri": "https://localhost:8080/"
        }
      },
      "execution_count": 13,
      "outputs": [
        {
          "output_type": "execute_result",
          "data": {
            "text/plain": [
              "uno       1.0\n",
              "dos       2.0\n",
              "cuatro    NaN\n",
              "Name: Serie1, dtype: float64"
            ]
          },
          "metadata": {},
          "execution_count": 13
        }
      ]
    },
    {
      "cell_type": "code",
      "source": [
        "etiquetas = [\"uno\",\"dos\",\"uno\"]\n",
        "datos = {\"uno\":1,\"dos\":2, \"tres\":3}   #AL NO ENCONTRAR LA ETIQUETA LO IGNORA Y VUELVE A COLOCAR EL DATO SIGUIENTE\n",
        "s = pd.Series(data=datos,index=etiquetas,name=\"Serie1\")\n",
        "s"
      ],
      "metadata": {
        "id": "7mDsZlZmBKZe",
        "outputId": "8c03f2b9-3ac7-4576-aa39-17b7c34d5cf8",
        "colab": {
          "base_uri": "https://localhost:8080/"
        }
      },
      "execution_count": 14,
      "outputs": [
        {
          "output_type": "execute_result",
          "data": {
            "text/plain": [
              "uno    1\n",
              "dos    2\n",
              "uno    1\n",
              "Name: Serie1, dtype: int64"
            ]
          },
          "metadata": {},
          "execution_count": 14
        }
      ]
    },
    {
      "cell_type": "code",
      "source": [
        "s1 = pd.Series([1,2,3],[\"a\",\"b\",\"c\"])\n",
        "s2 = pd.Series([4,5,6],[\"a\",\"b\",\"c\"])\n",
        "#s1 + s2\n",
        "#s1 - s2\n",
        "#s1 * s2\n",
        "#s1 / s2\n",
        "#s1 // s2\n",
        "#s1 % s2\n",
        "#s1 ** s2\n",
        "#s1 * 5\n",
        "#s1.median()          #MEDIANA\n",
        "#s1[s1< s1.median()]   #FILTROS MENORES A LA MEDIANA\n",
        "#s1[s1< 3]             #SE LO APLICA A CADA UNO DE LOS ELEMENTOS SIENDO MENORES A 3\n",
        "#\"a\" in s1             #BUSCA INDEX EN LA SERIE QUE SE TIENE\n",
        "#\"x\" in s1\n",
        "#\"3\" in s1\n",
        "#help(type(s1))"
      ],
      "metadata": {
        "id": "5CiqgKJFBNHr"
      },
      "execution_count": 15,
      "outputs": []
    }
  ]
}