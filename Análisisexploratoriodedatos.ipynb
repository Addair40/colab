{
  "nbformat": 4,
  "nbformat_minor": 0,
  "metadata": {
    "colab": {
      "provenance": [],
      "authorship_tag": "ABX9TyM077WWplXvda+77qGO8LZJ",
      "include_colab_link": true
    },
    "kernelspec": {
      "name": "python3",
      "display_name": "Python 3"
    },
    "language_info": {
      "name": "python"
    }
  },
  "cells": [
    {
      "cell_type": "markdown",
      "metadata": {
        "id": "view-in-github",
        "colab_type": "text"
      },
      "source": [
        "<a href=\"https://colab.research.google.com/github/Addair40/colab/blob/main/An%C3%A1lisisexploratoriodedatos.ipynb\" target=\"_parent\"><img src=\"https://colab.research.google.com/assets/colab-badge.svg\" alt=\"Open In Colab\"/></a>"
      ]
    },
    {
      "cell_type": "markdown",
      "source": [
        "# 1.5 ANALISIS EXPLORATORIO DE DATOS\n",
        "\n",
        "\n",
        "1.   Se importo \"pandas\" ya que nos ayudaran a leer y escribir datos en diferentes formatos.\n",
        "2.   Se importo \"numpy\" ya que nos ayudara a permite una generación y manejo de datos rápido.\n",
        "\n",
        "\n"
      ],
      "metadata": {
        "id": "Sc17E6h4-9Ed"
      }
    },
    {
      "cell_type": "code",
      "execution_count": 20,
      "metadata": {
        "id": "HKuW75kP6vLO"
      },
      "outputs": [],
      "source": [
        "import numpy as np\n",
        "import pandas as pd "
      ]
    },
    {
      "cell_type": "markdown",
      "source": [
        "Comenzamos importando el documento \"archivo,txt\" donde se elaboro en un block de notas y de esta manera dentro de este archivo lleva los datos que se van a visualizar con \"print\" y con \"readline\" nos ayudara a la lectura."
      ],
      "metadata": {
        "id": "aLXMGGKk_xE5"
      }
    },
    {
      "cell_type": "code",
      "source": [
        "archivo = open(\"archivo.txt\",\"r\")\n",
        "print(archivo.readline())\n",
        "print(archivo.readline())\n",
        "print(archivo.readline())\n",
        "print(archivo.readline())"
      ],
      "metadata": {
        "colab": {
          "base_uri": "https://localhost:8080/"
        },
        "id": "NLxxi5aI6_06",
        "outputId": "76aa1c29-56af-4702-d604-a5fdc41697ce"
      },
      "execution_count": 21,
      "outputs": [
        {
          "output_type": "stream",
          "name": "stdout",
          "text": [
            "01/01/2022,10,10,10\n",
            "\n",
            "02/01/2022,20,20,\n",
            "\n",
            "03/01/2022,30,30,30,30\n",
            "\n",
            "01/01/2022,40,40,40\n"
          ]
        }
      ]
    },
    {
      "cell_type": "markdown",
      "source": [
        "Comenzamos con el conteo de numero de filas donde se utilizo \"rowcount\" que si lo cambiamos a españos es el que tendra el \"numero de filas\" seguido de abrir el archivo \"archivo.txt\" y utiliozando el print para la visualizacion del resultado."
      ],
      "metadata": {
        "id": "QMRbhWEEAcDS"
      }
    },
    {
      "cell_type": "code",
      "source": [
        "rowcount  = 0\n",
        "for row in open(\"archivo.txt\"): \n",
        "  rowcount+= 1\n",
        "print(\"Contar el numero de filas:\", rowcount)"
      ],
      "metadata": {
        "colab": {
          "base_uri": "https://localhost:8080/"
        },
        "id": "wFS_NeOP7NcG",
        "outputId": "a4d87b00-0313-4e4c-dd32-b52d2f69a828"
      },
      "execution_count": 22,
      "outputs": [
        {
          "output_type": "stream",
          "name": "stdout",
          "text": [
            "Contar el numero de filas: 4\n"
          ]
        }
      ]
    },
    {
      "cell_type": "markdown",
      "source": [
        "Para el conteo de numeros por fila se realizo dentro de una viariable el guardar datos y se utilizo \"data frame\" ya que este nos ayudara a  guardar datos de distintos tipos\" y asi mismo el realizar conteo de numeros por fila."
      ],
      "metadata": {
        "id": "BrmoS4ShBl8P"
      }
    },
    {
      "cell_type": "code",
      "source": [
        "archivo = [10,10,10],[20,20],[30,30,30,30],[40,40,40]\n",
        "df = pd.DataFrame(archivo)\n",
        "df.count(axis=1)"
      ],
      "metadata": {
        "colab": {
          "base_uri": "https://localhost:8080/"
        },
        "id": "zBhU8iCi7SJc",
        "outputId": "b9fe83b9-48d5-4189-d3f8-c2537dd07f8b"
      },
      "execution_count": 23,
      "outputs": [
        {
          "output_type": "execute_result",
          "data": {
            "text/plain": [
              "0    3\n",
              "1    2\n",
              "2    4\n",
              "3    3\n",
              "dtype: int64"
            ]
          },
          "metadata": {},
          "execution_count": 23
        }
      ]
    },
    {
      "cell_type": "markdown",
      "source": [
        "Para imprimir el valor maximo por fila, dentro de una variable se guardo datos y se volvio a reciclar el mimsmo codigo de conteo de numeros por fila y con data frame nos ayudara a guardar datos de distintos tipos y asi mismo imprimir el valor maximo por fila."
      ],
      "metadata": {
        "id": "rjUg9rROCj9-"
      }
    },
    {
      "cell_type": "code",
      "source": [
        "archivo = [10,10,10],[20,20],[30,30,30,30],[40,40,40]\n",
        "df = pd.DataFrame(data=archivo)\n",
        "df.max(axis=1)"
      ],
      "metadata": {
        "colab": {
          "base_uri": "https://localhost:8080/"
        },
        "id": "KANPtKmN7T2-",
        "outputId": "43a5d093-2740-447b-9722-f11f9e753382"
      },
      "execution_count": 24,
      "outputs": [
        {
          "output_type": "execute_result",
          "data": {
            "text/plain": [
              "0    10.0\n",
              "1    20.0\n",
              "2    30.0\n",
              "3    40.0\n",
              "dtype: float64"
            ]
          },
          "metadata": {},
          "execution_count": 24
        }
      ]
    },
    {
      "cell_type": "markdown",
      "source": [
        "Para imprimir el valor minimo por fila, dentro de una variable se guardo datos y se volvio a reciclar el mimsmo codigo de imprimir el valor maximo por fila y con data frame nos ayudara a guardar datos de distintos tipos y asi mismo imprimir el valor minimo por fila.\n",
        "\n"
      ],
      "metadata": {
        "id": "QmfP6JjlDTFF"
      }
    },
    {
      "cell_type": "code",
      "source": [
        "archivo = [10,10,10],[20,20],[30,30,30,30],[40,40,40]\n",
        "df = pd.DataFrame(data=archivo)\n",
        "df.min(axis=1)"
      ],
      "metadata": {
        "colab": {
          "base_uri": "https://localhost:8080/"
        },
        "id": "DXGUTIx_7Wd9",
        "outputId": "ac5fbfaa-ee88-4724-fbd2-2268ffe989e3"
      },
      "execution_count": 25,
      "outputs": [
        {
          "output_type": "execute_result",
          "data": {
            "text/plain": [
              "0    10.0\n",
              "1    20.0\n",
              "2    30.0\n",
              "3    40.0\n",
              "dtype: float64"
            ]
          },
          "metadata": {},
          "execution_count": 25
        }
      ]
    },
    {
      "cell_type": "markdown",
      "source": [
        "Para imprimir el total por fila se guardo los datos dentro de una variable y dentro de otra variable se uso \"len\" que este nos ayudara a indica la cantidad de caracteres en la cadena de entrada y asi mismo imprimir el total por fila."
      ],
      "metadata": {
        "id": "dzYoXEVBDwIi"
      }
    },
    {
      "cell_type": "code",
      "source": [
        "archivo = [10,10,10],[20,20],[30,30,30,30],[40,40,40]\n",
        "total = len(archivo)\n",
        "for t in range(total):\n",
        "  suma=sum(archivo[t])\n",
        "  archivo[t].append(suma)\n",
        "print(archivo)"
      ],
      "metadata": {
        "colab": {
          "base_uri": "https://localhost:8080/"
        },
        "id": "YYY3-7bB7km4",
        "outputId": "ea8d603a-895a-4352-ce17-4af6389ee165"
      },
      "execution_count": 26,
      "outputs": [
        {
          "output_type": "stream",
          "name": "stdout",
          "text": [
            "([10, 10, 10, 30], [20, 20, 40], [30, 30, 30, 30, 120], [40, 40, 40, 120])\n"
          ]
        }
      ]
    },
    {
      "cell_type": "markdown",
      "source": [
        "Para imprimir el promedio por fila se guardo dentro de una variable datos y con la funcion de \"mean\" nos ayudara a devolver  la media de los datos."
      ],
      "metadata": {
        "id": "Ck98FpqTItTZ"
      }
    },
    {
      "cell_type": "code",
      "source": [
        "archivo = [10,10,10],[20,20],[30,30,30,30],[40,40,40]\n",
        "df.mean(axis=1)"
      ],
      "metadata": {
        "colab": {
          "base_uri": "https://localhost:8080/"
        },
        "id": "LnZryIbK7oa8",
        "outputId": "19d82459-f880-4464-8e21-1a47d85a2ee7"
      },
      "execution_count": 27,
      "outputs": [
        {
          "output_type": "execute_result",
          "data": {
            "text/plain": [
              "0    10.0\n",
              "1    20.0\n",
              "2    30.0\n",
              "3    40.0\n",
              "dtype: float64"
            ]
          },
          "metadata": {},
          "execution_count": 27
        }
      ]
    }
  ]
}