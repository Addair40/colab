{
  "cells": [
    {
      "cell_type": "markdown",
      "metadata": {
        "id": "view-in-github",
        "colab_type": "text"
      },
      "source": [
        "<a href=\"https://colab.research.google.com/github/Addair40/colab/blob/main/2_3_Preparaci%C3%B3n_de_datos_Caso_%22Calificaciones_V1%22.ipynb\" target=\"_parent\"><img src=\"https://colab.research.google.com/assets/colab-badge.svg\" alt=\"Open In Colab\"/></a>"
      ]
    },
    {
      "cell_type": "markdown",
      "source": [
        "\n",
        "\n",
        "- ALUMNO: JONATHAN ADAIR RUIZ HERNANDEZ\n",
        "---\n",
        "- MATRICULA: 1719110378\n",
        "---\n",
        "- MATERIA: EXTRACION DE CONOCIMIENTO EN BASE DE DATOS\n",
        "---\n",
        "- GRUPO: IDGS 91\n",
        "---\n",
        "- FECHA: 12 DE OCTUBRE DEL 2022\n",
        "---\n",
        "DESCRIPCIÓN\n",
        "\n",
        "En la universidad \"ACME\" se desea calcular el promedio de cada uno de los alumnos, y el área de control escolar genero el archivo calificaciones_v1.csv para calcular el promedio por alumno, y tener un archivo con formato similar al archivo calificaciones_promedio_v1.csv.\n",
        "\n",
        "Su trabajo consiste en formatear el archivo calificaciones_v1.csv, calcular el promedio y generar un archivo como calificaciones_promedio_v1.csv\n",
        "\n",
        "Actividades:\n",
        "1. Descargar los archivos anexos.\n",
        "2. Utlizar Colab o Jupyter Notebook para analisar los datos.\n",
        "3. Documentar el proceso de transformación de los datos.\n",
        "4. Generar el archivo calificaciones_promedio_v1.csv\n",
        "\n",
        "Resultado:\n",
        "1. Agregar una cabecera a la Notebook de Jupyter con su Nombre, grupo, fecha, descripción del problema.\n",
        "2. Convertir el Notebook a PDF y enviarlo para su revición.\n",
        "3. Anexar el archivo calificaciones_promedio_v1.csv generado.\n",
        "\n",
        "\n",
        "\n",
        "\n",
        "\n",
        "\n",
        "\n"
      ],
      "metadata": {
        "id": "ysd3KXIwTqO2"
      }
    },
    {
      "cell_type": "markdown",
      "source": [
        "SE EXPORTA CSV PARA LEER Y ABRIR DATOS .CSV Y SE EXPORTA NUMPY PARA GENERAR, MANIPULA Y REALIZA DIFERENTES ACCIONES "
      ],
      "metadata": {
        "id": "y8q4lh-2VYHm"
      }
    },
    {
      "cell_type": "code",
      "execution_count": 15,
      "metadata": {
        "id": "2J_WqhXaCH_u"
      },
      "outputs": [],
      "source": [
        "import csv                                      \n",
        "import numpy as np    \n"
      ]
    },
    {
      "cell_type": "markdown",
      "source": [
        "COMENZAMOS PRINCIPALMENTE ABRINDO EL DOCUMENTO PREVIAMENTE IMPORTADO Y DE ESTA MANERA ASI MISMO VISUALIZAR LOS DATOS QUE ESTAN DENTRO DE \"v1.csv\" COLOCANDOLO EN UN ARRAY, CON SWAPAXES VISTO EN CLASE NOS AYUDO A ORDENAR EN COLUMNAN Y FILAS RECORDANDO QUE 0=COLUMNA Y 1=FILA"
      ],
      "metadata": {
        "id": "xKrcy2gXWKD7"
      }
    },
    {
      "cell_type": "code",
      "execution_count": 16,
      "metadata": {
        "id": "7W3LBG-zCH_v",
        "colab": {
          "base_uri": "https://localhost:8080/"
        },
        "outputId": "f66cfb34-cfbf-46bd-fe15-b4d8ab242c0e"
      },
      "outputs": [
        {
          "output_type": "execute_result",
          "data": {
            "text/plain": [
              "array([['matricula', 'nombre', 'grupo', 'Materia 1', 'Materia 2',\n",
              "        'Materia 3', 'Materia 4', 'Materia 5', 'estado', 'matricula',\n",
              "        'nombre', 'grupo', 'Materia 1', 'Materia 2', 'Materia 3',\n",
              "        'Materia 4', 'Materia 5', 'estado', 'matricula', 'nombre',\n",
              "        'grupo', 'Materia 1', 'Materia 2', 'Materia 3', 'Materia 4',\n",
              "        'Materia 5', 'estado', 'matricula', 'nombre', 'grupo',\n",
              "        'Materia 1', 'Materia 2', 'Materia 3', 'Materia 4', 'Materia 5',\n",
              "        'estado', 'matricula', 'nombre', 'grupo', 'Materia 1',\n",
              "        'Materia 2', 'Materia 3', 'Materia 4', 'Materia 5', 'estado',\n",
              "        'matricula', 'nombre', 'grupo', 'Materia 1', 'Materia 2',\n",
              "        'Materia 3', 'Materia 4', 'Materia 5', 'estado', 'matricula',\n",
              "        'nombre', 'grupo', 'Materia 1', 'Materia 2', 'Materia 3',\n",
              "        'Materia 4', 'Materia 5', 'estado', 'matricula', 'nombre',\n",
              "        'grupo', 'Materia 1', 'Materia 2', 'Materia 3', 'Materia 4',\n",
              "        'Materia 5', 'estado', 'matricula', 'nombre', 'grupo',\n",
              "        'Materia 1', 'Materia 2', 'Materia 3', 'Materia 4', 'Materia 5',\n",
              "        'estado', 'matricula', 'nombre', 'grupo', 'Materia 1',\n",
              "        'Materia 2', 'Materia 3', 'Materia 4', 'Materia 5', 'estado',\n",
              "        'matricula', 'nombre', 'grupo', 'Materia 1', 'Materia 2',\n",
              "        'Materia 3', 'Materia 4', 'Materia 5', 'estado', 'matricula',\n",
              "        'nombre', 'grupo', 'Materia 1', 'Materia 2', 'Materia 3',\n",
              "        'Materia 4', 'Materia 5', 'estado', 'matricula', 'nombre',\n",
              "        'grupo', 'Materia 1', 'Materia 2', 'Materia 3', 'Materia 4',\n",
              "        'Materia 5', 'estado', 'matricula', 'nombre', 'grupo',\n",
              "        'Materia 1', 'Materia 2', 'Materia 3', 'Materia 4', 'Materia 5',\n",
              "        'estado', 'matricula', 'nombre', 'grupo', 'Materia 1',\n",
              "        'Materia 2', 'Materia 3', 'Materia 4', 'Materia 5', 'estado',\n",
              "        'matricula', 'nombre', 'grupo', 'Materia 1', 'Materia 2',\n",
              "        'Materia 3', 'Materia 4', 'Materia 5', 'estado', 'matricula',\n",
              "        'nombre', 'grupo', 'Materia 1', 'Materia 2', 'Materia 3',\n",
              "        'Materia 4', 'Materia 5', 'estado', 'matricula', 'nombre',\n",
              "        'grupo', 'Materia 1', 'Materia 2', 'Materia 3', 'Materia 4',\n",
              "        'Materia 5', 'estado', 'matricula', 'nombre', 'grupo',\n",
              "        'Materia 1', 'Materia 2', 'Materia 3', 'Materia 4', 'Materia 5',\n",
              "        'estado', 'matricula', 'nombre', 'grupo', 'Materia 1',\n",
              "        'Materia 2', 'Materia 3', 'Materia 4', 'Materia 5', 'estado',\n",
              "        'matricula', 'nombre', 'grupo', 'Materia 1', 'Materia 2',\n",
              "        'Materia 3', 'Materia 4', 'Materia 5', 'estado', 'matricula',\n",
              "        'nombre', 'grupo', 'Materia 1', 'Materia 2', 'Materia 3',\n",
              "        'Materia 4', 'Materia 5', 'estado', 'matricula', 'nombre',\n",
              "        'grupo', 'Materia 1', 'Materia 2', 'Materia 3', 'Materia 4',\n",
              "        'Materia 5', 'estado', 'matricula', 'nombre', 'grupo',\n",
              "        'Materia 1', 'Materia 2', 'Materia 3', 'Materia 4', 'Materia 5',\n",
              "        'estado', 'matricula', 'nombre', 'grupo', 'Materia 1',\n",
              "        'Materia 2', 'Materia 3', 'Materia 4', 'Materia 5', 'estado',\n",
              "        'matricula', 'nombre', 'grupo', 'Materia 1', 'Materia 2',\n",
              "        'Materia 3', 'Materia 4', 'Materia 5', 'estado', 'matricula',\n",
              "        'nombre', 'grupo', 'Materia 1', 'Materia 2', 'Materia 3',\n",
              "        'Materia 4', 'Materia 5', 'estado', 'matricula', 'nombre',\n",
              "        'grupo', 'Materia 1', 'Materia 2', 'Materia 3', 'Materia 4',\n",
              "        'Materia 5', 'estado', 'matricula', 'nombre', 'grupo',\n",
              "        'Materia 1', 'Materia 2', 'Materia 3', 'Materia 4', 'Materia 5',\n",
              "        'estado', 'matricula', 'nombre', 'grupo', 'Materia 1',\n",
              "        'Materia 2', 'Materia 3', 'Materia 4', 'Materia 5', 'estado',\n",
              "        'matricula', 'nombre', 'grupo', 'Materia 1', 'Materia 2',\n",
              "        'Materia 3', 'Materia 4', 'Materia 5', 'estado', 'matricula',\n",
              "        'nombre', 'grupo', 'Materia 1', 'Materia 2', 'Materia 3',\n",
              "        'Materia 4', 'Materia 5', 'estado', 'matricula', 'nombre',\n",
              "        'grupo', 'Materia 1', 'Materia 2', 'Materia 3', 'Materia 4',\n",
              "        'Materia 5', 'estado', 'matricula', 'nombre', 'grupo',\n",
              "        'Materia 1', 'Materia 2', 'Materia 3', 'Materia 4', 'Materia 5',\n",
              "        'estado', 'matricula', 'nombre', 'grupo', 'Materia 1',\n",
              "        'Materia 2', 'Materia 3', 'Materia 4', 'Materia 5', 'estado',\n",
              "        'matricula', 'nombre', 'grupo', 'Materia 1', 'Materia 2',\n",
              "        'Materia 3', 'Materia 4', 'Materia 5', 'estado', 'matricula',\n",
              "        'nombre', 'grupo', 'Materia 1', 'Materia 2', 'Materia 3',\n",
              "        'Materia 4', 'Materia 5', 'estado', 'matricula', 'nombre',\n",
              "        'grupo', 'Materia 1', 'Materia 2', 'Materia 3', 'Materia 4',\n",
              "        'Materia 5', 'estado', 'matricula', 'nombre', 'grupo',\n",
              "        'Materia 1', 'Materia 2', 'Materia 3', 'Materia 4', 'Materia 5',\n",
              "        'estado', 'matricula', 'nombre', 'grupo', 'Materia 1',\n",
              "        'Materia 2', 'Materia 3', 'Materia 4', 'Materia 5', 'estado',\n",
              "        'matricula', 'nombre', 'grupo', 'Materia 1', 'Materia 2',\n",
              "        'Materia 3', 'Materia 4', 'Materia 5', 'estado', 'matricula',\n",
              "        'nombre', 'grupo', 'Materia 1', 'Materia 2', 'Materia 3',\n",
              "        'Materia 4', 'Materia 5', 'estado', 'matricula', 'nombre',\n",
              "        'grupo', 'Materia 1', 'Materia 2', 'Materia 3', 'Materia 4',\n",
              "        'Materia 5', 'estado', 'matricula', 'nombre', 'grupo',\n",
              "        'Materia 1', 'Materia 2', 'Materia 3', 'Materia 4', 'Materia 5',\n",
              "        'estado', 'matricula', 'nombre', 'grupo', 'Materia 1',\n",
              "        'Materia 2', 'Materia 3', 'Materia 4', 'Materia 5', 'estado',\n",
              "        'matricula', 'nombre', 'grupo', 'Materia 1', 'Materia 2',\n",
              "        'Materia 3', 'Materia 4', 'Materia 5', 'estado', 'matricula',\n",
              "        'nombre', 'grupo', 'Materia 1', 'Materia 2', 'Materia 3',\n",
              "        'Materia 4', 'Materia 5', 'estado', 'matricula', 'nombre',\n",
              "        'grupo', 'Materia 1', 'Materia 2', 'Materia 3', 'Materia 4',\n",
              "        'Materia 5', 'estado'],\n",
              "       ['11111111', 'Alumno 1', 'TI11', '1', '8', '1', '7', '2',\n",
              "        'regular', '11111112', 'Alumno 2', 'TI11', '10', '7', '1', '8',\n",
              "        '5', 'regular', '11111113', 'Alumno 3', 'TI11', '4', '1', '1',\n",
              "        '3', '0', 'regular', '11111114', 'Alumno 4', 'TI11', '5', '4',\n",
              "        '3', '2', '7', 'regular', '11111115', 'Alumno 5', 'TI11', '9',\n",
              "        '10', '3', '9', '2', 'regular', '11111116', 'Alumno 6', 'TI11',\n",
              "        '1', '3', '8', '1', '7', 'regular', '11111117', 'Alumno 7',\n",
              "        'TI11', '4', '7', '1', '6', '5', 'regular', '11111118',\n",
              "        'Alumno 8', 'TI11', '10', '1', '7', '10', '0', 'regular',\n",
              "        '11111119', 'Alumno 9', 'TI11', '5', '5', '4', '0', '3',\n",
              "        'regular', '11111120', 'Alumno 10', 'TI11', '5', '7', '3', '3',\n",
              "        '4', 'regular', '11111121', 'Alumno 11', 'TI11', '6', '1', '3',\n",
              "        '7', '0', 'regular', '11111122', 'Alumno 12', 'TI11', '7', '2',\n",
              "        '5', '4', '5', 'regular', '11111123', 'Alumno 13', 'TI12', '5',\n",
              "        '2', '3', '0', '1', 'regular', '11111124', 'Alumno 14', 'TI12',\n",
              "        '5', '2', '10', '0', '6', 'regular', '11111125', 'Alumno 15',\n",
              "        'TI12', '9', '9', '1', '3', '1', 'regular', '11111126',\n",
              "        'Alumno 16', 'TI12', '1', '2', '1', '7', '7', 'regular',\n",
              "        '11111127', 'Alumno 17', 'TI12', '0', '2', '1', '0', '2',\n",
              "        'regular', '11111128', 'Alumno 18', 'TI12', '0', '1', '4', '7',\n",
              "        '6', 'regular', '11111129', 'Alumno 19', 'TI12', '0', '8', '7',\n",
              "        '8', '2', 'regular', '11111130', 'Alumno 20', 'TI12', '4', '0',\n",
              "        '5', '0', '4', 'regular', '11111131', 'Alumno 21', 'TI12', '6',\n",
              "        '4', '2', '10', '10', 'regular', '11111132', 'Alumno 22', 'TI12',\n",
              "        '5', '6', '9', '0', '3', 'regular', '11111133', 'Alumno 23',\n",
              "        'TI12', '1', '9', '7', '7', '6', 'regular', '11111134',\n",
              "        'Alumno 24', 'TI41', '4', '0', '10', '7', '0', 'regular',\n",
              "        '11111135', 'Alumno 25', 'TI41', '3', '3', '0', '8', '5',\n",
              "        'regular', '11111136', 'Alumno 26', 'TI41', '0', '5', '7', '2',\n",
              "        '1', 'regular', '11111137', 'Alumno 27', 'TI41', '0', '0', '6',\n",
              "        '0', '5', 'regular', '11111138', 'Alumno 28', 'TI41', '9', '3',\n",
              "        '10', '9', '6', 'regular', '11111139', 'Alumno 29', 'TI41', '0',\n",
              "        '5', '1', '10', '1', 'regular', '11111140', 'Alumno 30', 'TI41',\n",
              "        '3', '3', '5', '9', '9', 'regular', '11111141', 'Alumno 31',\n",
              "        'TI41', '10', '10', '4', '1', '4', 'regular', '11111142',\n",
              "        'Alumno 32', 'TI41', '6', '0', '5', '3', '2', 'regular',\n",
              "        '11111143', 'Alumno 33', 'IDGS91', '0', '4', '1', '7', '9',\n",
              "        'regular', '11111144', 'Alumno 34', 'IDGS91', '1', '1', '2', '3',\n",
              "        '8', 'regular', '11111145', 'Alumno 35', 'IDGS91', '0', '7',\n",
              "        '10', '7', '7', 'regular', '11111146', 'Alumno 36', 'IDGS91',\n",
              "        '7', '1', '4', '0', '6', 'regular', '11111147', 'Alumno 37',\n",
              "        'IDGS91', '6', '6', '4', '3', '0', 'regular', '11111148',\n",
              "        'Alumno 38', 'IDGS91', '0', '6', '6', '3', '5', 'regular',\n",
              "        '11111149', 'Alumno 39', 'IDGS91', '8', '7', '9', '5', '2',\n",
              "        'regular', '11111150', 'Alumno 40', 'IDGS91', '1', '0', '3', '4',\n",
              "        '10', 'regular', '11111151', 'Alumno 41', 'IDGS91', '6', '5',\n",
              "        '1', '5', '9', 'regular', '11111152', 'Alumno 42', 'IDGS91', '2',\n",
              "        '0', '9', '9', '5', 'regular', '11111153', 'Alumno 43', 'IDGS91',\n",
              "        '3', '4', '0', '0', '0', 'regular', '11111154', 'Alumno 44',\n",
              "        'IDGS91', '3', '1', '1', '7', '10', 'regular', '11111155',\n",
              "        'Alumno 45', 'IDGS91', '4', '1', '2', '8', '6', 'regular',\n",
              "        '11111156', 'Alumno 46', 'IDGS71', '10', '1', '10', '0', '7',\n",
              "        'regular', '11111157', 'Alumno 47', 'IDGS71', '9', '10', '1',\n",
              "        '3', '9', 'regular', '11111158', 'Alumno 48', 'IDGS71', '4', '4',\n",
              "        '10', '6', '8', 'regular']], dtype='<U9')"
            ]
          },
          "metadata": {},
          "execution_count": 16
        }
      ],
      "source": [
        "with open('v1.csv', 'r') as f:                  \n",
        "    cali = list(csv.reader(f, delimiter=\",\"))   \n",
        "cali = np.array(cali)                           \n",
        "cali                                            \n",
        "\n",
        "calitable =cali.swapaxes(1,0)              \n",
        "calitable                                "
      ]
    },
    {
      "cell_type": "markdown",
      "source": [
        "PARA UNA MEJOR VISUALIZACION Y ASI MISMO EL ELIMINAR INFORMACION INECESARIA, DELETE REALIZA EL ELIMINAR ENCABEZADOS DEL DOCUMENTO QUE EN ESTE CASO FUERON: \"matricula,nombre,grupo,Materia 1,Materia 2,Materia 3,Materia 4,Materia 5,estado\"."
      ],
      "metadata": {
        "id": "PwoOjrXBW3mJ"
      }
    },
    {
      "cell_type": "code",
      "execution_count": 17,
      "metadata": {
        "id": "UKpxA_pGCH_z",
        "colab": {
          "base_uri": "https://localhost:8080/"
        },
        "outputId": "b120e142-84eb-48aa-8df0-60897e008879"
      },
      "outputs": [
        {
          "output_type": "execute_result",
          "data": {
            "text/plain": [
              "array([['11111111', 'Alumno 1', 'TI11', '1', '8', '1', '7', '2',\n",
              "        'regular', '11111112', 'Alumno 2', 'TI11', '10', '7', '1', '8',\n",
              "        '5', 'regular', '11111113', 'Alumno 3', 'TI11', '4', '1', '1',\n",
              "        '3', '0', 'regular', '11111114', 'Alumno 4', 'TI11', '5', '4',\n",
              "        '3', '2', '7', 'regular', '11111115', 'Alumno 5', 'TI11', '9',\n",
              "        '10', '3', '9', '2', 'regular', '11111116', 'Alumno 6', 'TI11',\n",
              "        '1', '3', '8', '1', '7', 'regular', '11111117', 'Alumno 7',\n",
              "        'TI11', '4', '7', '1', '6', '5', 'regular', '11111118',\n",
              "        'Alumno 8', 'TI11', '10', '1', '7', '10', '0', 'regular',\n",
              "        '11111119', 'Alumno 9', 'TI11', '5', '5', '4', '0', '3',\n",
              "        'regular', '11111120', 'Alumno 10', 'TI11', '5', '7', '3', '3',\n",
              "        '4', 'regular', '11111121', 'Alumno 11', 'TI11', '6', '1', '3',\n",
              "        '7', '0', 'regular', '11111122', 'Alumno 12', 'TI11', '7', '2',\n",
              "        '5', '4', '5', 'regular', '11111123', 'Alumno 13', 'TI12', '5',\n",
              "        '2', '3', '0', '1', 'regular', '11111124', 'Alumno 14', 'TI12',\n",
              "        '5', '2', '10', '0', '6', 'regular', '11111125', 'Alumno 15',\n",
              "        'TI12', '9', '9', '1', '3', '1', 'regular', '11111126',\n",
              "        'Alumno 16', 'TI12', '1', '2', '1', '7', '7', 'regular',\n",
              "        '11111127', 'Alumno 17', 'TI12', '0', '2', '1', '0', '2',\n",
              "        'regular', '11111128', 'Alumno 18', 'TI12', '0', '1', '4', '7',\n",
              "        '6', 'regular', '11111129', 'Alumno 19', 'TI12', '0', '8', '7',\n",
              "        '8', '2', 'regular', '11111130', 'Alumno 20', 'TI12', '4', '0',\n",
              "        '5', '0', '4', 'regular', '11111131', 'Alumno 21', 'TI12', '6',\n",
              "        '4', '2', '10', '10', 'regular', '11111132', 'Alumno 22', 'TI12',\n",
              "        '5', '6', '9', '0', '3', 'regular', '11111133', 'Alumno 23',\n",
              "        'TI12', '1', '9', '7', '7', '6', 'regular', '11111134',\n",
              "        'Alumno 24', 'TI41', '4', '0', '10', '7', '0', 'regular',\n",
              "        '11111135', 'Alumno 25', 'TI41', '3', '3', '0', '8', '5',\n",
              "        'regular', '11111136', 'Alumno 26', 'TI41', '0', '5', '7', '2',\n",
              "        '1', 'regular', '11111137', 'Alumno 27', 'TI41', '0', '0', '6',\n",
              "        '0', '5', 'regular', '11111138', 'Alumno 28', 'TI41', '9', '3',\n",
              "        '10', '9', '6', 'regular', '11111139', 'Alumno 29', 'TI41', '0',\n",
              "        '5', '1', '10', '1', 'regular', '11111140', 'Alumno 30', 'TI41',\n",
              "        '3', '3', '5', '9', '9', 'regular', '11111141', 'Alumno 31',\n",
              "        'TI41', '10', '10', '4', '1', '4', 'regular', '11111142',\n",
              "        'Alumno 32', 'TI41', '6', '0', '5', '3', '2', 'regular',\n",
              "        '11111143', 'Alumno 33', 'IDGS91', '0', '4', '1', '7', '9',\n",
              "        'regular', '11111144', 'Alumno 34', 'IDGS91', '1', '1', '2', '3',\n",
              "        '8', 'regular', '11111145', 'Alumno 35', 'IDGS91', '0', '7',\n",
              "        '10', '7', '7', 'regular', '11111146', 'Alumno 36', 'IDGS91',\n",
              "        '7', '1', '4', '0', '6', 'regular', '11111147', 'Alumno 37',\n",
              "        'IDGS91', '6', '6', '4', '3', '0', 'regular', '11111148',\n",
              "        'Alumno 38', 'IDGS91', '0', '6', '6', '3', '5', 'regular',\n",
              "        '11111149', 'Alumno 39', 'IDGS91', '8', '7', '9', '5', '2',\n",
              "        'regular', '11111150', 'Alumno 40', 'IDGS91', '1', '0', '3', '4',\n",
              "        '10', 'regular', '11111151', 'Alumno 41', 'IDGS91', '6', '5',\n",
              "        '1', '5', '9', 'regular', '11111152', 'Alumno 42', 'IDGS91', '2',\n",
              "        '0', '9', '9', '5', 'regular', '11111153', 'Alumno 43', 'IDGS91',\n",
              "        '3', '4', '0', '0', '0', 'regular', '11111154', 'Alumno 44',\n",
              "        'IDGS91', '3', '1', '1', '7', '10', 'regular', '11111155',\n",
              "        'Alumno 45', 'IDGS91', '4', '1', '2', '8', '6', 'regular',\n",
              "        '11111156', 'Alumno 46', 'IDGS71', '10', '1', '10', '0', '7',\n",
              "        'regular', '11111157', 'Alumno 47', 'IDGS71', '9', '10', '1',\n",
              "        '3', '9', 'regular', '11111158', 'Alumno 48', 'IDGS71', '4', '4',\n",
              "        '10', '6', '8', 'regular']], dtype='<U9')"
            ]
          },
          "metadata": {},
          "execution_count": 17
        }
      ],
      "source": [
        "encabezado = np.delete(calitable, 0, 0)\n",
        "encabezado"
      ]
    },
    {
      "cell_type": "markdown",
      "source": [
        "COMENZAMOS CON LA MANERA DE CALCULAR EL PROMEDIO GENERAL DE LOS ALUMNOS Y ASI MISMO SEGUIDAMENTE DE LA CONVERSION A DATO ENTERO "
      ],
      "metadata": {
        "id": "3SqhKVV7X2rk"
      }
    },
    {
      "cell_type": "code",
      "execution_count": 18,
      "metadata": {
        "id": "NLMwOpPMCH_2"
      },
      "outputs": [],
      "source": [
        "calificaciones = encabezado.tolist()\n",
        "def calificas(calificaciones):\n",
        "    return sum(calificaciones)/len(calificaciones)\n",
        "def convert_int(c):\n",
        "    return int(c)\n",
        "califi = [] \n",
        "califica = []\n",
        "for a in calificaciones :\n",
        "    califi.append(list(map(convert_int, a[3:8])))\n",
        "    califica.append(list(map(calificas, califi)))\n"
      ]
    },
    {
      "cell_type": "markdown",
      "source": [
        "SE CREA EL ENCABEZADO DE LA TABLA \"v1.csv\" Y ASI MISMO EL ADJUNTAR LOS DATOS CONSEGUIDOS, SEGUIDAMENTE EL CREAR ARRAY CON LOS DATOS DE \"CALIFICACIONES\" Y CREAR EL DOCUMENTO \"calificaciones_promedio_v1.csv\" DELIMITADO POR \",\"."
      ],
      "metadata": {
        "id": "kAJHL3bLZuEQ"
      }
    },
    {
      "cell_type": "code",
      "execution_count": 19,
      "metadata": {
        "id": "z-DtqQ15CH_5",
        "colab": {
          "base_uri": "https://localhost:8080/"
        },
        "outputId": "66169f81-7526-46d0-e189-44e1e8e31a33"
      },
      "outputs": [
        {
          "output_type": "stream",
          "name": "stderr",
          "text": [
            "/usr/local/lib/python3.7/dist-packages/ipykernel_launcher.py:5: VisibleDeprecationWarning: Creating an ndarray from ragged nested sequences (which is a list-or-tuple of lists-or-tuples-or ndarrays with different lengths or shapes) is deprecated. If you meant to do this, you must specify 'dtype=object' when creating the ndarray.\n",
            "  \"\"\"\n"
          ]
        }
      ],
      "source": [
        "for a in range(len(calificaciones)):\n",
        "    calificaciones[a].append(califica[a][0])\n",
        "tablaenca=[\"matricula\",\"nombre\",\"grupo\",\"Materia 1\",\"Materia 2\",\"Materia 3\", \"Materia 4\", \"Materia 5\", \"estado\", \"promedio\"]\n",
        "calificaciones.insert(0,tablaenca)\n",
        "calificacionespromedio = np.array(calificaciones)\n",
        "np.savetxt(\"calificaciones_promedio_v1.csv\", calificacionespromedio, delimiter=',', fmt='%s')\n"
      ]
    }
  ],
  "metadata": {
    "kernelspec": {
      "display_name": "Python 3.10.6 64-bit",
      "language": "python",
      "name": "python3"
    },
    "language_info": {
      "codemirror_mode": {
        "name": "ipython",
        "version": 3
      },
      "file_extension": ".py",
      "mimetype": "text/x-python",
      "name": "python",
      "nbconvert_exporter": "python",
      "pygments_lexer": "ipython3",
      "version": "3.10.6"
    },
    "orig_nbformat": 4,
    "vscode": {
      "interpreter": {
        "hash": "916dbcbb3f70747c44a77c7bcd40155683ae19c65e1c03b4aa3499c5328201f1"
      }
    },
    "colab": {
      "provenance": [],
      "include_colab_link": true
    }
  },
  "nbformat": 4,
  "nbformat_minor": 0
}