{
  "cells": [
    {
      "cell_type": "markdown",
      "metadata": {
        "id": "view-in-github",
        "colab_type": "text"
      },
      "source": [
        "<a href=\"https://colab.research.google.com/github/Addair40/colab/blob/main/2_3_Preparaci%C3%B3n_de_datos_Caso_%22Calificaciones_V1%22.ipynb\" target=\"_parent\"><img src=\"https://colab.research.google.com/assets/colab-badge.svg\" alt=\"Open In Colab\"/></a>"
      ]
    },
    {
      "cell_type": "code",
      "execution_count": 27,
      "metadata": {
        "id": "2J_WqhXaCH_u"
      },
      "outputs": [],
      "source": [
        "import csv                                      #SE EXPORTA CSV PARA LEER Y ABRIR DATOS .CSV\n",
        "import numpy as np    \n"
      ]
    },
    {
      "cell_type": "code",
      "execution_count": null,
      "metadata": {
        "id": "7W3LBG-zCH_v"
      },
      "outputs": [],
      "source": [
        "with open('v1.csv', 'r') as f:                  #ABRE EL DOCUMENTO PREVIAMENTE IMPORTADO A COLAB Y DE ESTA MANERA SE VA A VISUALIZAR PARA LEER\n",
        "    cali = list(csv.reader(f, delimiter=\",\"))   #LIMITARA EL DOCUMENTO V1.CSV POR ,\n",
        "\n",
        "cali = np.array(cali)                           #VARIABLE EN UN ARRAY DE NUMPY\n",
        "cali                                            #IMPRIME LA VARIABLE\n",
        "\n",
        "calitable =cali.swapaxes(1,0)              #CON LA VARIABLE, SWAPAXES VISTO EN CLASE NOS AYUDA A ORDENAR EN COLUMNAS Y FILAS EN DONDE 0 ES COLUMNA Y 1 ES FILA\n",
        "calitable                                 #IMPRIME LO GUARDADO EN LA VARIABLE"
      ]
    },
    {
      "cell_type": "code",
      "execution_count": null,
      "metadata": {
        "id": "UKpxA_pGCH_z"
      },
      "outputs": [],
      "source": [
        "encabezado = np.delete(calitable, 0, 0)\n",
        "encabezado"
      ]
    },
    {
      "cell_type": "code",
      "execution_count": 24,
      "metadata": {
        "id": "NLMwOpPMCH_2"
      },
      "outputs": [],
      "source": [
        "calificaciones = encabezado.tolist()\n",
        "def calificas(calificaciones):\n",
        "    return sum(calificaciones)/len(calificaciones)\n",
        "\n",
        "def convert_int(c):\n",
        "    return int(c)\n",
        "\n",
        "califi = [] \n",
        "califica = []\n",
        "\n",
        "for a in calificaciones :\n",
        "    califi.append(list(map(convert_int, a[3:8])))\n",
        "    califica.append(list(map(calificas, califi)))\n"
      ]
    },
    {
      "cell_type": "code",
      "execution_count": 25,
      "metadata": {
        "id": "z-DtqQ15CH_5"
      },
      "outputs": [],
      "source": [
        "for a in range(len(calificaciones)):\n",
        "    calificaciones[a].append(califica[a][0])\n",
        "\n",
        "tablaenca=[\"matricula\",\"nombre\",\"grupo\",\"Materia 1\",\"Materia 2\",\"Materia 3\", \"Materia 4\", \"Materia 5\", \"estado\", \"promedio\"]\n",
        "calificaciones.insert(0,tablaenca)"
      ]
    },
    {
      "cell_type": "code",
      "execution_count": 26,
      "metadata": {
        "id": "QDO_KMNYCH_6"
      },
      "outputs": [],
      "source": [
        "#Hacemos de la lista un arreglo\n",
        "\n",
        "calificacionespromedio = np.array(calificaciones)\n",
        "np.savetxt(\"calificaciones_promedio_v1.csv\", calificacionespromedio, delimiter=',', fmt='%s')"
      ]
    },
    {
      "cell_type": "code",
      "execution_count": 18,
      "metadata": {
        "id": "m-_oJ9eKCH_6"
      },
      "outputs": [],
      "source": [
        "\n",
        "\n"
      ]
    }
  ],
  "metadata": {
    "kernelspec": {
      "display_name": "Python 3.10.6 64-bit",
      "language": "python",
      "name": "python3"
    },
    "language_info": {
      "codemirror_mode": {
        "name": "ipython",
        "version": 3
      },
      "file_extension": ".py",
      "mimetype": "text/x-python",
      "name": "python",
      "nbconvert_exporter": "python",
      "pygments_lexer": "ipython3",
      "version": "3.10.6"
    },
    "orig_nbformat": 4,
    "vscode": {
      "interpreter": {
        "hash": "916dbcbb3f70747c44a77c7bcd40155683ae19c65e1c03b4aa3499c5328201f1"
      }
    },
    "colab": {
      "provenance": [],
      "include_colab_link": true
    }
  },
  "nbformat": 4,
  "nbformat_minor": 0
}