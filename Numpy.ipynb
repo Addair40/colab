{
  "nbformat": 4,
  "nbformat_minor": 0,
  "metadata": {
    "colab": {
      "provenance": [],
      "authorship_tag": "ABX9TyMJY9xNNa4aqE067W/7ags2",
      "include_colab_link": true
    },
    "kernelspec": {
      "name": "python3",
      "display_name": "Python 3"
    },
    "language_info": {
      "name": "python"
    }
  },
  "cells": [
    {
      "cell_type": "markdown",
      "metadata": {
        "id": "view-in-github",
        "colab_type": "text"
      },
      "source": [
        "<a href=\"https://colab.research.google.com/github/Addair40/colab/blob/main/Numpy.ipynb\" target=\"_parent\"><img src=\"https://colab.research.google.com/assets/colab-badge.svg\" alt=\"Open In Colab\"/></a>"
      ]
    },
    {
      "cell_type": "code",
      "execution_count": 1,
      "metadata": {
        "colab": {
          "base_uri": "https://localhost:8080/"
        },
        "id": "MqdXKDb-eQxo",
        "outputId": "4be2e196-2ecf-43c7-cf7e-c09ed9c7d591"
      },
      "outputs": [
        {
          "output_type": "stream",
          "name": "stdout",
          "text": [
            "Looking in indexes: https://pypi.org/simple, https://us-python.pkg.dev/colab-wheels/public/simple/\n",
            "Requirement already satisfied: numpy in /usr/local/lib/python3.7/dist-packages (1.21.6)\n"
          ]
        }
      ],
      "source": [
        "pip install numpy"
      ]
    },
    {
      "cell_type": "code",
      "source": [
        "import numpy as np"
      ],
      "metadata": {
        "id": "D52LhG_rgSLm"
      },
      "execution_count": 5,
      "outputs": []
    },
    {
      "cell_type": "code",
      "source": [
        "np.__version__"
      ],
      "metadata": {
        "colab": {
          "base_uri": "https://localhost:8080/",
          "height": 36
        },
        "id": "2saHfvNgfyKU",
        "outputId": "72577e80-2cde-4b3d-d1af-d711239e5217"
      },
      "execution_count": 6,
      "outputs": [
        {
          "output_type": "execute_result",
          "data": {
            "text/plain": [
              "'1.21.6'"
            ],
            "application/vnd.google.colaboratory.intrinsic+json": {
              "type": "string"
            }
          },
          "metadata": {},
          "execution_count": 6
        }
      ]
    },
    {
      "cell_type": "code",
      "source": [
        "lista = [1,2,3,4,3]\n",
        "array = np.array(lista)\n",
        "#array.ndim       #NUMERO DE DIMENSIONES\n",
        "#array.shape      #NUMERO DE DIMENSIONES QUE TIENE CADA APARTADO\n",
        "#array.size       #CUANTOS ELEMENTOS TIENE EN TOTAL\n",
        "#array.dtype      #TIPO DE DATO \n",
        "#array.itemsize   #NUMERO DE BITS QUE ESTA OCUPANDO PARA ALMACENAR ESOS VALORES\n",
        "#array.data       #DA LA RUTA Y MEMORIA DONDE ESTA GUARDADO\n",
        "#type(array)      #TIPO DE DATO\n",
        "#array.max()      #VALOR MAXIMO\n",
        "#array.min()      #VALOR MINIMO "
      ],
      "metadata": {
        "colab": {
          "base_uri": "https://localhost:8080/"
        },
        "id": "KydP6X80iert",
        "outputId": "26c73d09-2fb9-41bc-e4d1-1d46830f818c"
      },
      "execution_count": 7,
      "outputs": [
        {
          "output_type": "execute_result",
          "data": {
            "text/plain": [
              "array([1, 2, 3, 4, 3])"
            ]
          },
          "metadata": {},
          "execution_count": 7
        }
      ]
    },
    {
      "cell_type": "code",
      "source": [
        "lista1 = [1,2,3]\n",
        "lista2 = [4,5,6]\n",
        "array = np.array([lista1,lista2])\n",
        "#array.ndim       #NUMERO DE DIMENSIONES\n",
        "#array.shape      #NUMERO DE DIMENSIONES QUE TIENE CADA APARTADO\n",
        "#array.size       #CUANTOS ELEMENTOS TIENE EN TOTAL\n",
        "#array.dtype      #TIPO DE DATO \n",
        "#array.itemsize   #NUMERO DE BITS QUE ESTA OCUPANDO PARA ALMACENAR ESOS VALORES\n",
        "#array.data       #DA LA RUTA Y MEMORIA DONDE ESTA GUARDADO\n",
        "#type(array)      #TIPO DE DATO\n",
        "#array.max()      #VALOR MAXIMO\n",
        "#array.min()      #VALOR MINIMO "
      ],
      "metadata": {
        "id": "ek6lwmxanLnB"
      },
      "execution_count": null,
      "outputs": []
    },
    {
      "cell_type": "code",
      "source": [
        "lista1 = [1,2,3]\n",
        "lista2 = [4,5,6]\n",
        "lista3 = [6,7,8,9]\n",
        "#array = np.array([lista1,lista2,lista3])\n",
        "#array = np.array([lista1],dtype = int64)\n",
        "#array = np.array([lista1],dtype = int32)\n",
        "#array = np.array([lista1],dtype = float)\n",
        "#array = np.array([lista1],dtype = int16)\n",
        "#array\n",
        "#array.ndim       #NUMERO DE DIMENSIONES\n",
        "#array.shape      #NUMERO DE DIMENSIONES QUE TIENE CADA APARTADO\n",
        "#array.size       #CUANTOS ELEMENTOS TIENE EN TOTAL\n",
        "#array.dtype      #TIPO DE DATO \n",
        "#array.itemsize   #NUMERO DE BITS QUE ESTA OCUPANDO PARA ALMACENAR ESOS VALORES\n",
        "#array.data       #DA LA RUTA Y MEMORIA DONDE ESTA GUARDADO\n",
        "#type(array)      #TIPO DE DATO\n",
        "#array.max()      #VALOR MAXIMO\n",
        "#array.min()      #VALOR MINIMO "
      ],
      "metadata": {
        "id": "0YwUa_qInPyo"
      },
      "execution_count": null,
      "outputs": []
    },
    {
      "cell_type": "code",
      "source": [
        "array = np.arange(5) #ARANGE SIMULA COMO UN FOR\n",
        "np.arange(5, 10 ,3)\n",
        "array"
      ],
      "metadata": {
        "colab": {
          "base_uri": "https://localhost:8080/"
        },
        "id": "kXDYhS6zpvuJ",
        "outputId": "294a5ba7-aae1-44c0-ec6e-093e836502eb"
      },
      "execution_count": 11,
      "outputs": [
        {
          "output_type": "execute_result",
          "data": {
            "text/plain": [
              "array([0, 1, 2, 3, 4])"
            ]
          },
          "metadata": {},
          "execution_count": 11
        }
      ]
    },
    {
      "cell_type": "code",
      "source": [
        "np.zeros((3,4))"
      ],
      "metadata": {
        "colab": {
          "base_uri": "https://localhost:8080/"
        },
        "id": "EtVmDhmFpy0o",
        "outputId": "34c051fc-b36b-4747-bffd-60d9c00d86cc"
      },
      "execution_count": 9,
      "outputs": [
        {
          "output_type": "execute_result",
          "data": {
            "text/plain": [
              "array([[0., 0., 0., 0.],\n",
              "       [0., 0., 0., 0.],\n",
              "       [0., 0., 0., 0.]])"
            ]
          },
          "metadata": {},
          "execution_count": 9
        }
      ]
    },
    {
      "cell_type": "code",
      "source": [
        "np.ones((4,3))"
      ],
      "metadata": {
        "colab": {
          "base_uri": "https://localhost:8080/"
        },
        "id": "y8jIhfDXp0fy",
        "outputId": "e8b1b9d8-bd94-4094-a906-361f852614b7"
      },
      "execution_count": 10,
      "outputs": [
        {
          "output_type": "execute_result",
          "data": {
            "text/plain": [
              "array([[1., 1., 1.],\n",
              "       [1., 1., 1.],\n",
              "       [1., 1., 1.],\n",
              "       [1., 1., 1.]])"
            ]
          },
          "metadata": {},
          "execution_count": 10
        }
      ]
    },
    {
      "cell_type": "code",
      "source": [
        "np.linspace(0,9,4) #LINSPACE PERMITE GENERAR N NUMEROS ENTRE UN RANGO DE VALORES Y TODOS ESTARAN A LA MISMA DISTANCIA"
      ],
      "metadata": {
        "colab": {
          "base_uri": "https://localhost:8080/"
        },
        "id": "qdGjPXp4q0NC",
        "outputId": "6b4b0447-cb77-4dbc-c290-d747cf4fb605"
      },
      "execution_count": 13,
      "outputs": [
        {
          "output_type": "execute_result",
          "data": {
            "text/plain": [
              "array([0., 3., 6., 9.])"
            ]
          },
          "metadata": {},
          "execution_count": 13
        }
      ]
    }
  ]
}