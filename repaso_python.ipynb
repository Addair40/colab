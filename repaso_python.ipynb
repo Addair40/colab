{
  "nbformat": 4,
  "nbformat_minor": 0,
  "metadata": {
    "colab": {
      "provenance": [],
      "authorship_tag": "ABX9TyNSQ3B8eGPCbj7B0WesTL1N",
      "include_colab_link": true
    },
    "kernelspec": {
      "name": "python3",
      "display_name": "Python 3"
    },
    "language_info": {
      "name": "python"
    }
  },
  "cells": [
    {
      "cell_type": "markdown",
      "metadata": {
        "id": "view-in-github",
        "colab_type": "text"
      },
      "source": [
        "<a href=\"https://colab.research.google.com/github/Addair40/colab/blob/main/repaso_python.ipynb\" target=\"_parent\"><img src=\"https://colab.research.google.com/assets/colab-badge.svg\" alt=\"Open In Colab\"/></a>"
      ]
    },
    {
      "cell_type": "markdown",
      "source": [
        "Repaso de python"
      ],
      "metadata": {
        "id": "yBTn8YjVeoE-"
      }
    },
    {
      "cell_type": "code",
      "source": [],
      "metadata": {
        "id": "TC5vXab7gANN"
      },
      "execution_count": null,
      "outputs": []
    },
    {
      "cell_type": "markdown",
      "source": [
        "# Markdown\n",
        "\n",
        "## Tabla\n",
        "\n",
        "|No.|Titulo|\n",
        "|--|--|\n",
        "|1.|Fila 1|\n",
        "|2.|Fila 2|\n",
        "\n",
        "[Jupyter](http://jupyter.org/)"
      ],
      "metadata": {
        "id": "SAEHMSoxf_bq"
      }
    },
    {
      "cell_type": "code",
      "source": [],
      "metadata": {
        "id": "2JxlkyjXg0xd"
      },
      "execution_count": null,
      "outputs": []
    },
    {
      "cell_type": "markdown",
      "source": [
        "## Ejecutar celda\n",
        "ctrl + Enter"
      ],
      "metadata": {
        "id": "olg3pQuTfIt-"
      }
    },
    {
      "cell_type": "code",
      "source": [],
      "metadata": {
        "id": "Sv_fSFFjfGkY"
      },
      "execution_count": null,
      "outputs": []
    },
    {
      "cell_type": "markdown",
      "source": [
        "## Ejecutar y crear una celda\n",
        "Shift + Enter\n"
      ],
      "metadata": {
        "id": "GlmxzxzUfSaL"
      }
    },
    {
      "cell_type": "code",
      "source": [
        "variable = 78"
      ],
      "metadata": {
        "id": "oMCC3ENbfWLL"
      },
      "execution_count": 5,
      "outputs": []
    },
    {
      "cell_type": "code",
      "source": [
        "variable\n"
      ],
      "metadata": {
        "colab": {
          "base_uri": "https://localhost:8080/"
        },
        "id": "QH-yfaH7hphu",
        "outputId": "6f279c64-ab98-487f-f3ee-7127d9f65c00"
      },
      "execution_count": 6,
      "outputs": [
        {
          "output_type": "execute_result",
          "data": {
            "text/plain": [
              "78"
            ]
          },
          "metadata": {},
          "execution_count": 6
        }
      ]
    },
    {
      "cell_type": "markdown",
      "source": [
        "### Celdas temporables\n",
        "Ctrl + Alt + N"
      ],
      "metadata": {
        "id": "K-uNqEvIhr_H"
      }
    },
    {
      "cell_type": "markdown",
      "source": [
        "## 1.Cadenas"
      ],
      "metadata": {
        "id": "UnCaK_gklRZO"
      }
    },
    {
      "cell_type": "code",
      "source": [
        "\"Esto es una cadena\"\n"
      ],
      "metadata": {
        "colab": {
          "base_uri": "https://localhost:8080/",
          "height": 36
        },
        "id": "alOujjmahvb9",
        "outputId": "c4989f12-a50c-4f03-921c-c1c9a20dc6ab"
      },
      "execution_count": 7,
      "outputs": [
        {
          "output_type": "execute_result",
          "data": {
            "text/plain": [
              "'Esto es una cadena'"
            ],
            "application/vnd.google.colaboratory.intrinsic+json": {
              "type": "string"
            }
          },
          "metadata": {},
          "execution_count": 7
        }
      ]
    },
    {
      "cell_type": "code",
      "source": [
        "'Esto es otra cadena'"
      ],
      "metadata": {
        "colab": {
          "base_uri": "https://localhost:8080/",
          "height": 36
        },
        "id": "JRCHRMFilj6I",
        "outputId": "6ad17794-c64b-42a1-cb3f-5e4a000399a8"
      },
      "execution_count": 9,
      "outputs": [
        {
          "output_type": "execute_result",
          "data": {
            "text/plain": [
              "'Esto es otra cadena'"
            ],
            "application/vnd.google.colaboratory.intrinsic+json": {
              "type": "string"
            }
          },
          "metadata": {},
          "execution_count": 9
        }
      ]
    },
    {
      "cell_type": "code",
      "source": [
        "'Esto es una \"cadena\"'"
      ],
      "metadata": {
        "colab": {
          "base_uri": "https://localhost:8080/",
          "height": 36
        },
        "id": "_pAImxvylxN5",
        "outputId": "3e466496-28f3-42ff-b530-cf6eb204657a"
      },
      "execution_count": 10,
      "outputs": [
        {
          "output_type": "execute_result",
          "data": {
            "text/plain": [
              "'Esto es una \"cadena\"'"
            ],
            "application/vnd.google.colaboratory.intrinsic+json": {
              "type": "string"
            }
          },
          "metadata": {},
          "execution_count": 10
        }
      ]
    },
    {
      "cell_type": "code",
      "source": [
        "\"Esto \\\n",
        "es una \\\n",
        "cadena \\\n",
        "larga\""
      ],
      "metadata": {
        "colab": {
          "base_uri": "https://localhost:8080/",
          "height": 36
        },
        "id": "aI0SSheFl2dS",
        "outputId": "3fcfc418-f209-4c58-8c13-946f10429bb6"
      },
      "execution_count": 11,
      "outputs": [
        {
          "output_type": "execute_result",
          "data": {
            "text/plain": [
              "'Esto es una cadena larga'"
            ],
            "application/vnd.google.colaboratory.intrinsic+json": {
              "type": "string"
            }
          },
          "metadata": {},
          "execution_count": 11
        }
      ]
    },
    {
      "cell_type": "code",
      "source": [
        "\"\"\"Esta\n",
        "es una cadena de \n",
        "varias lineas\"\"\""
      ],
      "metadata": {
        "colab": {
          "base_uri": "https://localhost:8080/",
          "height": 36
        },
        "id": "tXTiXktsmFKv",
        "outputId": "62f9ab3a-42ff-4a71-877d-c9b50e2c6d9a"
      },
      "execution_count": 13,
      "outputs": [
        {
          "output_type": "execute_result",
          "data": {
            "text/plain": [
              "'Esta\\nes una cadena de \\nvarias lineas'"
            ],
            "application/vnd.google.colaboratory.intrinsic+json": {
              "type": "string"
            }
          },
          "metadata": {},
          "execution_count": 13
        }
      ]
    },
    {
      "cell_type": "code",
      "source": [
        "nombre = \"Addair44\"\n",
        "edad = 21\n",
        "\n",
        "f\"Nombre {nombre} y edad {edad}\""
      ],
      "metadata": {
        "colab": {
          "base_uri": "https://localhost:8080/",
          "height": 36
        },
        "id": "5uhXq4nqmKew",
        "outputId": "f0243047-210e-4e40-c1ea-34a660a28bba"
      },
      "execution_count": 16,
      "outputs": [
        {
          "output_type": "execute_result",
          "data": {
            "text/plain": [
              "'Nombre Addair44 y edad 21'"
            ],
            "application/vnd.google.colaboratory.intrinsic+json": {
              "type": "string"
            }
          },
          "metadata": {},
          "execution_count": 16
        }
      ]
    },
    {
      "cell_type": "code",
      "source": [
        "\"Nombre \" + nombre + \" y edad \" + str(edad)"
      ],
      "metadata": {
        "colab": {
          "base_uri": "https://localhost:8080/",
          "height": 36
        },
        "id": "JaN-LP5InGHD",
        "outputId": "ac80bc81-262a-4dac-9e4c-e28c2076b937"
      },
      "execution_count": 24,
      "outputs": [
        {
          "output_type": "execute_result",
          "data": {
            "text/plain": [
              "'Nombre Addair44 y edad 21'"
            ],
            "application/vnd.google.colaboratory.intrinsic+json": {
              "type": "string"
            }
          },
          "metadata": {},
          "execution_count": 24
        }
      ]
    },
    {
      "cell_type": "code",
      "source": [
        "nombre = \"Addair44\"\n",
        "edad = 21\n",
        "\n",
        "\"Nombre {}  y edad  {}\".format(nombre, edad)"
      ],
      "metadata": {
        "colab": {
          "base_uri": "https://localhost:8080/",
          "height": 36
        },
        "id": "XhEF-fk8nqE_",
        "outputId": "e4026feb-2e9c-4733-ab89-a5aedd0a642b"
      },
      "execution_count": 25,
      "outputs": [
        {
          "output_type": "execute_result",
          "data": {
            "text/plain": [
              "'Nombre Addair44  y edad  21'"
            ],
            "application/vnd.google.colaboratory.intrinsic+json": {
              "type": "string"
            }
          },
          "metadata": {},
          "execution_count": 25
        }
      ]
    },
    {
      "cell_type": "code",
      "source": [
        "nombre = \"Addair44\"\n",
        "edad = 21\n",
        "\n",
        "\"Nombre {n}  y edad  {e}\".format(n=nombre,e=edad)"
      ],
      "metadata": {
        "colab": {
          "base_uri": "https://localhost:8080/",
          "height": 36
        },
        "id": "p9AFXQP7oD7B",
        "outputId": "4e08fe76-b7cb-4e85-8b6e-1840c4608c07"
      },
      "execution_count": 29,
      "outputs": [
        {
          "output_type": "execute_result",
          "data": {
            "text/plain": [
              "'Nombre Addair44  y edad  21'"
            ],
            "application/vnd.google.colaboratory.intrinsic+json": {
              "type": "string"
            }
          },
          "metadata": {},
          "execution_count": 29
        }
      ]
    },
    {
      "cell_type": "code",
      "source": [
        "num1 = 10\n",
        "num2 = 5\n",
        "f\"{num1} + {num2} = {num1 + num2}\""
      ],
      "metadata": {
        "colab": {
          "base_uri": "https://localhost:8080/",
          "height": 36
        },
        "id": "5XPhT0kSo9kV",
        "outputId": "8946705c-46db-417e-8b32-236fdf13a754"
      },
      "execution_count": 31,
      "outputs": [
        {
          "output_type": "execute_result",
          "data": {
            "text/plain": [
              "'10 + 5 = 15'"
            ],
            "application/vnd.google.colaboratory.intrinsic+json": {
              "type": "string"
            }
          },
          "metadata": {},
          "execution_count": 31
        }
      ]
    },
    {
      "cell_type": "code",
      "source": [
        "num1 = 10\n",
        "num2 = 5\n",
        "\"{} + {} = {}\".format(num1, num2 , num1+num2)"
      ],
      "metadata": {
        "colab": {
          "base_uri": "https://localhost:8080/",
          "height": 36
        },
        "id": "D2e2mNw9pVsR",
        "outputId": "e1bb51a2-3810-4846-faa7-25d6d61f8fd5"
      },
      "execution_count": 32,
      "outputs": [
        {
          "output_type": "execute_result",
          "data": {
            "text/plain": [
              "'10 + 5 = 15'"
            ],
            "application/vnd.google.colaboratory.intrinsic+json": {
              "type": "string"
            }
          },
          "metadata": {},
          "execution_count": 32
        }
      ]
    },
    {
      "cell_type": "code",
      "source": [
        "num1 = 10\n",
        "num2 = 5\n",
        "\"{n1} + {n2} = {r}\".format(n1 = num1, n2 = num2, r = num1 + num2)"
      ],
      "metadata": {
        "colab": {
          "base_uri": "https://localhost:8080/",
          "height": 36
        },
        "id": "xP2QI-OoptAm",
        "outputId": "12008638-1f6e-4703-ca2a-cd8719222cf0"
      },
      "execution_count": 34,
      "outputs": [
        {
          "output_type": "execute_result",
          "data": {
            "text/plain": [
              "'10 + 5 = 15'"
            ],
            "application/vnd.google.colaboratory.intrinsic+json": {
              "type": "string"
            }
          },
          "metadata": {},
          "execution_count": 34
        }
      ]
    },
    {
      "cell_type": "code",
      "source": [
        "num1 = \"10\"\n",
        "num2= 5\n",
        "\"{} + {} = {}\".format(num1, num2, int(num1) + num2)"
      ],
      "metadata": {
        "colab": {
          "base_uri": "https://localhost:8080/",
          "height": 36
        },
        "id": "PtAytjgvqFF3",
        "outputId": "cfac34a4-a2da-4521-ed5c-42ee90cd8d6f"
      },
      "execution_count": 41,
      "outputs": [
        {
          "output_type": "execute_result",
          "data": {
            "text/plain": [
              "'10 + 5 = 15'"
            ],
            "application/vnd.google.colaboratory.intrinsic+json": {
              "type": "string"
            }
          },
          "metadata": {},
          "execution_count": 41
        }
      ]
    },
    {
      "cell_type": "code",
      "source": [
        "num1 = \"10\"\n",
        "num2= 5\n",
        "\n",
        "\"{} + {} = {}\".format(num1, num2, num1 +str(num2))"
      ],
      "metadata": {
        "colab": {
          "base_uri": "https://localhost:8080/",
          "height": 36
        },
        "id": "o_3VoKwSq82c",
        "outputId": "b4d94510-0f13-40e8-d1dd-8d2bb73074f2"
      },
      "execution_count": 42,
      "outputs": [
        {
          "output_type": "execute_result",
          "data": {
            "text/plain": [
              "'10 + 5 = 105'"
            ],
            "application/vnd.google.colaboratory.intrinsic+json": {
              "type": "string"
            }
          },
          "metadata": {},
          "execution_count": 42
        }
      ]
    },
    {
      "cell_type": "code",
      "source": [
        "type(nombre)"
      ],
      "metadata": {
        "colab": {
          "base_uri": "https://localhost:8080/"
        },
        "id": "Txa_twX7rKYs",
        "outputId": "d22144b7-940a-4798-ab30-5019a7c8cb8c"
      },
      "execution_count": 43,
      "outputs": [
        {
          "output_type": "execute_result",
          "data": {
            "text/plain": [
              "str"
            ]
          },
          "metadata": {},
          "execution_count": 43
        }
      ]
    },
    {
      "cell_type": "code",
      "source": [
        "cadena = \"Hola a todos\""
      ],
      "metadata": {
        "id": "EC5OAdORrRrL"
      },
      "execution_count": 44,
      "outputs": []
    },
    {
      "cell_type": "code",
      "source": [
        "cadena[0] #Imprime el valor 0 del array"
      ],
      "metadata": {
        "colab": {
          "base_uri": "https://localhost:8080/",
          "height": 36
        },
        "id": "JvoZtH35rXa5",
        "outputId": "04c4a1bf-8824-4083-fc10-a7ecd8b2c63f"
      },
      "execution_count": 46,
      "outputs": [
        {
          "output_type": "execute_result",
          "data": {
            "text/plain": [
              "'H'"
            ],
            "application/vnd.google.colaboratory.intrinsic+json": {
              "type": "string"
            }
          },
          "metadata": {},
          "execution_count": 46
        }
      ]
    },
    {
      "cell_type": "code",
      "source": [
        "cadena[-3] ==\"d\" #Imprime  una valor y da el resultado en verdadero o falso"
      ],
      "metadata": {
        "colab": {
          "base_uri": "https://localhost:8080/"
        },
        "id": "VWzgOieTrZeH",
        "outputId": "2c229b6c-27ff-43a5-cd71-230b33421f4a"
      },
      "execution_count": 53,
      "outputs": [
        {
          "output_type": "execute_result",
          "data": {
            "text/plain": [
              "True"
            ]
          },
          "metadata": {},
          "execution_count": 53
        }
      ]
    },
    {
      "cell_type": "code",
      "source": [
        "cadena[0:3] #Imprime el rango de 0 a 2"
      ],
      "metadata": {
        "colab": {
          "base_uri": "https://localhost:8080/",
          "height": 36
        },
        "id": "FlXa9jLMsCnk",
        "outputId": "dd40c138-4d8c-4bef-d5d7-c1e2e02b5f4c"
      },
      "execution_count": 54,
      "outputs": [
        {
          "output_type": "execute_result",
          "data": {
            "text/plain": [
              "'Hol'"
            ],
            "application/vnd.google.colaboratory.intrinsic+json": {
              "type": "string"
            }
          },
          "metadata": {},
          "execution_count": 54
        }
      ]
    },
    {
      "cell_type": "code",
      "source": [
        "cadena[:] #Imprime el array completo"
      ],
      "metadata": {
        "colab": {
          "base_uri": "https://localhost:8080/",
          "height": 36
        },
        "id": "xjHBGNWxsP3h",
        "outputId": "3b1376c3-a841-4729-8d5c-dc7e6e03c91a"
      },
      "execution_count": 55,
      "outputs": [
        {
          "output_type": "execute_result",
          "data": {
            "text/plain": [
              "'Hola a todos'"
            ],
            "application/vnd.google.colaboratory.intrinsic+json": {
              "type": "string"
            }
          },
          "metadata": {},
          "execution_count": 55
        }
      ]
    },
    {
      "cell_type": "code",
      "source": [
        "cadena[:4] #Incia en 0 hasta el 3"
      ],
      "metadata": {
        "colab": {
          "base_uri": "https://localhost:8080/",
          "height": 36
        },
        "id": "rSV2NRT3sjuK",
        "outputId": "5bf3bd11-ab19-4054-b2cc-c278150ab62d"
      },
      "execution_count": 57,
      "outputs": [
        {
          "output_type": "execute_result",
          "data": {
            "text/plain": [
              "'Hola'"
            ],
            "application/vnd.google.colaboratory.intrinsic+json": {
              "type": "string"
            }
          },
          "metadata": {},
          "execution_count": 57
        }
      ]
    },
    {
      "cell_type": "code",
      "source": [
        "cadena[0:] #Llega al final del array"
      ],
      "metadata": {
        "colab": {
          "base_uri": "https://localhost:8080/",
          "height": 36
        },
        "id": "x08KcjFHstyu",
        "outputId": "b8a28b7e-86d9-4790-d7ab-388f320f10cc"
      },
      "execution_count": 58,
      "outputs": [
        {
          "output_type": "execute_result",
          "data": {
            "text/plain": [
              "'Hola a todos'"
            ],
            "application/vnd.google.colaboratory.intrinsic+json": {
              "type": "string"
            }
          },
          "metadata": {},
          "execution_count": 58
        }
      ]
    },
    {
      "cell_type": "code",
      "source": [
        "cadena = \"Hola\"\n",
        "for  c in cadena:\n",
        "      print(c)"
      ],
      "metadata": {
        "colab": {
          "base_uri": "https://localhost:8080/"
        },
        "id": "vaA8tdEVtTwK",
        "outputId": "18f27109-98c0-4113-b27c-3369c3cf24a4"
      },
      "execution_count": 59,
      "outputs": [
        {
          "output_type": "stream",
          "name": "stdout",
          "text": [
            "H\n",
            "o\n",
            "l\n",
            "a\n"
          ]
        }
      ]
    },
    {
      "cell_type": "code",
      "source": [
        "cadena = \"Hola\"\n",
        "for i in range(len(cadena)):\n",
        "    print(cadena[i])"
      ],
      "metadata": {
        "colab": {
          "base_uri": "https://localhost:8080/"
        },
        "id": "wEv2ZSR0teaB",
        "outputId": "f79ce1a4-aae9-45de-eee3-602d52581e7c"
      },
      "execution_count": 63,
      "outputs": [
        {
          "output_type": "stream",
          "name": "stdout",
          "text": [
            "H\n",
            "o\n",
            "l\n",
            "a\n"
          ]
        }
      ]
    }
  ]
}